{
 "cells": [
  {
   "cell_type": "markdown",
   "id": "306f1a67-4f1c-4aed-8f80-2a8458a1bce5",
   "metadata": {},
   "source": [
    "# Stock data analysis"
   ]
  },
  {
   "cell_type": "code",
   "execution_count": 1,
   "id": "4e2a9393-7767-488e-a8bf-27c12dca35bd",
   "metadata": {
    "execution": {
     "iopub.execute_input": "2025-04-23T00:25:30.029048Z",
     "iopub.status.busy": "2025-04-23T00:25:30.028019Z",
     "iopub.status.idle": "2025-04-23T00:25:30.736592Z",
     "shell.execute_reply": "2025-04-23T00:25:30.735943Z",
     "shell.execute_reply.started": "2025-04-23T00:25:30.029022Z"
    }
   },
   "outputs": [],
   "source": [
    "import os\n",
    "import requests\n",
    "from dotenv import load_dotenv\n",
    "from bs4 import BeautifulSoup\n",
    "from IPython.display import Markdown, display\n",
    "from openai import OpenAI\n",
    "\n",
    "# If you get an error running this cell, then please head over to the troubleshooting notebook!"
   ]
  },
  {
   "cell_type": "markdown",
   "id": "6900b2a8-6384-4316-8aaa-5e519fca4254",
   "metadata": {},
   "source": [
    "# Connecting to OpenAI"
   ]
  },
  {
   "cell_type": "code",
   "execution_count": 2,
   "id": "7b87cadb-d513-4303-baee-a37b6f938e4d",
   "metadata": {
    "execution": {
     "iopub.execute_input": "2025-04-23T00:25:31.805200Z",
     "iopub.status.busy": "2025-04-23T00:25:31.804416Z",
     "iopub.status.idle": "2025-04-23T00:25:31.811364Z",
     "shell.execute_reply": "2025-04-23T00:25:31.810740Z",
     "shell.execute_reply.started": "2025-04-23T00:25:31.805172Z"
    }
   },
   "outputs": [
    {
     "name": "stdout",
     "output_type": "stream",
     "text": [
      "API key found and looks good so far!\n"
     ]
    }
   ],
   "source": [
    "# Load environment variables in a file called .env\n",
    "\n",
    "load_dotenv(override=True)\n",
    "api_key = os.getenv('OPENAI_API_KEY')\n",
    "\n",
    "# Check the key\n",
    "\n",
    "if not api_key:\n",
    "    print(\"No API key was found - please head over to the troubleshooting notebook in this folder to identify & fix!\")\n",
    "elif not api_key.startswith(\"sk-proj-\"):\n",
    "    print(\"An API key was found, but it doesn't start sk-proj-; please check you're using the right key - see troubleshooting notebook\")\n",
    "elif api_key.strip() != api_key:\n",
    "    print(\"An API key was found, but it looks like it might have space or tab characters at the start or end - please remove them - see troubleshooting notebook\")\n",
    "else:\n",
    "    print(\"API key found and looks good so far!\")\n"
   ]
  },
  {
   "cell_type": "code",
   "execution_count": 3,
   "id": "019974d9-f3ad-4a8a-b5f9-0a3719aea2d3",
   "metadata": {
    "execution": {
     "iopub.execute_input": "2025-04-23T00:25:34.750898Z",
     "iopub.status.busy": "2025-04-23T00:25:34.750587Z",
     "iopub.status.idle": "2025-04-23T00:25:34.801197Z",
     "shell.execute_reply": "2025-04-23T00:25:34.800488Z",
     "shell.execute_reply.started": "2025-04-23T00:25:34.750872Z"
    }
   },
   "outputs": [],
   "source": [
    "openai = OpenAI()"
   ]
  },
  {
   "cell_type": "code",
   "execution_count": 4,
   "id": "51d42a08-188e-4c56-9578-47cd549bd1d8",
   "metadata": {
    "execution": {
     "iopub.execute_input": "2025-04-23T00:25:35.981230Z",
     "iopub.status.busy": "2025-04-23T00:25:35.981009Z",
     "iopub.status.idle": "2025-04-23T00:25:35.985410Z",
     "shell.execute_reply": "2025-04-23T00:25:35.984599Z",
     "shell.execute_reply.started": "2025-04-23T00:25:35.981215Z"
    }
   },
   "outputs": [],
   "source": [
    "from urllib.parse import urlencode\n",
    "import datetime\n",
    "\n",
    "headers = {\n",
    " \"User-Agent\": \"Mozilla/5.0 (Windows NT 10.0; Win64; x64) AppleWebKit/537.36 (KHTML, like Gecko) Chrome/117.0.0.0 Safari/537.36\"\n",
    "}"
   ]
  },
  {
   "cell_type": "code",
   "execution_count": 5,
   "id": "682eff74-55c4-4d4b-b267-703edbc293c7",
   "metadata": {
    "execution": {
     "iopub.execute_input": "2025-04-23T00:25:47.823250Z",
     "iopub.status.busy": "2025-04-23T00:25:47.823021Z",
     "iopub.status.idle": "2025-04-23T00:25:47.829349Z",
     "shell.execute_reply": "2025-04-23T00:25:47.828722Z",
     "shell.execute_reply.started": "2025-04-23T00:25:47.823236Z"
    }
   },
   "outputs": [],
   "source": [
    "class YahooFinanceWebsite:\n",
    "    def __init__(self, stock_symbol):\n",
    "        \"\"\"\n",
    "        Create this Website object from the given url using the BeautifulSoup library\n",
    "        \"\"\"\n",
    "        self.stock_symbol = stock_symbol.upper()\n",
    "\n",
    "    def __build_url(self, params):\n",
    "        base_url = f\"https://finance.yahoo.com/quote/{self.stock_symbol}/history/\"\n",
    "        query_string = urlencode(params)\n",
    "        return f\"{base_url}?{query_string}\"\n",
    "\n",
    "    def get_stock_data(self):\n",
    "        datetime_now = datetime.datetime.now()\n",
    "        datetime_year_ago = datetime_now - datetime.timedelta(days=365)\n",
    "        params = {\"frequency\": \"1wk\", \"period1\": datetime_year_ago.timestamp(), \"period2\": datetime_now.timestamp()}\n",
    "        url = self.__build_url(params)\n",
    "        response = requests.get(url, headers=headers)\n",
    "\n",
    "        soup = BeautifulSoup(response.content, 'html.parser')\n",
    "        \n",
    "        title = soup.title.string if soup.title else \"No title found\"\n",
    "        for irrelevant in soup.body([\"script\", \"style\", \"img\", \"input\"]):\n",
    "            irrelevant.decompose()\n",
    "\n",
    "        html_table_data = soup.find(\"table\")\n",
    "\n",
    "        return title, html_table_data"
   ]
  },
  {
   "cell_type": "code",
   "execution_count": 6,
   "id": "70b8d7e7-51e7-4392-9b85-9ac9f67a907c",
   "metadata": {
    "execution": {
     "iopub.execute_input": "2025-04-23T00:26:02.090636Z",
     "iopub.status.busy": "2025-04-23T00:26:02.090330Z",
     "iopub.status.idle": "2025-04-23T00:26:02.094947Z",
     "shell.execute_reply": "2025-04-23T00:26:02.094275Z",
     "shell.execute_reply.started": "2025-04-23T00:26:02.090620Z"
    }
   },
   "outputs": [],
   "source": [
    "def build_stock_analysis_prompt(stock_symbol, title, stock_table_data):\n",
    "    sys_prompt = r\"\"\"You are an assistant that analyzes the contents of HTML formated table that contains data on a specific stock.\n",
    "    The HTML table contains the date, open price, close price, low and highs aggregated for every week over one year timeframe.\n",
    "    Ignoring text, tags or html attributes that might be navigation related. \n",
    "    Respond in Markdown format\"\"\"\n",
    "    \n",
    "    user_prompt = f\"The data provided below in the HTML table format for {stock_symbol} from the Yahoo Finances.\\\n",
    "    Make the explaination easy enough for a newbie to understand. \\\n",
    "    Analyze and Summarize the trends on this stock:\\n{stock_table_data}\\n\\n\\\n",
    "    Also, calculate the total returns in percentage one could have expected over this period.\"\n",
    "    \n",
    "    return [\n",
    "        {\"role\": \"system\", \"content\": sys_prompt},\n",
    "        {\"role\": \"user\", \"content\": user_prompt}\n",
    "    ]"
   ]
  },
  {
   "cell_type": "code",
   "execution_count": 7,
   "id": "de514421-4cc8-4881-85b4-97f03e94c589",
   "metadata": {
    "execution": {
     "iopub.execute_input": "2025-04-23T00:26:03.586730Z",
     "iopub.status.busy": "2025-04-23T00:26:03.586507Z",
     "iopub.status.idle": "2025-04-23T00:26:03.590737Z",
     "shell.execute_reply": "2025-04-23T00:26:03.590172Z",
     "shell.execute_reply.started": "2025-04-23T00:26:03.586714Z"
    }
   },
   "outputs": [],
   "source": [
    "def analyze_stock_trends(stock_symbol):\n",
    "    stock_data_page = YahooFinanceWebsite(stock_symbol)\n",
    "    title, stock_table_data = stock_data_page.get_stock_data()\n",
    "    response = openai.chat.completions.create(\n",
    "        model = \"gpt-4o-mini\",\n",
    "        messages = build_stock_analysis_prompt(stock_symbol, title, stock_table_data)\n",
    "    )\n",
    "    return response.choices[0].message.content\n",
    "\n",
    "def display_analysis(stock_symbol):\n",
    "    display(Markdown(analyze_stock_trends(stock_symbol)))"
   ]
  },
  {
   "cell_type": "code",
   "execution_count": 8,
   "id": "41acc36f-484a-4257-a240-cf27520e7396",
   "metadata": {
    "execution": {
     "iopub.execute_input": "2025-04-23T00:26:08.067292Z",
     "iopub.status.busy": "2025-04-23T00:26:08.067067Z",
     "iopub.status.idle": "2025-04-23T00:26:26.037048Z",
     "shell.execute_reply": "2025-04-23T00:26:26.036579Z",
     "shell.execute_reply.started": "2025-04-23T00:26:08.067278Z"
    }
   },
   "outputs": [
    {
     "data": {
      "text/markdown": [
       "### Analysis and Summary of GOOG Stock Trends\n",
       "\n",
       "The provided data represents the weekly closing prices and key metrics for Google (GOOG) over a span of time. Here’s a breakdown of the observed trends and a calculation of the total returns over this period.\n",
       "\n",
       "#### Key Metrics Explained\n",
       "1. **Open Price**: The price of the stock when the market opens for that week.\n",
       "2. **High Price**: The maximum price the stock reached during the week.\n",
       "3. **Low Price**: The minimum price the stock reached during the week.\n",
       "4. **Close Price**: The price of the stock when the market closes for that week.\n",
       "5. **Adjusted Close Price**: The closing price adjusted for stock splits and dividends, giving a better representation of the investment's value.\n",
       "6. **Volume**: The number of shares traded during that week.\n",
       "\n",
       "#### Observed Trends\n",
       "- **Peak Performance**: The highest closing value in the analyzed period was **205.60** on January 27, 2025, showing strong recent performance.\n",
       "- **Declining Prices**: The stock reached a lower price of **147.74** on March 31, 2025. This represents a notable drop from the previous high, indicating volatility and perhaps market correction.\n",
       "- **Recent Recovery**: Following the drop, there was a slight recovery with the stock closing at **153.90** on April 22, 2025. This suggests investors may have regained confidence.\n",
       "- **Volume Fluctuations**: There’s significant variation in trading volumes, with the highest volume recorded at **187,459,400** shares traded on April 7, 2025, which shows heightened activity likely associated with price fluctuations.\n",
       "\n",
       "#### Total Returns Calculation\n",
       "To assess total returns over the period:\n",
       "1. Determine the initial investment amount. Assuming starting on **April 22, 2024**, with a closing price of **173.69**.\n",
       "2. Determine the final value on **April 22, 2025**, with a closing price of **153.90**.\n",
       "\n",
       "The formula to calculate total returns is:\n",
       "\n",
       "\\[\n",
       "\\text{Total Returns (\\%)} = \\left( \\frac{\\text{Final Price} - \\text{Initial Price}}{\\text{Initial Price}} \\right) \\times 100\n",
       "\\]\n",
       "\n",
       "Substituting the values:\n",
       "\n",
       "- Initial Price (April 22, 2024): **173.69**\n",
       "- Final Price (April 22, 2025): **153.90**\n",
       "\n",
       "\\[\n",
       "\\text{Total Returns (\\%)} = \\left( \\frac{153.90 - 173.69}{173.69} \\right) \\times 100 \\approx -11.43\\%\n",
       "\\]\n",
       "\n",
       "### Conclusion\n",
       "Overall, Google’s stock has seen considerable volatility over the past year with a noticeable drop in price towards the end of the analyzed period. Investors who began their positions a year ago would have experienced a total return of approximately **-11.43%**, indicating a loss. This trend highlights the importance of monitoring stock performance and the associated risks when investing."
      ],
      "text/plain": [
       "<IPython.core.display.Markdown object>"
      ]
     },
     "metadata": {},
     "output_type": "display_data"
    }
   ],
   "source": [
    "display_analysis(\"GOOG\")"
   ]
  },
  {
   "cell_type": "code",
   "execution_count": 9,
   "id": "7e09541f-bbc4-4cf3-a1ef-9ed5e1b718e4",
   "metadata": {
    "execution": {
     "iopub.execute_input": "2025-04-23T00:27:08.435337Z",
     "iopub.status.busy": "2025-04-23T00:27:08.435119Z",
     "iopub.status.idle": "2025-04-23T00:27:18.790993Z",
     "shell.execute_reply": "2025-04-23T00:27:18.790389Z",
     "shell.execute_reply.started": "2025-04-23T00:27:08.435324Z"
    }
   },
   "outputs": [
    {
     "data": {
      "text/markdown": [
       "### Stock Analysis for PFE (Pfizer Inc.)\n",
       "\n",
       "#### Overview of Stock Trends\n",
       "\n",
       "Based on the provided data for Pfizer (PFE) over the timeframe of approximately one year, we can summarize several key trends:\n",
       "\n",
       "1. **Price Movements**:\n",
       "   - The stock price fluctuated significantly throughout the year, with highs and lows indicating volatility.\n",
       "   - The highest recorded closing price was approximately **$29.22** in October 2024, while the lowest was around **$21.91** in early April 2025.\n",
       "   - Notably, as the year progressed towards early 2025, there was a general downward trend in the stock price from September 2024 onward.\n",
       "\n",
       "2. **Volume of Transactions**:\n",
       "   - Trading volume varied considerably, with some weeks experiencing exceptionally high trading volumes (e.g., over **493 million** shares on March 17, 2025). \n",
       "   - Higher trading volumes can often indicate increased investor interest, whether due to positive or negative news affecting the company or industry.\n",
       "\n",
       "3. **Dividends**:\n",
       "   - There were periodic dividend payments noted. For instance, dividends of **$0.42** and **$0.43** were declared in parts of November and January, suggesting that Pfizer continues to return value to its shareholders.\n",
       "\n",
       "4. **Adjusted Close Prices**:\n",
       "   - The adjusted close price reflects the stock value adjusted for any dividends and stock splits. It provides a more accurate representation of an investor's actual return and is useful for assessing long-term performance.\n",
       "\n",
       "#### Summary of Price Movement\n",
       "\n",
       "- **Start of Period (Apr 22, 2024)**: $25.40\n",
       "- **End of Period (Apr 22, 2025)**: $22.53\n",
       "\n",
       "From this data, we can calculate the **total return** for an investor who held onto the stock from the start to the end of this period using the formula:\n",
       "\n",
       "\\[\n",
       "\\text{Total Return (\\%)} = \\left( \\frac{\\text{End Price} - \\text{Start Price}}{\\text{Start Price}} \\right) \\times 100\n",
       "\\]\n",
       "\n",
       "Plugging in the values:\n",
       "\n",
       "- Start Price = 25.40\n",
       "- End Price = 22.53\n",
       "\n",
       "\\[\n",
       "\\text{Total Return (\\%)} = \\left( \\frac{22.53 - 25.40}{25.40} \\right) \\times 100 \\approx -11.3\\%\n",
       "\\]\n",
       "\n",
       "### Conclusion\n",
       "\n",
       "1. **Overall Trend**: The overall trend indicates a **decrease** in the stock price of approximately **11.3%**, signaling a declining performance of Pfizer over the past year.\n",
       "2. **Investment Caution**: Potential investors should consider the recent downward trend along with the volatility of the stock price. It's also essential to evaluate other fundamental factors affecting the stock before making an investment.\n",
       "3. **Dividends**: Despite the price drop, the regularity of dividends may still present an attractive feature for income-focused investors. \n",
       "\n",
       "Investors should continue to monitor developments within the company that could influence stock performance, including news related to product developments, market conditions, and broader economic factors."
      ],
      "text/plain": [
       "<IPython.core.display.Markdown object>"
      ]
     },
     "metadata": {},
     "output_type": "display_data"
    }
   ],
   "source": [
    "display_analysis(\"PFE\")"
   ]
  },
  {
   "cell_type": "code",
   "execution_count": null,
   "id": "e6af9395-0c5c-4265-a309-baba786bfa71",
   "metadata": {},
   "outputs": [],
   "source": [
    "display_analysis(\"AAPL\")"
   ]
  },
  {
   "cell_type": "code",
   "execution_count": null,
   "id": "afe4f6d1-a6ea-44b5-81ae-8e756cfc0d84",
   "metadata": {},
   "outputs": [],
   "source": []
  }
 ],
 "metadata": {
  "kernelspec": {
   "display_name": "Python [conda env:llms]",
   "language": "python",
   "name": "conda-env-llms-py"
  },
  "language_info": {
   "codemirror_mode": {
    "name": "ipython",
    "version": 3
   },
   "file_extension": ".py",
   "mimetype": "text/x-python",
   "name": "python",
   "nbconvert_exporter": "python",
   "pygments_lexer": "ipython3",
   "version": "3.11.12"
  }
 },
 "nbformat": 4,
 "nbformat_minor": 5
}
