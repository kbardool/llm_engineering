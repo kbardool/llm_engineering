{
 "cells": [
  {
   "cell_type": "markdown",
   "id": "c97ad592-c8be-4583-a19c-ac813e56f410",
   "metadata": {},
   "source": [
    " ## Mac Users\n",
    "\n",
    "I find some challenges while setting up this in MAC silicon M1 chip. Execute below commands in MAC terminal.\n",
    "\n",
    "1. Download chromedriver.\n",
    "2. Unzip and add it to the path.\n",
    "3. Set Extended attributes."
   ]
  },
  {
   "cell_type": "code",
   "execution_count": 1,
   "id": "4c9cccf1-c1d9-435a-8818-8f6f0f3a7da6",
   "metadata": {
    "execution": {
     "iopub.execute_input": "2025-04-27T17:46:25.577050Z",
     "iopub.status.busy": "2025-04-27T17:46:25.576808Z",
     "iopub.status.idle": "2025-04-27T17:46:25.580619Z",
     "shell.execute_reply": "2025-04-27T17:46:25.579883Z",
     "shell.execute_reply.started": "2025-04-27T17:46:25.577032Z"
    }
   },
   "outputs": [],
   "source": [
    "# cd  ~/Downloads\n",
    "# wget https://storage.googleapis.com/chrome-for-testing-public/133.0.6943.126/mac-arm64/chromedriver-mac-arm64.zip\n",
    "# wget https://storage.googleapis.com/chrome-for-testing-public/135.0.7049.114/linux64/chrome-linux64.zip\n",
    "# unzip chromedriver-mac-arm64.zip\n",
    "# sudo mv chromedriver-mac-arm64/chromedriver /usr/local/bin/\n",
    "# chmod +x /usr/local/bin/chromedriver\n",
    "# cd /usr/local/bin/\n",
    "# xattr -d com.apple.quarantine chromedriver\n",
    "# cd \n",
    "# chromedriver --version"
   ]
  },
  {
   "cell_type": "code",
   "execution_count": 2,
   "id": "17c7c79a-8ae0-4f5d-a7c8-c54aa7ba90fd",
   "metadata": {
    "execution": {
     "iopub.execute_input": "2025-04-27T17:46:25.840451Z",
     "iopub.status.busy": "2025-04-27T17:46:25.839775Z",
     "iopub.status.idle": "2025-04-27T17:46:29.061871Z",
     "shell.execute_reply": "2025-04-27T17:46:29.061217Z",
     "shell.execute_reply.started": "2025-04-27T17:46:25.840416Z"
    }
   },
   "outputs": [
    {
     "name": "stdout",
     "output_type": "stream",
     "text": [
      "Requirement already satisfied: selenium in /home/kbardool/miniconda3/envs/llms/lib/python3.11/site-packages (4.31.0)\n",
      "Requirement already satisfied: urllib3<3,>=1.26 in /home/kbardool/miniconda3/envs/llms/lib/python3.11/site-packages (from urllib3[socks]<3,>=1.26->selenium) (2.4.0)\n",
      "Requirement already satisfied: trio~=0.17 in /home/kbardool/miniconda3/envs/llms/lib/python3.11/site-packages (from selenium) (0.30.0)\n",
      "Requirement already satisfied: trio-websocket~=0.9 in /home/kbardool/miniconda3/envs/llms/lib/python3.11/site-packages (from selenium) (0.12.2)\n",
      "Requirement already satisfied: certifi>=2021.10.8 in /home/kbardool/miniconda3/envs/llms/lib/python3.11/site-packages (from selenium) (2025.1.31)\n",
      "Requirement already satisfied: typing_extensions~=4.9 in /home/kbardool/miniconda3/envs/llms/lib/python3.11/site-packages (from selenium) (4.13.2)\n",
      "Requirement already satisfied: websocket-client~=1.8 in /home/kbardool/miniconda3/envs/llms/lib/python3.11/site-packages (from selenium) (1.8.0)\n",
      "Requirement already satisfied: attrs>=23.2.0 in /home/kbardool/miniconda3/envs/llms/lib/python3.11/site-packages (from trio~=0.17->selenium) (25.3.0)\n",
      "Requirement already satisfied: sortedcontainers in /home/kbardool/miniconda3/envs/llms/lib/python3.11/site-packages (from trio~=0.17->selenium) (2.4.0)\n",
      "Requirement already satisfied: idna in /home/kbardool/miniconda3/envs/llms/lib/python3.11/site-packages (from trio~=0.17->selenium) (3.10)\n",
      "Requirement already satisfied: outcome in /home/kbardool/miniconda3/envs/llms/lib/python3.11/site-packages (from trio~=0.17->selenium) (1.3.0.post0)\n",
      "Requirement already satisfied: sniffio>=1.3.0 in /home/kbardool/miniconda3/envs/llms/lib/python3.11/site-packages (from trio~=0.17->selenium) (1.3.1)\n",
      "Requirement already satisfied: wsproto>=0.14 in /home/kbardool/miniconda3/envs/llms/lib/python3.11/site-packages (from trio-websocket~=0.9->selenium) (1.2.0)\n",
      "Requirement already satisfied: pysocks!=1.5.7,<2.0,>=1.5.6 in /home/kbardool/miniconda3/envs/llms/lib/python3.11/site-packages (from urllib3[socks]<3,>=1.26->selenium) (1.7.1)\n",
      "Requirement already satisfied: h11<1,>=0.9.0 in /home/kbardool/miniconda3/envs/llms/lib/python3.11/site-packages (from wsproto>=0.14->trio-websocket~=0.9->selenium) (0.14.0)\n",
      "Requirement already satisfied: undetected-chromedriver in /home/kbardool/miniconda3/envs/llms/lib/python3.11/site-packages (3.5.5)\n",
      "Requirement already satisfied: selenium>=4.9.0 in /home/kbardool/miniconda3/envs/llms/lib/python3.11/site-packages (from undetected-chromedriver) (4.31.0)\n",
      "Requirement already satisfied: requests in /home/kbardool/miniconda3/envs/llms/lib/python3.11/site-packages (from undetected-chromedriver) (2.32.3)\n",
      "Requirement already satisfied: websockets in /home/kbardool/miniconda3/envs/llms/lib/python3.11/site-packages (from undetected-chromedriver) (15.0.1)\n",
      "Requirement already satisfied: urllib3<3,>=1.26 in /home/kbardool/miniconda3/envs/llms/lib/python3.11/site-packages (from urllib3[socks]<3,>=1.26->selenium>=4.9.0->undetected-chromedriver) (2.4.0)\n",
      "Requirement already satisfied: trio~=0.17 in /home/kbardool/miniconda3/envs/llms/lib/python3.11/site-packages (from selenium>=4.9.0->undetected-chromedriver) (0.30.0)\n",
      "Requirement already satisfied: trio-websocket~=0.9 in /home/kbardool/miniconda3/envs/llms/lib/python3.11/site-packages (from selenium>=4.9.0->undetected-chromedriver) (0.12.2)\n",
      "Requirement already satisfied: certifi>=2021.10.8 in /home/kbardool/miniconda3/envs/llms/lib/python3.11/site-packages (from selenium>=4.9.0->undetected-chromedriver) (2025.1.31)\n",
      "Requirement already satisfied: typing_extensions~=4.9 in /home/kbardool/miniconda3/envs/llms/lib/python3.11/site-packages (from selenium>=4.9.0->undetected-chromedriver) (4.13.2)\n",
      "Requirement already satisfied: websocket-client~=1.8 in /home/kbardool/miniconda3/envs/llms/lib/python3.11/site-packages (from selenium>=4.9.0->undetected-chromedriver) (1.8.0)\n",
      "Requirement already satisfied: charset_normalizer<4,>=2 in /home/kbardool/miniconda3/envs/llms/lib/python3.11/site-packages (from requests->undetected-chromedriver) (3.4.1)\n",
      "Requirement already satisfied: idna<4,>=2.5 in /home/kbardool/miniconda3/envs/llms/lib/python3.11/site-packages (from requests->undetected-chromedriver) (3.10)\n",
      "Requirement already satisfied: attrs>=23.2.0 in /home/kbardool/miniconda3/envs/llms/lib/python3.11/site-packages (from trio~=0.17->selenium>=4.9.0->undetected-chromedriver) (25.3.0)\n",
      "Requirement already satisfied: sortedcontainers in /home/kbardool/miniconda3/envs/llms/lib/python3.11/site-packages (from trio~=0.17->selenium>=4.9.0->undetected-chromedriver) (2.4.0)\n",
      "Requirement already satisfied: outcome in /home/kbardool/miniconda3/envs/llms/lib/python3.11/site-packages (from trio~=0.17->selenium>=4.9.0->undetected-chromedriver) (1.3.0.post0)\n",
      "Requirement already satisfied: sniffio>=1.3.0 in /home/kbardool/miniconda3/envs/llms/lib/python3.11/site-packages (from trio~=0.17->selenium>=4.9.0->undetected-chromedriver) (1.3.1)\n",
      "Requirement already satisfied: wsproto>=0.14 in /home/kbardool/miniconda3/envs/llms/lib/python3.11/site-packages (from trio-websocket~=0.9->selenium>=4.9.0->undetected-chromedriver) (1.2.0)\n",
      "Requirement already satisfied: pysocks!=1.5.7,<2.0,>=1.5.6 in /home/kbardool/miniconda3/envs/llms/lib/python3.11/site-packages (from urllib3[socks]<3,>=1.26->selenium>=4.9.0->undetected-chromedriver) (1.7.1)\n",
      "Requirement already satisfied: h11<1,>=0.9.0 in /home/kbardool/miniconda3/envs/llms/lib/python3.11/site-packages (from wsproto>=0.14->trio-websocket~=0.9->selenium>=4.9.0->undetected-chromedriver) (0.14.0)\n",
      "Requirement already satisfied: beautifulsoup4 in /home/kbardool/miniconda3/envs/llms/lib/python3.11/site-packages (4.13.4)\n",
      "Requirement already satisfied: soupsieve>1.2 in /home/kbardool/miniconda3/envs/llms/lib/python3.11/site-packages (from beautifulsoup4) (2.5)\n",
      "Requirement already satisfied: typing-extensions>=4.0.0 in /home/kbardool/miniconda3/envs/llms/lib/python3.11/site-packages (from beautifulsoup4) (4.13.2)\n"
     ]
    }
   ],
   "source": [
    "!pip install selenium\n",
    "!pip install undetected-chromedriver\n",
    "!pip install beautifulsoup4"
   ]
  },
  {
   "cell_type": "code",
   "execution_count": 3,
   "id": "c10bd630-2dfd-4572-8c21-2dc4c6a372ab",
   "metadata": {
    "execution": {
     "iopub.execute_input": "2025-04-27T17:46:29.979378Z",
     "iopub.status.busy": "2025-04-27T17:46:29.978801Z",
     "iopub.status.idle": "2025-04-27T17:46:31.118959Z",
     "shell.execute_reply": "2025-04-27T17:46:31.118065Z",
     "shell.execute_reply.started": "2025-04-27T17:46:29.979356Z"
    }
   },
   "outputs": [],
   "source": [
    "from selenium import webdriver\n",
    "from selenium.webdriver.chrome.service import Service\n",
    "from selenium.webdriver.common.by import By\n",
    "from selenium.webdriver.chrome.options import Options\n",
    "from openai import OpenAI\n",
    "import os\n",
    "import requests\n",
    "from dotenv import load_dotenv\n",
    "from bs4 import BeautifulSoup\n",
    "from IPython.display import Markdown, display\n",
    "from openai import OpenAI"
   ]
  },
  {
   "cell_type": "code",
   "execution_count": 4,
   "id": "6fb3641d-e9f8-4f5b-bb9d-ee0e971cccdb",
   "metadata": {
    "execution": {
     "iopub.execute_input": "2025-04-27T17:46:36.430825Z",
     "iopub.status.busy": "2025-04-27T17:46:36.430187Z",
     "iopub.status.idle": "2025-04-27T17:46:36.436535Z",
     "shell.execute_reply": "2025-04-27T17:46:36.435249Z",
     "shell.execute_reply.started": "2025-04-27T17:46:36.430794Z"
    }
   },
   "outputs": [],
   "source": [
    "OLLAMA_API = \"http://localhost:11434/api/chat\"\n",
    "HEADERS = {\"Content-Type\": \"application/json\"}\n",
    "MODEL = \"llama3.2\"\n",
    "PATH_TO_CHROME_DRIVER = '/usr/local/bin/chromedriver'\n",
    "system_prompt = \"You are an assistant that analyzes the contents of a website \\\n",
    "and provides a short summary, ignoring text that might be navigation related. \\\n",
    "Respond in markdown. Highlight all the products this website offered and also find when website was created.\"\n"
   ]
  },
  {
   "cell_type": "code",
   "execution_count": 5,
   "id": "5d57e958",
   "metadata": {
    "execution": {
     "iopub.execute_input": "2025-04-27T17:46:37.841646Z",
     "iopub.status.busy": "2025-04-27T17:46:37.840977Z",
     "iopub.status.idle": "2025-04-27T17:46:37.845491Z",
     "shell.execute_reply": "2025-04-27T17:46:37.844919Z",
     "shell.execute_reply.started": "2025-04-27T17:46:37.841623Z"
    }
   },
   "outputs": [],
   "source": [
    "class Website:\n",
    "    url: str\n",
    "    title: str\n",
    "    text: str\n",
    "\n",
    "    def __init__(self, url):\n",
    "        self.url = url\n",
    "\n",
    "        options = Options()\n",
    "\n",
    "        options.add_argument(\"--no-sandbox\")\n",
    "        options.add_argument(\"--disable-dev-shm-usage\")\n",
    "\n",
    "        service = Service(PATH_TO_CHROME_DRIVER)\n",
    "        driver = webdriver.Chrome(service=service, options=options)\n",
    "        driver.get(url)\n",
    "\n",
    "        # input(\"Please complete the verification in the browser and press Enter to continue...\")\n",
    "        page_source = driver.page_source\n",
    "        driver.quit()\n",
    "\n",
    "        soup = BeautifulSoup(page_source, 'html.parser')\n",
    "        self.title = soup.title.string if soup.title else \"No title found\"\n",
    "        for irrelevant in soup([\"script\", \"style\", \"img\", \"input\"]):\n",
    "            irrelevant.decompose()\n",
    "        self.text = soup.get_text(separator=\"\\n\", strip=True)"
   ]
  },
  {
   "cell_type": "code",
   "execution_count": 6,
   "id": "56df8cd2-2707-43f6-a066-3367846929b3",
   "metadata": {
    "execution": {
     "iopub.execute_input": "2025-04-27T17:46:38.351294Z",
     "iopub.status.busy": "2025-04-27T17:46:38.350670Z",
     "iopub.status.idle": "2025-04-27T17:46:38.356400Z",
     "shell.execute_reply": "2025-04-27T17:46:38.355581Z",
     "shell.execute_reply.started": "2025-04-27T17:46:38.351260Z"
    }
   },
   "outputs": [],
   "source": [
    "def user_prompt_for(website):\n",
    "    user_prompt = f\"You are looking at a website titled {website.title}\"\n",
    "    user_prompt += \"\\nThe contents of this website is as follows; \\\n",
    "please provide a short summary of this website in markdown. \\\n",
    "If it includes news or announcements, then summarize these too.\\n\\n\"\n",
    "    user_prompt += website.text\n",
    "    return user_prompt\n",
    "\n",
    "\n",
    "def messages_for(website):\n",
    "    return [\n",
    "        {\"role\": \"system\", \"content\": system_prompt},\n",
    "        {\"role\": \"user\", \"content\": user_prompt_for(website)}\n",
    "    ]\n",
    "\n",
    "\n",
    "def summarize(url):\n",
    "    website = Website(url)\n",
    "    ollama_via_openai = OpenAI(base_url='http://localhost:11434/v1', api_key='ollama')\n",
    "    response = ollama_via_openai.chat.completions.create(\n",
    "        model=MODEL,\n",
    "        messages = messages_for(website)\n",
    "    )\n",
    "    return response.choices[0].message.content\n",
    "\n",
    "\n",
    "def display_summary(url):\n",
    "    summary = summarize(url)\n",
    "    display(Markdown(summary))"
   ]
  },
  {
   "cell_type": "code",
   "execution_count": 8,
   "id": "f2eb9599",
   "metadata": {
    "execution": {
     "iopub.execute_input": "2025-04-27T17:48:24.798088Z",
     "iopub.status.busy": "2025-04-27T17:48:24.797277Z",
     "iopub.status.idle": "2025-04-27T17:48:48.501856Z",
     "shell.execute_reply": "2025-04-27T17:48:48.501150Z",
     "shell.execute_reply.started": "2025-04-27T17:48:24.798062Z"
    }
   },
   "outputs": [
    {
     "data": {
      "text/markdown": [
       "It appears that you have accessed the CNN website. If you need help with a specific topic or question, feel free to ask and I'll do my best to assist you.\n",
       "\n",
       "Alternatively, if you'd like to browse through some of the topics and podcasts available on the site, here are a few suggestions:\n",
       "\n",
       "* **News**: You can explore news articles from around the world, including US and international headlines, politics, business, and more.\n",
       "* **Podcasts**: CNN offers a range of podcasts covering various topics, such as:\n",
       "\t+ \"The 8:00 AM Show with Andy Cohen\" (entertainment)\n",
       "\t+ \"CNN Politics Podcast\" (politics)\n",
       "\t+ \"New Day USA with Alisyn Camerota\" (current events)\n",
       "* **Entertainment**: Check out articles and videos on the latest movies, TV shows, music, and celebrity gossip.\n",
       "* **Business**: Stay up-to-date with the latest business news and financial market analysis.\n",
       "\n",
       "Let me know if you have a specific topic or question in mind!"
      ],
      "text/plain": [
       "<IPython.core.display.Markdown object>"
      ]
     },
     "metadata": {},
     "output_type": "display_data"
    }
   ],
   "source": [
    "TARGET_URL = \"https://ae.almosafer.com\"\n",
    "TARGET_URL = \"https://www.cnn.com\"\n",
    "display_summary(TARGET_URL)"
   ]
  },
  {
   "cell_type": "code",
   "execution_count": 12,
   "id": "31b66c0f-6b45-4986-b77c-758625945a91",
   "metadata": {
    "execution": {
     "iopub.execute_input": "2025-04-27T17:45:39.372184Z",
     "iopub.status.busy": "2025-04-27T17:45:39.371654Z",
     "iopub.status.idle": "2025-04-27T17:45:41.674045Z",
     "shell.execute_reply": "2025-04-27T17:45:41.672969Z",
     "shell.execute_reply.started": "2025-04-27T17:45:39.372154Z"
    }
   },
   "outputs": [],
   "source": []
  },
  {
   "cell_type": "code",
   "execution_count": 13,
   "id": "dd1f7690-1706-4622-b074-84d24c40579c",
   "metadata": {
    "execution": {
     "iopub.execute_input": "2025-04-27T17:45:48.857807Z",
     "iopub.status.busy": "2025-04-27T17:45:48.857428Z",
     "iopub.status.idle": "2025-04-27T17:45:51.360272Z",
     "shell.execute_reply": "2025-04-27T17:45:51.359339Z",
     "shell.execute_reply.started": "2025-04-27T17:45:48.857785Z"
    }
   },
   "outputs": [],
   "source": [
    "from selenium import webdriver\n",
    "from selenium.webdriver.chrome.options import Options\n",
    "from selenium.webdriver.chrome.service import Service\n",
    "\n",
    "# Set up Chrome options\n",
    "options = webdriver.ChromeOptions()\n",
    "# options.add_argument('--no-sandbox')\n",
    "# options.add_argument('--disable-dev-shm-usage')\n",
    "\n",
    "# Create service object\n",
    "service = Service('/usr/local/bin/chromedriver')\n",
    "\n",
    "# Initialize driver with service and options\n",
    "driver = webdriver.Chrome(service=service, options=options)"
   ]
  },
  {
   "cell_type": "code",
   "execution_count": 14,
   "id": "1842b1c5-4c3f-44c7-a032-c8c81288347b",
   "metadata": {
    "execution": {
     "iopub.execute_input": "2025-04-27T17:45:52.837549Z",
     "iopub.status.busy": "2025-04-27T17:45:52.836696Z",
     "iopub.status.idle": "2025-04-27T17:45:52.849642Z",
     "shell.execute_reply": "2025-04-27T17:45:52.848221Z",
     "shell.execute_reply.started": "2025-04-27T17:45:52.837501Z"
    }
   },
   "outputs": [
    {
     "data": {
      "text/plain": [
       "<selenium.webdriver.chrome.webdriver.WebDriver (session=\"efeb4b6485093d8eb988c83fa7d90655\")>"
      ]
     },
     "execution_count": 14,
     "metadata": {},
     "output_type": "execute_result"
    }
   ],
   "source": [
    "driver"
   ]
  },
  {
   "cell_type": "code",
   "execution_count": null,
   "id": "f767c6bd-60ee-4f0f-a3bb-6cc64e261102",
   "metadata": {},
   "outputs": [],
   "source": []
  }
 ],
 "metadata": {
  "kernelspec": {
   "display_name": "Python [conda env:llms]",
   "language": "python",
   "name": "conda-env-llms-py"
  },
  "language_info": {
   "codemirror_mode": {
    "name": "ipython",
    "version": 3
   },
   "file_extension": ".py",
   "mimetype": "text/x-python",
   "name": "python",
   "nbconvert_exporter": "python",
   "pygments_lexer": "ipython3",
   "version": "3.11.12"
  }
 },
 "nbformat": 4,
 "nbformat_minor": 5
}
