{
 "cells": [
  {
   "cell_type": "markdown",
   "id": "83bbedd0-eb58-48de-992e-484071b10104",
   "metadata": {},
   "source": [
    "# Web Scraper with JavaScript Support\n",
    "Uses day1-webscraping-selenium-for-javascript.ipynb solution simplified so easy to run.\n",
    "\n",
    "## Install dependencies\n",
    "Uncomment and run once"
   ]
  },
  {
   "cell_type": "code",
   "execution_count": 2,
   "id": "f2d91971-9dd0-4714-8ec7-f1fb25f95140",
   "metadata": {
    "execution": {
     "iopub.execute_input": "2025-04-27T17:51:50.990293Z",
     "iopub.status.busy": "2025-04-27T17:51:50.989858Z",
     "iopub.status.idle": "2025-04-27T17:51:52.450966Z",
     "shell.execute_reply": "2025-04-27T17:51:52.450278Z",
     "shell.execute_reply.started": "2025-04-27T17:51:50.990265Z"
    }
   },
   "outputs": [
    {
     "name": "stdout",
     "output_type": "stream",
     "text": [
      "Requirement already satisfied: undetected-chromedriver in /home/kbardool/miniconda3/envs/llms/lib/python3.11/site-packages (3.5.5)\n",
      "Requirement already satisfied: selenium>=4.9.0 in /home/kbardool/miniconda3/envs/llms/lib/python3.11/site-packages (from undetected-chromedriver) (4.31.0)\n",
      "Requirement already satisfied: requests in /home/kbardool/miniconda3/envs/llms/lib/python3.11/site-packages (from undetected-chromedriver) (2.32.3)\n",
      "Requirement already satisfied: websockets in /home/kbardool/miniconda3/envs/llms/lib/python3.11/site-packages (from undetected-chromedriver) (15.0.1)\n",
      "Requirement already satisfied: urllib3<3,>=1.26 in /home/kbardool/miniconda3/envs/llms/lib/python3.11/site-packages (from urllib3[socks]<3,>=1.26->selenium>=4.9.0->undetected-chromedriver) (2.4.0)\n",
      "Requirement already satisfied: trio~=0.17 in /home/kbardool/miniconda3/envs/llms/lib/python3.11/site-packages (from selenium>=4.9.0->undetected-chromedriver) (0.30.0)\n",
      "Requirement already satisfied: trio-websocket~=0.9 in /home/kbardool/miniconda3/envs/llms/lib/python3.11/site-packages (from selenium>=4.9.0->undetected-chromedriver) (0.12.2)\n",
      "Requirement already satisfied: certifi>=2021.10.8 in /home/kbardool/miniconda3/envs/llms/lib/python3.11/site-packages (from selenium>=4.9.0->undetected-chromedriver) (2025.1.31)\n",
      "Requirement already satisfied: typing_extensions~=4.9 in /home/kbardool/miniconda3/envs/llms/lib/python3.11/site-packages (from selenium>=4.9.0->undetected-chromedriver) (4.13.2)\n",
      "Requirement already satisfied: websocket-client~=1.8 in /home/kbardool/miniconda3/envs/llms/lib/python3.11/site-packages (from selenium>=4.9.0->undetected-chromedriver) (1.8.0)\n",
      "Requirement already satisfied: charset_normalizer<4,>=2 in /home/kbardool/miniconda3/envs/llms/lib/python3.11/site-packages (from requests->undetected-chromedriver) (3.4.1)\n",
      "Requirement already satisfied: idna<4,>=2.5 in /home/kbardool/miniconda3/envs/llms/lib/python3.11/site-packages (from requests->undetected-chromedriver) (3.10)\n",
      "Requirement already satisfied: attrs>=23.2.0 in /home/kbardool/miniconda3/envs/llms/lib/python3.11/site-packages (from trio~=0.17->selenium>=4.9.0->undetected-chromedriver) (25.3.0)\n",
      "Requirement already satisfied: sortedcontainers in /home/kbardool/miniconda3/envs/llms/lib/python3.11/site-packages (from trio~=0.17->selenium>=4.9.0->undetected-chromedriver) (2.4.0)\n",
      "Requirement already satisfied: outcome in /home/kbardool/miniconda3/envs/llms/lib/python3.11/site-packages (from trio~=0.17->selenium>=4.9.0->undetected-chromedriver) (1.3.0.post0)\n",
      "Requirement already satisfied: sniffio>=1.3.0 in /home/kbardool/miniconda3/envs/llms/lib/python3.11/site-packages (from trio~=0.17->selenium>=4.9.0->undetected-chromedriver) (1.3.1)\n",
      "Requirement already satisfied: wsproto>=0.14 in /home/kbardool/miniconda3/envs/llms/lib/python3.11/site-packages (from trio-websocket~=0.9->selenium>=4.9.0->undetected-chromedriver) (1.2.0)\n",
      "Requirement already satisfied: pysocks!=1.5.7,<2.0,>=1.5.6 in /home/kbardool/miniconda3/envs/llms/lib/python3.11/site-packages (from urllib3[socks]<3,>=1.26->selenium>=4.9.0->undetected-chromedriver) (1.7.1)\n",
      "Requirement already satisfied: h11<1,>=0.9.0 in /home/kbardool/miniconda3/envs/llms/lib/python3.11/site-packages (from wsproto>=0.14->trio-websocket~=0.9->selenium>=4.9.0->undetected-chromedriver) (0.14.0)\n"
     ]
    }
   ],
   "source": [
    "# !pip install selenium\n",
    "!pip install undetected-chromedriver\n",
    "# !ollama pull llama3.2"
   ]
  },
  {
   "cell_type": "markdown",
   "id": "967258fe-3296-464c-962d-2bcf821eae67",
   "metadata": {},
   "source": [
    "## Import required dependencies"
   ]
  },
  {
   "cell_type": "code",
   "execution_count": 3,
   "id": "fe8a87c8-0475-45a1-8ca2-fb9059e5470b",
   "metadata": {
    "execution": {
     "iopub.execute_input": "2025-04-27T17:51:54.339046Z",
     "iopub.status.busy": "2025-04-27T17:51:54.338765Z",
     "iopub.status.idle": "2025-04-27T17:51:55.532305Z",
     "shell.execute_reply": "2025-04-27T17:51:55.531499Z",
     "shell.execute_reply.started": "2025-04-27T17:51:54.339027Z"
    }
   },
   "outputs": [],
   "source": [
    "# imports\n",
    "\n",
    "import os\n",
    "import requests\n",
    "from dotenv import load_dotenv\n",
    "from bs4 import BeautifulSoup\n",
    "from IPython.display import Markdown, display\n",
    "from openai import OpenAI\n",
    "import undetected_chromedriver as uc\n",
    "from selenium.webdriver.common.by import By\n",
    "from selenium.webdriver.support.ui import WebDriverWait\n",
    "from selenium.webdriver.support import expected_conditions as EC\n",
    "import time\n",
    "from bs4 import BeautifulSoup\n",
    "\n",
    "# If you get an error running this cell, then please head over to the troubleshooting notebook!"
   ]
  },
  {
   "cell_type": "markdown",
   "id": "df60545e-2ab6-4e37-b41c-27ddf2affb92",
   "metadata": {},
   "source": [
    "## Run setup"
   ]
  },
  {
   "cell_type": "code",
   "execution_count": 4,
   "id": "a3846089-efa2-4602-8bc3-5f6f4945de64",
   "metadata": {
    "execution": {
     "iopub.execute_input": "2025-04-27T17:51:56.388498Z",
     "iopub.status.busy": "2025-04-27T17:51:56.388223Z",
     "iopub.status.idle": "2025-04-27T17:51:56.391552Z",
     "shell.execute_reply": "2025-04-27T17:51:56.390969Z",
     "shell.execute_reply.started": "2025-04-27T17:51:56.388468Z"
    }
   },
   "outputs": [],
   "source": [
    "chrome_path = \"C:/Program Files/Google/Chrome/Application/chrome.exe\"\n",
    "chrome_path = \"/usr/bin/google-chrome\""
   ]
  },
  {
   "cell_type": "code",
   "execution_count": 5,
   "id": "b835812d-3692-4192-abc4-15fc463bd08f",
   "metadata": {
    "execution": {
     "iopub.execute_input": "2025-04-27T17:51:57.062943Z",
     "iopub.status.busy": "2025-04-27T17:51:57.062114Z",
     "iopub.status.idle": "2025-04-27T17:51:57.068788Z",
     "shell.execute_reply": "2025-04-27T17:51:57.068015Z",
     "shell.execute_reply.started": "2025-04-27T17:51:57.062916Z"
    }
   },
   "outputs": [
    {
     "name": "stdout",
     "output_type": "stream",
     "text": [
      "API key found and looks good so far!\n"
     ]
    }
   ],
   "source": [
    "# Load environment variables in a file called .env\n",
    "\n",
    "load_dotenv()\n",
    "api_key = os.getenv('OPENAI_API_KEY')\n",
    "\n",
    "# Check the key\n",
    "\n",
    "if not api_key:\n",
    "    print(\"No API key was found - please head over to the troubleshooting notebook in this folder to identify & fix!\")\n",
    "elif not api_key.startswith(\"sk-proj-\"):\n",
    "    print(\"An API key was found, but it doesn't start sk-proj-; please check you're using the right key - see troubleshooting notebook\")\n",
    "elif api_key.strip() != api_key:\n",
    "    print(\"An API key was found, but it looks like it might have space or tab characters at the start or end - please remove them - see troubleshooting notebook\")\n",
    "else:\n",
    "    print(\"API key found and looks good so far!\")\n"
   ]
  },
  {
   "cell_type": "code",
   "execution_count": 6,
   "id": "acb89abb-dcee-4da6-98f8-e339d258f2a4",
   "metadata": {
    "execution": {
     "iopub.execute_input": "2025-04-27T17:51:59.333687Z",
     "iopub.status.busy": "2025-04-27T17:51:59.333432Z",
     "iopub.status.idle": "2025-04-27T17:51:59.478459Z",
     "shell.execute_reply": "2025-04-27T17:51:59.477684Z",
     "shell.execute_reply.started": "2025-04-27T17:51:59.333663Z"
    }
   },
   "outputs": [],
   "source": [
    "openai = OpenAI()\n",
    "\n",
    "# If this doesn't work, try Kernel menu >> Restart Kernel and Clear Outputs Of All Cells, then run the cells from the top of this notebook down.\n",
    "# If it STILL doesn't work (horrors!) then please see the troubleshooting notebook, or try the below line instead:\n",
    "# openai = OpenAI(api_key=\"your-key-here-starting-sk-proj-\")"
   ]
  },
  {
   "cell_type": "markdown",
   "id": "e860e963-e7a1-4888-a4b9-db9c24bb9a6e",
   "metadata": {},
   "source": [
    "# Create Prompts"
   ]
  },
  {
   "cell_type": "code",
   "execution_count": 8,
   "id": "d4933c36-db8a-4333-8f81-e9db7ba41287",
   "metadata": {
    "execution": {
     "iopub.execute_input": "2025-04-27T17:52:12.538845Z",
     "iopub.status.busy": "2025-04-27T17:52:12.538546Z",
     "iopub.status.idle": "2025-04-27T17:52:12.542535Z",
     "shell.execute_reply": "2025-04-27T17:52:12.542002Z",
     "shell.execute_reply.started": "2025-04-27T17:52:12.538830Z"
    }
   },
   "outputs": [],
   "source": [
    "# Define our system prompt - you can experiment with this later, changing the last sentence to 'Respond in markdown in Spanish.\"\n",
    "\n",
    "system_prompt = \"You are an assistant that analyzes the contents of a website \\\n",
    "and provides a short summary, ignoring text that might be navigation related. \\\n",
    "Respond in markdown.\"\n",
    "\n",
    "# A function that writes a User Prompt that asks for summaries of websites:\n",
    "\n",
    "def user_prompt_for(website):\n",
    "    user_prompt = f\"You are looking at a website titled {website.title}\"\n",
    "    user_prompt += \"\\nThe contents of this website is as follows; \\\n",
    "please provide a short summary of this website in markdown. \\\n",
    "If it includes news or announcements, then summarize these too.\\n\\n\"\n",
    "    user_prompt += website.text\n",
    "    return user_prompt\n"
   ]
  },
  {
   "cell_type": "markdown",
   "id": "17cfab59-304d-4d2f-b324-c388d9e87fca",
   "metadata": {},
   "source": [
    "# Create Functions"
   ]
  },
  {
   "cell_type": "code",
   "execution_count": 9,
   "id": "ca5e96e0-4d8f-49de-a608-a735a5b23b1a",
   "metadata": {
    "execution": {
     "iopub.execute_input": "2025-04-27T17:52:15.197581Z",
     "iopub.status.busy": "2025-04-27T17:52:15.197329Z",
     "iopub.status.idle": "2025-04-27T17:52:15.205227Z",
     "shell.execute_reply": "2025-04-27T17:52:15.204519Z",
     "shell.execute_reply.started": "2025-04-27T17:52:15.197566Z"
    }
   },
   "outputs": [],
   "source": [
    "# Setup for how OpenAI expects to receive messages in a particular structure\n",
    "\n",
    "def messages_for(website):\n",
    "    return [\n",
    "        {\"role\": \"system\", \"content\": system_prompt},\n",
    "        {\"role\": \"user\", \"content\": user_prompt_for(website)}\n",
    "    ]\n",
    "\n",
    "# Use Selenium and chrome to scrape website\n",
    "class WebsiteCrawler:\n",
    "    def __init__(self, url, wait_time=20, chrome_binary_path=None):\n",
    "        \"\"\"\n",
    "        Initialize the WebsiteCrawler using Selenium to scrape JavaScript-rendered content.\n",
    "        \"\"\"\n",
    "        self.url = url\n",
    "        self.wait_time = wait_time\n",
    "\n",
    "        options = uc.ChromeOptions()\n",
    "        options.add_argument(\"--disable-gpu\")\n",
    "        options.add_argument(\"--no-sandbox\")\n",
    "        options.add_argument(\"--disable-dev-shm-usage\")\n",
    "        options.add_argument(\"--disable-blink-features=AutomationControlled\")\n",
    "        options.add_argument(\"start-maximized\")\n",
    "        options.add_argument(\n",
    "            \"user-agent=Mozilla/5.0 (Windows NT 10.0; Win64; x64) AppleWebKit/537.36 (KHTML, like Gecko) Chrome/117.0.0.0 Safari/537.36\"\n",
    "        )\n",
    "        if chrome_binary_path:\n",
    "            options.binary_location = chrome_binary_path\n",
    "\n",
    "        self.driver = uc.Chrome(options=options)\n",
    "\n",
    "        try:\n",
    "            # Load the URL\n",
    "            self.driver.get(url)\n",
    "\n",
    "            # Wait for Cloudflare or similar checks\n",
    "            time.sleep(10)\n",
    "\n",
    "            # Ensure the main content is loaded\n",
    "            WebDriverWait(self.driver, self.wait_time).until(\n",
    "                EC.presence_of_element_located((By.TAG_NAME, \"main\"))\n",
    "            )\n",
    "\n",
    "            # Extract the main content\n",
    "            main_content = self.driver.find_element(By.CSS_SELECTOR, \"main\").get_attribute(\"outerHTML\")\n",
    "\n",
    "            # Parse with BeautifulSoup\n",
    "            soup = BeautifulSoup(main_content, \"html.parser\")\n",
    "            self.title = self.driver.title if self.driver.title else \"No title found\"\n",
    "            self.text = soup.get_text(separator=\"\\n\", strip=True)\n",
    "\n",
    "        except Exception as e:\n",
    "            print(f\"Error occurred: {e}\")\n",
    "            self.title = \"Error occurred\"\n",
    "            self.text = \"\"\n",
    "\n",
    "        finally:\n",
    "            self.driver.quit()\n",
    "\n",
    "def new_summary(url, chrome_path):\n",
    "    web = WebsiteCrawler(url, 30, chrome_path)\n",
    "    response = openai.chat.completions.create(\n",
    "            model = \"gpt-4o-mini\",\n",
    "            messages = messages_for(web)\n",
    "        )\n",
    "\n",
    "    web_summary = response.choices[0].message.content\n",
    "    \n",
    "    return display(Markdown(web_summary))"
   ]
  },
  {
   "cell_type": "code",
   "execution_count": 10,
   "id": "20a8a14b-0a29-4f74-a591-d587b965409b",
   "metadata": {
    "execution": {
     "iopub.execute_input": "2025-04-27T17:52:17.695057Z",
     "iopub.status.busy": "2025-04-27T17:52:17.694761Z",
     "iopub.status.idle": "2025-04-27T17:52:17.702186Z",
     "shell.execute_reply": "2025-04-27T17:52:17.701552Z",
     "shell.execute_reply.started": "2025-04-27T17:52:17.695041Z"
    }
   },
   "outputs": [],
   "source": [
    "# Define our system prompt - you can experiment with this later, changing the last sentence to 'Respond in markdown in Spanish.\"\n",
    "\n",
    "system_prompt = \"You are an assistant that analyzes the contents of a website \\\n",
    "and provides a short summary, ignoring text that might be navigation related. \\\n",
    "Respond in markdown.\"\n",
    "\n",
    "# A function that writes a User Prompt that asks for summaries of websites:\n",
    "\n",
    "def user_prompt_for(website):\n",
    "    user_prompt = f\"You are looking at a website titled {website.title}\"\n",
    "    user_prompt += \"\\nThe contents of this website is as follows; \\\n",
    "please provide a short summary of this website in markdown. \\\n",
    "If it includes news or announcements, then summarize these too.\\n\\n\"\n",
    "    user_prompt += website.text\n",
    "    return user_prompt\n",
    "\n",
    "# Setup for how OpenAI expects to receive messages in a particular structure\n",
    "\n",
    "def messages_for(website):\n",
    "    return [\n",
    "        {\"role\": \"system\", \"content\": system_prompt},\n",
    "        {\"role\": \"user\", \"content\": user_prompt_for(website)}\n",
    "    ]\n",
    "\n",
    "# Use Selenium and chrome to scrape website\n",
    "class WebsiteCrawler:\n",
    "    def __init__(self, url, wait_time=20, chrome_binary_path=None):\n",
    "        \"\"\"\n",
    "        Initialize the WebsiteCrawler using Selenium to scrape JavaScript-rendered content.\n",
    "        \"\"\"\n",
    "        self.url = url\n",
    "        self.wait_time = wait_time\n",
    "\n",
    "        options = uc.ChromeOptions()\n",
    "        options.add_argument(\"--disable-gpu\")\n",
    "        options.add_argument(\"--no-sandbox\")\n",
    "        options.add_argument(\"--disable-dev-shm-usage\")\n",
    "        options.add_argument(\"--disable-blink-features=AutomationControlled\")\n",
    "        options.add_argument(\"start-maximized\")\n",
    "        options.add_argument(\n",
    "            \"user-agent=Mozilla/5.0 (Windows NT 10.0; Win64; x64) AppleWebKit/537.36 (KHTML, like Gecko) Chrome/117.0.0.0 Safari/537.36\"\n",
    "        )\n",
    "        if chrome_binary_path:\n",
    "            options.binary_location = chrome_binary_path\n",
    "\n",
    "        self.driver = uc.Chrome(options=options)\n",
    "\n",
    "        try:\n",
    "            # Load the URL\n",
    "            self.driver.get(url)\n",
    "\n",
    "            # Wait for Cloudflare or similar checks\n",
    "            time.sleep(10)\n",
    "\n",
    "            # Ensure the main content is loaded\n",
    "            WebDriverWait(self.driver, self.wait_time).until(\n",
    "                EC.presence_of_element_located((By.TAG_NAME, \"main\"))\n",
    "            )\n",
    "\n",
    "            # Extract the main content\n",
    "            main_content = self.driver.find_element(By.CSS_SELECTOR, \"main\").get_attribute(\"outerHTML\")\n",
    "\n",
    "            # Parse with BeautifulSoup\n",
    "            soup = BeautifulSoup(main_content, \"html.parser\")\n",
    "            self.title = self.driver.title if self.driver.title else \"No title found\"\n",
    "            self.text = soup.get_text(separator=\"\\n\", strip=True)\n",
    "\n",
    "        except Exception as e:\n",
    "            print(f\"Error occurred: {e}\")\n",
    "            self.title = \"Error occurred\"\n",
    "            self.text = \"\"\n",
    "\n",
    "        finally:\n",
    "            self.driver.quit()\n",
    "\n",
    "def new_summary(url, chrome_path):\n",
    "    web = WebsiteCrawler(url, 30, chrome_path)\n",
    "    response = openai.chat.completions.create(\n",
    "            model = \"gpt-4o-mini\",\n",
    "            messages = messages_for(web)\n",
    "        )\n",
    "\n",
    "    web_summary = response.choices[0].message.content\n",
    "    \n",
    "    return display(Markdown(web_summary))"
   ]
  },
  {
   "cell_type": "markdown",
   "id": "e5f974b3-e417-43a2-88f1-8db06096cd53",
   "metadata": {},
   "source": [
    "# Scrape and Summarize Web Page"
   ]
  },
  {
   "cell_type": "code",
   "execution_count": 11,
   "id": "55f240cb-1fca-46bf-81d1-1beeea64439d",
   "metadata": {
    "execution": {
     "iopub.execute_input": "2025-04-27T17:52:20.975833Z",
     "iopub.status.busy": "2025-04-27T17:52:20.975154Z",
     "iopub.status.idle": "2025-04-27T17:52:54.238790Z",
     "shell.execute_reply": "2025-04-27T17:52:54.238225Z",
     "shell.execute_reply.started": "2025-04-27T17:52:20.975801Z"
    }
   },
   "outputs": [
    {
     "data": {
      "text/markdown": [
       "# Canva: Visual Suite for Everyone\n",
       "\n",
       "Canva is a versatile design platform that enables users to create a wide range of projects, including posters, resumes, logos, presentations, social media content, and more. It provides options for individuals, teams, and organizations, offering both free and premium plans tailored for different needs.\n",
       "\n",
       "## Key Features\n",
       "- **Design Capabilities**: Users can utilize a variety of templates for personal and professional use, alongside AI-powered tools such as Magic Write for generating text and Magic Edit for photo transformations.\n",
       "- **Collaboration**: Canva allows real-time collaboration for teams, enabling shared design efforts on various projects.\n",
       "- **Printing Services**: Users can print their designs and have them delivered directly, with a focus on sustainability, including tree planting with each print order.\n",
       "\n",
       "## Plans\n",
       "- **Canva Free**: Basic design tools for individuals.\n",
       "- **Canva Pro**: Advanced features for personal branding and projects.\n",
       "- **Canva Teams**: Collaborative features for groups.\n",
       "- **Canva Enterprise**: Solutions for organizations to manage teams and brand consistency.\n",
       "\n",
       "## Additional Highlights\n",
       "- **Educational and Nonprofit Support**: Free premium features for educational institutions and nonprofits to support their missions.\n",
       "- **Sustainability Commitment**: Canva prioritizes eco-friendly practices, aiming for carbon neutrality and promoting regeneration.\n",
       "- **User Testimonials**: Feedback from business users underscores Canva's effectiveness in enhancing productivity and teamwork.\n",
       "\n",
       "For those looking to start designing, Canva offers an easy entry point with numerous templates and an intuitive interface suitable for various experience levels."
      ],
      "text/plain": [
       "<IPython.core.display.Markdown object>"
      ]
     },
     "metadata": {},
     "output_type": "display_data"
    }
   ],
   "source": [
    "url = \"https://www.canva.com/\"\n",
    "new_summary(url, chrome_path)"
   ]
  },
  {
   "cell_type": "code",
   "execution_count": 12,
   "id": "ced231da-bd60-445f-a53d-b4e46edf1dc2",
   "metadata": {
    "execution": {
     "iopub.execute_input": "2025-04-27T17:53:40.705143Z",
     "iopub.status.busy": "2025-04-27T17:53:40.704470Z",
     "iopub.status.idle": "2025-04-27T17:54:13.719410Z",
     "shell.execute_reply": "2025-04-27T17:54:13.718641Z",
     "shell.execute_reply.started": "2025-04-27T17:53:40.705117Z"
    }
   },
   "outputs": [
    {
     "data": {
      "text/markdown": [
       "# BBC Home Summary\n",
       "\n",
       "The BBC Home website provides a wide range of breaking news and updates across various categories, including world news, US news, sports, business, innovation, climate, culture, and travel.\n",
       "\n",
       "## Key News Highlights\n",
       "\n",
       "- **Iran Explosion**: A massive explosion at an Iranian port has resulted in the death of 40 people, leading to a blame game regarding improperly stored solid fuel intended for ballistic missiles. (2 hours ago)\n",
       "\n",
       "- **Pope Francis's Tomb**: Images have been released showing the late Pope Francis's tomb following a private burial ceremony after his public funeral at the Vatican. (7 hours ago)\n",
       "\n",
       "- **Vancouver Car Ramming Incident**: The death toll in the car ramming incident at a festival in Vancouver has risen to 11. The acting police chief described it as the \"darkest day in the city's history\" but stated it is not believed to be an act of terrorism. (1 hour ago)\n",
       "\n",
       "- **South China Sea Seizure**: Beijing has seized a small sandbank in the South China Sea, as state media releases images of Chinese coastguard officials raising a flag on the strategic reef. (3 hours ago)\n",
       "\n",
       "- **Political Climate in the US**: As Democrats reflect on their strategies post-Trump's second term, there are varied opinions on the party's future directions. (16 hours ago)\n",
       "\n",
       "- **Legislation in Canada**: A significant change is observed in Canada’s political landscape, with the Liberals trying to retain power following a campaign influenced by Donald Trump's threats. (16 hours ago)\n",
       "\n",
       "## Cultural Insights\n",
       "\n",
       "- The BBC also features articles on current cultural trends, such as the gardening practice of \"meadowscaping,\" which emphasizes transforming lawns into meadows for environmental benefits, illustrating a growing interest in sustainable living.\n",
       "\n",
       "- In a look at popular cooking, the site offers insights into eight essential Asian sauces that can enhance dishes, marking a culinary exploration.\n",
       "\n",
       "Overall, the BBC Home serves as a comprehensive news source, blending immediate updates with cultural and lifestyle features."
      ],
      "text/plain": [
       "<IPython.core.display.Markdown object>"
      ]
     },
     "metadata": {},
     "output_type": "display_data"
    }
   ],
   "source": [
    "url = \"https://www.bbc.co.uk/\"\n",
    "new_summary(url, chrome_path)"
   ]
  },
  {
   "cell_type": "code",
   "execution_count": null,
   "id": "ec153716-6661-4d1c-a190-cfce0c82f1a6",
   "metadata": {},
   "outputs": [],
   "source": []
  }
 ],
 "metadata": {
  "kernelspec": {
   "display_name": "Python [conda env:llms]",
   "language": "python",
   "name": "conda-env-llms-py"
  },
  "language_info": {
   "codemirror_mode": {
    "name": "ipython",
    "version": 3
   },
   "file_extension": ".py",
   "mimetype": "text/x-python",
   "name": "python",
   "nbconvert_exporter": "python",
   "pygments_lexer": "ipython3",
   "version": "3.11.12"
  }
 },
 "nbformat": 4,
 "nbformat_minor": 5
}
