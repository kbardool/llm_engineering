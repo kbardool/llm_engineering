{
 "cells": [
  {
   "cell_type": "markdown",
   "id": "d15d8294-3328-4e07-ad16-8a03e9bbfdb9",
   "metadata": {},
   "source": [
    "# Welcome to your first assignment!\n",
    "\n",
    "Instructions are below. Please give this a try, and look in the solutions folder if you get stuck (or feel free to ask me!)"
   ]
  },
  {
   "cell_type": "markdown",
   "id": "ada885d9-4d42-4d9b-97f0-74fbbbfe93a9",
   "metadata": {},
   "source": [
    "<table style=\"margin: 0; text-align: left;\">\n",
    "    <tr>\n",
    "        <td style=\"width: 150px; height: 150px; vertical-align: middle;\">\n",
    "            <img src=\"../resources.jpg\" width=\"150\" height=\"150\" style=\"display: block;\" />\n",
    "        </td>\n",
    "        <td>\n",
    "            <h2 style=\"color:#f71;\">Just before we get to the assignment --</h2>\n",
    "            <span style=\"color:#f71;\">I thought I'd take a second to point you at this page of useful resources for the course. This includes links to all the slides.<br/>\n",
    "            <a href=\"https://edwarddonner.com/2024/11/13/llm-engineering-resources/\">https://edwarddonner.com/2024/11/13/llm-engineering-resources/</a><br/>\n",
    "            Please keep this bookmarked, and I'll continue to add more useful links there over time.\n",
    "            </span>\n",
    "        </td>\n",
    "    </tr>\n",
    "</table>"
   ]
  },
  {
   "cell_type": "markdown",
   "id": "6e9fa1fc-eac5-4d1d-9be4-541b3f2b3458",
   "metadata": {},
   "source": [
    "# HOMEWORK EXERCISE ASSIGNMENT\n",
    "\n",
    "Upgrade the day 1 project to summarize a webpage to use an Open Source model running locally via Ollama rather than OpenAI\n",
    "\n",
    "You'll be able to use this technique for all subsequent projects if you'd prefer not to use paid APIs.\n",
    "\n",
    "**Benefits:**\n",
    "1. No API charges - open-source\n",
    "2. Data doesn't leave your box\n",
    "\n",
    "**Disadvantages:**\n",
    "1. Significantly less power than Frontier Model\n",
    "\n",
    "## Recap on installation of Ollama\n",
    "\n",
    "Simply visit [ollama.com](https://ollama.com) and install!\n",
    "\n",
    "Once complete, the ollama server should already be running locally.  \n",
    "If you visit:  \n",
    "[http://localhost:11434/](http://localhost:11434/)\n",
    "\n",
    "You should see the message `Ollama is running`.  \n",
    "\n",
    "If not, bring up a new Terminal (Mac) or Powershell (Windows) and enter `ollama serve`  \n",
    "And in another Terminal (Mac) or Powershell (Windows), enter `ollama pull llama3.2`  \n",
    "Then try [http://localhost:11434/](http://localhost:11434/) again.\n",
    "\n",
    "If Ollama is slow on your machine, try using `llama3.2:1b` as an alternative. Run `ollama pull llama3.2:1b` from a Terminal or Powershell, and change the code below from `MODEL = \"llama3.2\"` to `MODEL = \"llama3.2:1b\"`"
   ]
  },
  {
   "cell_type": "code",
   "execution_count": 1,
   "id": "4e2a9393-7767-488e-a8bf-27c12dca35bd",
   "metadata": {
    "execution": {
     "iopub.execute_input": "2025-04-26T01:03:33.890114Z",
     "iopub.status.busy": "2025-04-26T01:03:33.889720Z",
     "iopub.status.idle": "2025-04-26T01:03:34.082097Z",
     "shell.execute_reply": "2025-04-26T01:03:34.081385Z",
     "shell.execute_reply.started": "2025-04-26T01:03:33.890080Z"
    }
   },
   "outputs": [],
   "source": [
    "# imports\n",
    "\n",
    "import requests\n",
    "from bs4 import BeautifulSoup\n",
    "from IPython.display import Markdown, display"
   ]
  },
  {
   "cell_type": "code",
   "execution_count": 2,
   "id": "29ddd15d-a3c5-4f4e-a678-873f56162724",
   "metadata": {
    "execution": {
     "iopub.execute_input": "2025-04-26T01:03:35.639639Z",
     "iopub.status.busy": "2025-04-26T01:03:35.639405Z",
     "iopub.status.idle": "2025-04-26T01:03:35.643565Z",
     "shell.execute_reply": "2025-04-26T01:03:35.642906Z",
     "shell.execute_reply.started": "2025-04-26T01:03:35.639626Z"
    }
   },
   "outputs": [],
   "source": [
    "# Constants\n",
    "\n",
    "OLLAMA_API = \"http://localhost:11434/api/chat\"\n",
    "HEADERS = {\"Content-Type\": \"application/json\"}\n",
    "MODEL = \"llama3.2\""
   ]
  },
  {
   "cell_type": "code",
   "execution_count": 3,
   "id": "dac0a679-599c-441f-9bf2-ddc73d35b940",
   "metadata": {
    "execution": {
     "iopub.execute_input": "2025-04-26T01:03:36.196188Z",
     "iopub.status.busy": "2025-04-26T01:03:36.195569Z",
     "iopub.status.idle": "2025-04-26T01:03:36.198885Z",
     "shell.execute_reply": "2025-04-26T01:03:36.198289Z",
     "shell.execute_reply.started": "2025-04-26T01:03:36.196171Z"
    }
   },
   "outputs": [],
   "source": [
    "# Create a messages list using the same format that we used for OpenAI\n",
    "\n",
    "messages = [\n",
    "    {\"role\": \"user\", \"content\": \"Describe some of the business applications of Generative AI\"}\n",
    "]"
   ]
  },
  {
   "cell_type": "code",
   "execution_count": 4,
   "id": "7bb9c624-14f0-4945-a719-8ddb64f66f47",
   "metadata": {
    "execution": {
     "iopub.execute_input": "2025-04-26T01:03:36.569018Z",
     "iopub.status.busy": "2025-04-26T01:03:36.568750Z",
     "iopub.status.idle": "2025-04-26T01:03:36.572787Z",
     "shell.execute_reply": "2025-04-26T01:03:36.572272Z",
     "shell.execute_reply.started": "2025-04-26T01:03:36.569001Z"
    }
   },
   "outputs": [],
   "source": [
    "payload = {\n",
    "        \"model\": MODEL,\n",
    "        \"messages\": messages,\n",
    "        \"stream\": False\n",
    "    }"
   ]
  },
  {
   "cell_type": "code",
   "execution_count": 5,
   "id": "a4e9cb65-57df-4697-a1ff-34f139716fb8",
   "metadata": {
    "execution": {
     "iopub.execute_input": "2025-04-26T01:03:37.912427Z",
     "iopub.status.busy": "2025-04-26T01:03:37.912179Z",
     "iopub.status.idle": "2025-04-26T01:03:37.916738Z",
     "shell.execute_reply": "2025-04-26T01:03:37.916103Z",
     "shell.execute_reply.started": "2025-04-26T01:03:37.912412Z"
    }
   },
   "outputs": [
    {
     "name": "stdout",
     "output_type": "stream",
     "text": [
      "{'model': 'llama3.2', 'messages': [{'role': 'user', 'content': 'Describe some of the business applications of Generative AI'}], 'stream': False}\n"
     ]
    }
   ],
   "source": [
    "print(payload)"
   ]
  },
  {
   "cell_type": "code",
   "execution_count": 6,
   "id": "479ff514-e8bd-4985-a572-2ea28bb4fa40",
   "metadata": {
    "execution": {
     "iopub.execute_input": "2025-04-26T01:03:49.770311Z",
     "iopub.status.busy": "2025-04-26T01:03:49.770046Z",
     "iopub.status.idle": "2025-04-26T01:03:49.773671Z",
     "shell.execute_reply": "2025-04-26T01:03:49.773014Z",
     "shell.execute_reply.started": "2025-04-26T01:03:49.770298Z"
    },
    "scrolled": true
   },
   "outputs": [],
   "source": [
    "# Let's just make sure the model is loaded\n",
    "\n",
    "# !ollama pull llama3.2"
   ]
  },
  {
   "cell_type": "code",
   "execution_count": 7,
   "id": "5d2adab2-9e46-444c-810d-f8a38c9635b1",
   "metadata": {
    "execution": {
     "iopub.execute_input": "2025-04-26T01:03:53.145035Z",
     "iopub.status.busy": "2025-04-26T01:03:53.144798Z",
     "iopub.status.idle": "2025-04-26T01:04:02.963173Z",
     "shell.execute_reply": "2025-04-26T01:04:02.962550Z",
     "shell.execute_reply.started": "2025-04-26T01:03:53.145021Z"
    }
   },
   "outputs": [],
   "source": [
    "# If this doesn't work for any reason, try the 2 versions in the following cells\n",
    "# And double check the instructions in the 'Recap on installation of Ollama' at the top of this lab\n",
    "# And if none of that works - contact me!\n",
    "\n",
    "response = requests.post(OLLAMA_API, json=payload, headers=HEADERS)\n",
    "# print(response.json()['message']['content'])"
   ]
  },
  {
   "cell_type": "code",
   "execution_count": 8,
   "id": "c342f2f0-da66-4a98-adfb-bd12a8452f9f",
   "metadata": {
    "execution": {
     "iopub.execute_input": "2025-04-26T01:04:05.490728Z",
     "iopub.status.busy": "2025-04-26T01:04:05.490469Z",
     "iopub.status.idle": "2025-04-26T01:04:05.496760Z",
     "shell.execute_reply": "2025-04-26T01:04:05.496049Z",
     "shell.execute_reply.started": "2025-04-26T01:04:05.490708Z"
    }
   },
   "outputs": [
    {
     "data": {
      "text/markdown": [
       "Generative AI has numerous business applications across various industries. Here are some examples:\n",
       "\n",
       "1. **Content Creation**: Generative AI can be used to generate high-quality content such as articles, social media posts, product descriptions, and more. This can help businesses save time and resources while maintaining consistency in their content.\n",
       "2. **Marketing Automation**: Generative AI can be used to personalize marketing campaigns by generating personalized emails, messages, and offers based on customer data and behavior.\n",
       "3. **Product Design**: Generative AI can be used to design new product concepts, such as furniture, clothing, or electronics, using computer-aided design (CAD) software.\n",
       "4. **Customer Service Chatbots**: Generative AI can be used to create chatbots that can understand and respond to customer queries in a more human-like way.\n",
       "5. **Image Generation**: Generative AI can be used to generate high-quality images for various applications such as advertising, branding, or product photography.\n",
       "6. **Data Analysis**: Generative AI can be used to analyze large datasets and identify patterns and insights that may not be apparent through traditional analysis methods.\n",
       "7. **Predictive Maintenance**: Generative AI can be used to predict when maintenance is required for equipment and machinery, reducing downtime and increasing efficiency.\n",
       "8. **Supply Chain Optimization**: Generative AI can be used to optimize supply chain operations by predicting demand, identifying bottlenecks, and suggesting improvements.\n",
       "9. **Financial Modeling**: Generative AI can be used to generate financial models, such as forecasting revenue or predicting stock prices.\n",
       "10. **Cybersecurity**: Generative AI can be used to detect and respond to cyber threats in real-time, using machine learning algorithms to identify patterns and anomalies.\n",
       "\n",
       "Some specific examples of business applications of generative AI include:\n",
       "\n",
       "* **Amazon's Product Recommendations**: Amazon uses generative AI to recommend products to customers based on their browsing and purchase history.\n",
       "* **Nike's Customized Shoes**: Nike uses generative AI to design customized shoes for individual customers using 3D modeling software.\n",
       "* **Warner Bros.' Movie Posters**: Warner Bros. uses generative AI to create movie posters that are tailored to specific audiences.\n",
       "* **General Electric's Predictive Maintenance**: General Electric uses generative AI to predict when maintenance is required for its equipment and machinery.\n",
       "\n",
       "These are just a few examples of the many business applications of generative AI. As the technology continues to evolve, we can expect to see even more innovative use cases across various industries."
      ],
      "text/plain": [
       "<IPython.core.display.Markdown object>"
      ]
     },
     "metadata": {},
     "output_type": "display_data"
    }
   ],
   "source": [
    "display(Markdown(response.json()['message']['content']))"
   ]
  },
  {
   "cell_type": "markdown",
   "id": "6a021f13-d6a1-4b96-8e18-4eae49d876fe",
   "metadata": {},
   "source": [
    "# Introducing the ollama package\n",
    "\n",
    "And now we'll do the same thing, but using the elegant ollama python package instead of a direct HTTP call.\n",
    "\n",
    "Under the hood, it's making the same call as above to the ollama server running at localhost:11434"
   ]
  },
  {
   "cell_type": "code",
   "execution_count": 9,
   "id": "b4d3881f-0c74-423c-b083-eb27c588ea19",
   "metadata": {
    "execution": {
     "iopub.execute_input": "2025-04-26T01:04:08.468292Z",
     "iopub.status.busy": "2025-04-26T01:04:08.468062Z",
     "iopub.status.idle": "2025-04-26T01:04:13.628689Z",
     "shell.execute_reply": "2025-04-26T01:04:13.628042Z",
     "shell.execute_reply.started": "2025-04-26T01:04:08.468279Z"
    }
   },
   "outputs": [],
   "source": [
    "import ollama\n",
    "response = ollama.chat(model=MODEL, messages=messages)"
   ]
  },
  {
   "cell_type": "code",
   "execution_count": 10,
   "id": "615010eb-fc65-4289-8de1-cf127dd8fea1",
   "metadata": {
    "execution": {
     "iopub.execute_input": "2025-04-26T01:04:13.630148Z",
     "iopub.status.busy": "2025-04-26T01:04:13.629823Z",
     "iopub.status.idle": "2025-04-26T01:04:13.633035Z",
     "shell.execute_reply": "2025-04-26T01:04:13.632277Z",
     "shell.execute_reply.started": "2025-04-26T01:04:13.630131Z"
    }
   },
   "outputs": [],
   "source": [
    "# print(response['message']['content'])"
   ]
  },
  {
   "cell_type": "code",
   "execution_count": 11,
   "id": "f5ca944e-fb24-4ab3-b921-05861bec8700",
   "metadata": {
    "execution": {
     "iopub.execute_input": "2025-04-26T01:04:13.634476Z",
     "iopub.status.busy": "2025-04-26T01:04:13.633764Z",
     "iopub.status.idle": "2025-04-26T01:04:13.649068Z",
     "shell.execute_reply": "2025-04-26T01:04:13.648300Z",
     "shell.execute_reply.started": "2025-04-26T01:04:13.634450Z"
    }
   },
   "outputs": [
    {
     "data": {
      "text/markdown": [
       "Generative AI has numerous business applications across various industries. Here are some examples:\n",
       "\n",
       "1. **Content Generation**: Companies can use generative AI to create high-quality, personalized content such as product descriptions, social media posts, and blog articles.\n",
       "2. **Image and Video Editing**: Generative AI-powered tools can edit images and videos, removing unwanted objects or changing the appearance of individuals in photos.\n",
       "3. **Chatbots and Virtual Assistants**: Generative AI is used to create conversational interfaces that can understand and respond to customer inquiries, providing 24/7 support.\n",
       "4. **Product Design**: Generative AI can help design new products by generating 3D models, prototypes, and even entire product lines.\n",
       "5. **Marketing Automation**: Generative AI-powered tools can analyze customer data and create targeted marketing campaigns, personalized offers, and recommendations.\n",
       "6. **Predictive Maintenance**: Generative AI is used in predictive maintenance to predict equipment failures, reducing downtime and increasing efficiency.\n",
       "7. **Customer Service Analytics**: Generative AI analyzes customer feedback and sentiment analysis to identify areas for improvement and optimize the customer experience.\n",
       "8. **Personalized Recommendations**: Generative AI can be used to create personalized product recommendations based on user behavior and preferences.\n",
       "9. **Data Augmentation**: Generative AI can augment existing data by generating new, high-quality data that can be used to train machine learning models.\n",
       "10. **Automated Report Writing**: Generative AI-powered tools can automate report writing, reducing the time and effort required to generate reports.\n",
       "\n",
       "Some specific business applications of generative AI include:\n",
       "\n",
       "1. **Fashion Design**: Companies like Tommy Hilfigher and Gucci use generative AI to design new clothing lines and patterns.\n",
       "2. **Automotive Industry**: Generative AI is used in car manufacturing to design new models, predict maintenance needs, and optimize production processes.\n",
       "3. **Healthcare**: Generative AI can be used to analyze medical images, identify diseases, and develop personalized treatment plans.\n",
       "4. **Finance**: Generative AI-powered tools can analyze financial data, predict market trends, and generate investment recommendations.\n",
       "\n",
       "These are just a few examples of the many business applications of generative AI. As the technology continues to evolve, we can expect to see even more innovative uses across various industries."
      ],
      "text/plain": [
       "<IPython.core.display.Markdown object>"
      ]
     },
     "metadata": {},
     "output_type": "display_data"
    }
   ],
   "source": [
    "display(Markdown(response['message']['content']))"
   ]
  },
  {
   "cell_type": "markdown",
   "id": "a4704e10-f5fb-4c15-a935-f046c06fb13d",
   "metadata": {},
   "source": [
    "## Alternative approach - using OpenAI python library to connect to Ollama"
   ]
  },
  {
   "cell_type": "code",
   "execution_count": 12,
   "id": "23057e00-b6fc-4678-93a9-6b31cb704bff",
   "metadata": {
    "execution": {
     "iopub.execute_input": "2025-04-26T01:04:37.934792Z",
     "iopub.status.busy": "2025-04-26T01:04:37.933890Z",
     "iopub.status.idle": "2025-04-26T01:04:43.748296Z",
     "shell.execute_reply": "2025-04-26T01:04:43.747679Z",
     "shell.execute_reply.started": "2025-04-26T01:04:37.934772Z"
    }
   },
   "outputs": [
    {
     "data": {
      "text/markdown": [
       "Generative AI has numerous business applications across various industries, including:\n",
       "\n",
       "1. **Content Creation**: Generative AI can be used to generate high-quality content such as articles, social media posts, and videos, saving human writers time and resources.\n",
       "2. **Marketing and Advertising**: Generative AI can help create personalized ad copy, product descriptions, and social media posts that resonate with specific target audiences.\n",
       "3. **Data Analysis and Visualization**: Generative AI can be used to analyze large datasets, identify patterns, and visualize insights, enabling businesses to make data-driven decisions.\n",
       "4. **Product Design and Development**: Generative AI can help design and develop new products, such as computer-aided design (CAD) tools for architects and engineers.\n",
       "5. **Customer Service and Support**: Generative AI-powered chatbots can provide 24/7 customer support, answer frequently asked questions, and route complex queries to human agents.\n",
       "6. **Financial Services**: Generative AI can be used to analyze financial data, predict market trends, and generate investment portfolios.\n",
       "7. **Healthcare**: Generative AI can help analyze medical images, diagnose diseases, and develop personalized treatment plans.\n",
       "8. **E-commerce**: Generative AI can help optimize product listings, recommend products based on customer behavior, and provide personalized product suggestions.\n",
       "9. **Education**: Generative AI can be used to create personalized learning plans, generate customized educational content, and grade assignments.\n",
       "10. **Innovation and R&D**: Generative AI can be used to explore new scientific hypotheses, simulate complex systems, and generate novel molecule structures.\n",
       "\n",
       "Some specific business applications of Generative AI include:\n",
       "\n",
       "1. **Generated Content for PR and Communications**: Companies can use generative AI to create press releases, social media posts, and other marketing materials.\n",
       "2. **Automated Email Marketing**: Businesses can use generative AI to personalize email campaigns, subject lines, and content based on customer behavior and preferences.\n",
       "3. **Chatbot-powered Customer Service**: Companies can use generative AI to develop personalized chatbots that provide 24/7 support to customers.\n",
       "4. **Predictive Maintenance and Asset Management**: Generative AI can be used to analyze equipment performance data and predict maintenance needs, reducing downtime and increasing efficiency.\n",
       "5. **Personalized Product Recommendations**: Businesses can use generative AI to suggest products based on customer behavior, preferences, and purchase history.\n",
       "\n",
       "These are just a few examples of the many business applications of Generative AI. As the technology continues to evolve, we can expect to see even more innovative uses across various industries."
      ],
      "text/plain": [
       "<IPython.core.display.Markdown object>"
      ]
     },
     "metadata": {},
     "output_type": "display_data"
    }
   ],
   "source": [
    "# There's actually an alternative approach that some people might prefer\n",
    "# You can use the OpenAI client python library to call Ollama:\n",
    "\n",
    "from openai import OpenAI\n",
    "ollama_via_openai = OpenAI(base_url='http://localhost:11434/v1', api_key='ollama')\n",
    "\n",
    "response = ollama_via_openai.chat.completions.create(\n",
    "    model=MODEL,\n",
    "    messages=messages\n",
    ")\n",
    "\n",
    "# print(response.choices[0].message.content)\n",
    "display(Markdown(response.choices[0].message.content))"
   ]
  },
  {
   "cell_type": "markdown",
   "id": "9f9e22da-b891-41f6-9ac9-bd0c0a5f4f44",
   "metadata": {},
   "source": [
    "## Are you confused about why that works?\n",
    "\n",
    "It seems strange, right? We just used OpenAI code to call Ollama?? What's going on?!\n",
    "\n",
    "Here's the scoop:\n",
    "\n",
    "The python class `OpenAI` is simply code written by OpenAI engineers that makes calls over the internet to an endpoint.  \n",
    "\n",
    "When you call `openai.chat.completions.create()`, this python code just makes a web request to the following url: \"https://api.openai.com/v1/chat/completions\"\n",
    "\n",
    "Code like this is known as a \"client library\" - it's just wrapper code that runs on your machine to make web requests. The actual power of GPT is running on OpenAI's cloud behind this API, not on your computer!\n",
    "\n",
    "OpenAI was so popular, that lots of other AI providers provided identical web endpoints, so you could use the same approach.\n",
    "\n",
    "So Ollama has an endpoint running on your local box at http://localhost:11434/v1/chat/completions  \n",
    "And in week 2 we'll discover that lots of other providers do this too, including Gemini and DeepSeek.\n",
    "\n",
    "And then the team at OpenAI had a great idea: they can extend their client library so you can specify a different 'base url', and use their library to call any compatible API.\n",
    "\n",
    "That's it!\n",
    "\n",
    "So when you say: `ollama_via_openai = OpenAI(base_url='http://localhost:11434/v1', api_key='ollama')`  \n",
    "Then this will make the same endpoint calls, but to Ollama instead of OpenAI."
   ]
  },
  {
   "cell_type": "markdown",
   "id": "bc7d1de3-e2ac-46ff-a302-3b4ba38c4c90",
   "metadata": {},
   "source": [
    "## Also trying the amazing reasoning model DeepSeek\n",
    "\n",
    "Here we use the version of DeepSeek-reasoner that's been distilled to 1.5B.  \n",
    "This is actually a 1.5B variant of Qwen that has been fine-tuned using synethic data generated by Deepseek R1.\n",
    "\n",
    "Other sizes of DeepSeek are [here](https://ollama.com/library/deepseek-r1) all the way up to the full 671B parameter version, which would use up 404GB of your drive and is far too large for most!"
   ]
  },
  {
   "cell_type": "code",
   "execution_count": null,
   "id": "cf9eb44e-fe5b-47aa-b719-0bb63669ab3d",
   "metadata": {
    "execution": {
     "iopub.execute_input": "2025-04-23T23:37:00.645845Z",
     "iopub.status.busy": "2025-04-23T23:37:00.645094Z"
    },
    "scrolled": true
   },
   "outputs": [
    {
     "name": "stdout",
     "output_type": "stream",
     "text": [
      "\u001b[?2026h\u001b[?25l\u001b[1Gpulling manifest ⠙ \u001b[K\u001b[?25h\u001b[?2026l\u001b[?2026h\u001b[?25l\u001b[1Gpulling manifest ⠙ \u001b[K\u001b[?25h\u001b[?2026l\u001b[?2026h\u001b[?25l\u001b[1Gpulling manifest ⠹ \u001b[K\u001b[?25h\u001b[?2026l\u001b[?2026h\u001b[?25l\u001b[1Gpulling manifest ⠸ \u001b[K\u001b[?25h\u001b[?2026l\u001b[?2026h\u001b[?25l\u001b[1Gpulling manifest ⠼ \u001b[K\u001b[?25h\u001b[?2026l\u001b[?2026h\u001b[?25l\u001b[1Gpulling manifest ⠴ \u001b[K\u001b[?25h\u001b[?2026l\u001b[?2026h\u001b[?25l\u001b[1Gpulling manifest ⠧ \u001b[K\u001b[?25h\u001b[?2026l\u001b[?2026h\u001b[?25l\u001b[1Gpulling manifest ⠧ \u001b[K\u001b[?25h\u001b[?2026l\u001b[?2026h\u001b[?25l\u001b[1Gpulling manifest \u001b[K\n",
      "pulling aabd4debf0c8...   0% ▕                ▏    0 B/1.1 GB                  \u001b[K\u001b[?25h\u001b[?2026l\u001b[?2026h\u001b[?25l\u001b[A\u001b[1Gpulling manifest \u001b[K\n",
      "pulling aabd4debf0c8...   0% ▕                ▏    0 B/1.1 GB                  \u001b[K\u001b[?25h\u001b[?2026l\u001b[?2026h\u001b[?25l\u001b[A\u001b[1Gpulling manifest \u001b[K\n",
      "pulling aabd4debf0c8...   0% ▕                ▏  58 KB/1.1 GB                  \u001b[K\u001b[?25h\u001b[?2026l\u001b[?2026h\u001b[?25l\u001b[A\u001b[1Gpulling manifest \u001b[K\n",
      "pulling aabd4debf0c8...   0% ▕                ▏ 230 KB/1.1 GB                  \u001b[K\u001b[?25h\u001b[?2026l\u001b[?2026h\u001b[?25l\u001b[A\u001b[1Gpulling manifest \u001b[K\n",
      "pulling aabd4debf0c8...   0% ▕                ▏ 712 KB/1.1 GB                  \u001b[K\u001b[?25h\u001b[?2026l\u001b[?2026h\u001b[?25l\u001b[A\u001b[1Gpulling manifest \u001b[K\n",
      "pulling aabd4debf0c8...   0% ▕                ▏ 1.6 MB/1.1 GB                  \u001b[K\u001b[?25h\u001b[?2026l\u001b[?2026h\u001b[?25l\u001b[A\u001b[1Gpulling manifest \u001b[K\n",
      "pulling aabd4debf0c8...   0% ▕                ▏ 1.8 MB/1.1 GB                  \u001b[K\u001b[?25h\u001b[?2026l\u001b[?2026h\u001b[?25l\u001b[A\u001b[1Gpulling manifest \u001b[K\n",
      "pulling aabd4debf0c8...   0% ▕                ▏ 2.2 MB/1.1 GB                  \u001b[K\u001b[?25h\u001b[?2026l\u001b[?2026h\u001b[?25l\u001b[A\u001b[1Gpulling manifest \u001b[K\n",
      "pulling aabd4debf0c8...   0% ▕                ▏ 3.0 MB/1.1 GB                  \u001b[K\u001b[?25h\u001b[?2026l\u001b[?2026h\u001b[?25l\u001b[A\u001b[1Gpulling manifest \u001b[K\n",
      "pulling aabd4debf0c8...   0% ▕                ▏ 3.2 MB/1.1 GB                  \u001b[K\u001b[?25h\u001b[?2026l\u001b[?2026h\u001b[?25l\u001b[A\u001b[1Gpulling manifest \u001b[K\n",
      "pulling aabd4debf0c8...   0% ▕                ▏ 4.1 MB/1.1 GB  4.1 MB/s   4m28s\u001b[K\u001b[?25h\u001b[?2026l\u001b[?2026h\u001b[?25l\u001b[A\u001b[1Gpulling manifest \u001b[K\n",
      "pulling aabd4debf0c8...   0% ▕                ▏ 4.7 MB/1.1 GB  4.1 MB/s   4m28s\u001b[K\u001b[?25h\u001b[?2026l\u001b[?2026h\u001b[?25l\u001b[A\u001b[1Gpulling manifest \u001b[K\n",
      "pulling aabd4debf0c8...   0% ▕                ▏ 4.7 MB/1.1 GB  4.1 MB/s   4m28s\u001b[K\u001b[?25h\u001b[?2026l\u001b[?2026h\u001b[?25l\u001b[A\u001b[1Gpulling manifest \u001b[K\n",
      "pulling aabd4debf0c8...   0% ▕                ▏ 4.7 MB/1.1 GB  4.1 MB/s   4m28s\u001b[K\u001b[?25h\u001b[?2026l\u001b[?2026h\u001b[?25l\u001b[A\u001b[1Gpulling manifest \u001b[K\n",
      "pulling aabd4debf0c8...   0% ▕                ▏ 4.9 MB/1.1 GB  4.1 MB/s   4m28s\u001b[K\u001b[?25h\u001b[?2026l\u001b[?2026h\u001b[?25l\u001b[A\u001b[1Gpulling manifest \u001b[K\n",
      "pulling aabd4debf0c8...   0% ▕                ▏ 5.1 MB/1.1 GB  4.1 MB/s   4m28s\u001b[K\u001b[?25h\u001b[?2026l\u001b[?2026h\u001b[?25l\u001b[A\u001b[1Gpulling manifest \u001b[K\n",
      "pulling aabd4debf0c8...   0% ▕                ▏ 5.3 MB/1.1 GB  4.1 MB/s   4m28s\u001b[K\u001b[?25h\u001b[?2026l\u001b[?2026h\u001b[?25l\u001b[A\u001b[1Gpulling manifest \u001b[K\n",
      "pulling aabd4debf0c8...   0% ▕                ▏ 5.6 MB/1.1 GB  4.1 MB/s   4m28s\u001b[K\u001b[?25h\u001b[?2026l\u001b[?2026h\u001b[?25l\u001b[A\u001b[1Gpulling manifest \u001b[K\n",
      "pulling aabd4debf0c8...   0% ▕                ▏ 5.6 MB/1.1 GB  4.1 MB/s   4m28s\u001b[K\u001b[?25h\u001b[?2026l\u001b[?2026h\u001b[?25l\u001b[A\u001b[1Gpulling manifest \u001b[K\n",
      "pulling aabd4debf0c8...   1% ▕                ▏ 5.7 MB/1.1 GB  4.1 MB/s   4m28s\u001b[K\u001b[?25h\u001b[?2026l\u001b[?2026h\u001b[?25l\u001b[A\u001b[1Gpulling manifest \u001b[K\n",
      "pulling aabd4debf0c8...   1% ▕                ▏ 5.9 MB/1.1 GB  3.0 MB/s   6m15s\u001b[K\u001b[?25h\u001b[?2026l\u001b[?2026h\u001b[?25l\u001b[A\u001b[1Gpulling manifest \u001b[K\n",
      "pulling aabd4debf0c8...   1% ▕                ▏ 6.1 MB/1.1 GB  3.0 MB/s   6m15s\u001b[K\u001b[?25h\u001b[?2026l\u001b[?2026h\u001b[?25l\u001b[A\u001b[1Gpulling manifest \u001b[K\n",
      "pulling aabd4debf0c8...   1% ▕                ▏ 9.8 MB/1.1 GB  3.0 MB/s   6m14s\u001b[K\u001b[?25h\u001b[?2026l\u001b[?2026h\u001b[?25l\u001b[A\u001b[1Gpulling manifest \u001b[K\n",
      "pulling aabd4debf0c8...   1% ▕                ▏  10 MB/1.1 GB  3.0 MB/s   6m14s\u001b[K\u001b[?25h\u001b[?2026l\u001b[?2026h\u001b[?25l\u001b[A\u001b[1Gpulling manifest \u001b[K\n",
      "pulling aabd4debf0c8...   1% ▕                ▏  11 MB/1.1 GB  3.0 MB/s   6m13s\u001b[K\u001b[?25h\u001b[?2026l\u001b[?2026h\u001b[?25l\u001b[A\u001b[1Gpulling manifest \u001b[K\n",
      "pulling aabd4debf0c8...   1% ▕                ▏  11 MB/1.1 GB  3.0 MB/s   6m13s\u001b[K\u001b[?25h\u001b[?2026l\u001b[?2026h\u001b[?25l\u001b[A\u001b[1Gpulling manifest \u001b[K\n",
      "pulling aabd4debf0c8...   1% ▕                ▏  12 MB/1.1 GB  3.0 MB/s   6m13s\u001b[K\u001b[?25h\u001b[?2026l\u001b[?2026h\u001b[?25l\u001b[A\u001b[1Gpulling manifest \u001b[K\n",
      "pulling aabd4debf0c8...   1% ▕                ▏  13 MB/1.1 GB  3.0 MB/s   6m13s\u001b[K\u001b[?25h\u001b[?2026l\u001b[?2026h\u001b[?25l\u001b[A\u001b[1Gpulling manifest \u001b[K\n",
      "pulling aabd4debf0c8...   1% ▕                ▏  13 MB/1.1 GB  3.0 MB/s   6m13s\u001b[K\u001b[?25h\u001b[?2026l\u001b[?2026h\u001b[?25l\u001b[A\u001b[1Gpulling manifest \u001b[K\n",
      "pulling aabd4debf0c8...   1% ▕                ▏  14 MB/1.1 GB  3.0 MB/s   6m12s\u001b[K\u001b[?25h\u001b[?2026l\u001b[?2026h\u001b[?25l\u001b[A\u001b[1Gpulling manifest \u001b[K\n",
      "pulling aabd4debf0c8...   1% ▕                ▏  14 MB/1.1 GB  3.0 MB/s   6m12s\u001b[K\u001b[?25h\u001b[?2026l\u001b[?2026h\u001b[?25l\u001b[A\u001b[1Gpulling manifest \u001b[K\n",
      "pulling aabd4debf0c8...   1% ▕                ▏  14 MB/1.1 GB  4.9 MB/s   3m43s\u001b[K\u001b[?25h\u001b[?2026l\u001b[?2026h\u001b[?25l\u001b[A\u001b[1Gpulling manifest \u001b[K\n",
      "pulling aabd4debf0c8...   1% ▕                ▏  15 MB/1.1 GB  4.9 MB/s   3m43s\u001b[K\u001b[?25h\u001b[?2026l\u001b[?2026h\u001b[?25l\u001b[A\u001b[1Gpulling manifest \u001b[K\n",
      "pulling aabd4debf0c8...   1% ▕                ▏  15 MB/1.1 GB  4.9 MB/s   3m43s\u001b[K\u001b[?25h\u001b[?2026l\u001b[?2026h\u001b[?25l\u001b[A\u001b[1Gpulling manifest \u001b[K\n",
      "pulling aabd4debf0c8...   1% ▕                ▏  15 MB/1.1 GB  4.9 MB/s   3m43s\u001b[K\u001b[?25h\u001b[?2026l\u001b[?2026h\u001b[?25l\u001b[A\u001b[1Gpulling manifest \u001b[K\n",
      "pulling aabd4debf0c8...   1% ▕                ▏  16 MB/1.1 GB  4.9 MB/s   3m43s\u001b[K\u001b[?25h\u001b[?2026l\u001b[?2026h\u001b[?25l\u001b[A\u001b[1Gpulling manifest \u001b[K\n",
      "pulling aabd4debf0c8...   1% ▕                ▏  16 MB/1.1 GB  4.9 MB/s   3m43s\u001b[K\u001b[?25h\u001b[?2026l\u001b[?2026h\u001b[?25l\u001b[A\u001b[1Gpulling manifest \u001b[K\n",
      "pulling aabd4debf0c8...   2% ▕                ▏  16 MB/1.1 GB  4.9 MB/s   3m43s\u001b[K\u001b[?25h\u001b[?2026l\u001b[?2026h\u001b[?25l\u001b[A\u001b[1Gpulling manifest \u001b[K\n",
      "pulling aabd4debf0c8...   2% ▕                ▏  17 MB/1.1 GB  4.9 MB/s   3m43s\u001b[K\u001b[?25h\u001b[?2026l\u001b[?2026h\u001b[?25l\u001b[A\u001b[1Gpulling manifest \u001b[K\n",
      "pulling aabd4debf0c8...   2% ▕                ▏  17 MB/1.1 GB  4.9 MB/s   3m43s\u001b[K\u001b[?25h\u001b[?2026l\u001b[?2026h\u001b[?25l\u001b[A\u001b[1Gpulling manifest \u001b[K\n",
      "pulling aabd4debf0c8...   2% ▕                ▏  17 MB/1.1 GB  4.9 MB/s   3m43s\u001b[K\u001b[?25h\u001b[?2026l\u001b[?2026h\u001b[?25l\u001b[A\u001b[1Gpulling manifest \u001b[K\n",
      "pulling aabd4debf0c8...   2% ▕                ▏  17 MB/1.1 GB  4.4 MB/s   4m10s\u001b[K\u001b[?25h\u001b[?2026l\u001b[?2026h\u001b[?25l\u001b[A\u001b[1Gpulling manifest \u001b[K\n",
      "pulling aabd4debf0c8...   2% ▕                ▏  17 MB/1.1 GB  4.4 MB/s   4m10s\u001b[K\u001b[?25h\u001b[?2026l\u001b[?2026h\u001b[?25l\u001b[A\u001b[1Gpulling manifest \u001b[K\n",
      "pulling aabd4debf0c8...   2% ▕                ▏  18 MB/1.1 GB  4.4 MB/s   4m10s\u001b[K\u001b[?25h\u001b[?2026l\u001b[?2026h\u001b[?25l\u001b[A\u001b[1Gpulling manifest \u001b[K\n",
      "pulling aabd4debf0c8...   2% ▕                ▏  20 MB/1.1 GB  4.4 MB/s    4m9s\u001b[K\u001b[?25h\u001b[?2026l\u001b[?2026h\u001b[?25l\u001b[A\u001b[1Gpulling manifest \u001b[K\n",
      "pulling aabd4debf0c8...   2% ▕                ▏  20 MB/1.1 GB  4.4 MB/s    4m9s\u001b[K\u001b[?25h\u001b[?2026l\u001b[?2026h\u001b[?25l\u001b[A\u001b[1Gpulling manifest \u001b[K\n",
      "pulling aabd4debf0c8...   2% ▕                ▏  21 MB/1.1 GB  4.4 MB/s    4m9s\u001b[K\u001b[?25h\u001b[?2026l\u001b[?2026h\u001b[?25l\u001b[A\u001b[1Gpulling manifest \u001b[K\n",
      "pulling aabd4debf0c8...   2% ▕                ▏  21 MB/1.1 GB  4.4 MB/s    4m9s\u001b[K\u001b[?25h\u001b[?2026l\u001b[?2026h\u001b[?25l\u001b[A\u001b[1Gpulling manifest \u001b[K\n",
      "pulling aabd4debf0c8...   2% ▕                ▏  21 MB/1.1 GB  4.4 MB/s    4m9s\u001b[K\u001b[?25h\u001b[?2026l\u001b[?2026h\u001b[?25l\u001b[A\u001b[1Gpulling manifest \u001b[K\n",
      "pulling aabd4debf0c8...   2% ▕                ▏  21 MB/1.1 GB  4.4 MB/s    4m9s\u001b[K\u001b[?25h\u001b[?2026l\u001b[?2026h\u001b[?25l\u001b[A\u001b[1Gpulling manifest \u001b[K\n",
      "pulling aabd4debf0c8...   2% ▕                ▏  22 MB/1.1 GB  4.4 MB/s    4m9s\u001b[K\u001b[?25h\u001b[?2026l\u001b[?2026h\u001b[?25l\u001b[A\u001b[1Gpulling manifest \u001b[K\n",
      "pulling aabd4debf0c8...   2% ▕                ▏  22 MB/1.1 GB  4.5 MB/s    4m5s\u001b[K\u001b[?25h\u001b[?2026l\u001b[?2026h\u001b[?25l\u001b[A\u001b[1Gpulling manifest \u001b[K\n",
      "pulling aabd4debf0c8...   2% ▕                ▏  22 MB/1.1 GB  4.5 MB/s    4m5s\u001b[K\u001b[?25h\u001b[?2026l\u001b[?2026h\u001b[?25l\u001b[A\u001b[1Gpulling manifest \u001b[K\n",
      "pulling aabd4debf0c8...   2% ▕                ▏  22 MB/1.1 GB  4.5 MB/s    4m5s\u001b[K\u001b[?25h\u001b[?2026l\u001b[?2026h\u001b[?25l\u001b[A\u001b[1Gpulling manifest \u001b[K\n",
      "pulling aabd4debf0c8...   2% ▕                ▏  22 MB/1.1 GB  4.5 MB/s    4m5s\u001b[K\u001b[?25h\u001b[?2026l\u001b[?2026h\u001b[?25l\u001b[A\u001b[1Gpulling manifest \u001b[K\n",
      "pulling aabd4debf0c8...   2% ▕                ▏  23 MB/1.1 GB  4.5 MB/s    4m5s\u001b[K\u001b[?25h\u001b[?2026l\u001b[?2026h\u001b[?25l\u001b[A\u001b[1Gpulling manifest \u001b[K\n",
      "pulling aabd4debf0c8...   2% ▕                ▏  23 MB/1.1 GB  4.5 MB/s    4m5s\u001b[K\u001b[?25h\u001b[?2026l\u001b[?2026h\u001b[?25l\u001b[A\u001b[1Gpulling manifest \u001b[K\n",
      "pulling aabd4debf0c8...   2% ▕                ▏  24 MB/1.1 GB  4.5 MB/s    4m5s\u001b[K\u001b[?25h\u001b[?2026l\u001b[?2026h\u001b[?25l\u001b[A\u001b[1Gpulling manifest \u001b[K\n",
      "pulling aabd4debf0c8...   2% ▕                ▏  24 MB/1.1 GB  4.5 MB/s    4m5s\u001b[K\u001b[?25h\u001b[?2026l\u001b[?2026h\u001b[?25l\u001b[A\u001b[1Gpulling manifest \u001b[K\n",
      "pulling aabd4debf0c8...   2% ▕                ▏  24 MB/1.1 GB  4.5 MB/s    4m5s\u001b[K\u001b[?25h\u001b[?2026l\u001b[?2026h\u001b[?25l\u001b[A\u001b[1Gpulling manifest \u001b[K\n",
      "pulling aabd4debf0c8...   2% ▕                ▏  24 MB/1.1 GB  4.5 MB/s    4m5s\u001b[K\u001b[?25h\u001b[?2026l\u001b[?2026h\u001b[?25l\u001b[A\u001b[1Gpulling manifest \u001b[K\n",
      "pulling aabd4debf0c8...   2% ▕                ▏  24 MB/1.1 GB  4.1 MB/s   4m27s\u001b[K\u001b[?25h\u001b[?2026l\u001b[?2026h\u001b[?25l\u001b[A\u001b[1Gpulling manifest \u001b[K\n",
      "pulling aabd4debf0c8...   2% ▕                ▏  24 MB/1.1 GB  4.1 MB/s   4m27s\u001b[K\u001b[?25h\u001b[?2026l\u001b[?2026h\u001b[?25l\u001b[A\u001b[1Gpulling manifest \u001b[K\n",
      "pulling aabd4debf0c8...   2% ▕                ▏  25 MB/1.1 GB  4.1 MB/s   4m27s\u001b[K\u001b[?25h\u001b[?2026l\u001b[?2026h\u001b[?25l\u001b[A\u001b[1Gpulling manifest \u001b[K\n",
      "pulling aabd4debf0c8...   2% ▕                ▏  26 MB/1.1 GB  4.1 MB/s   4m27s\u001b[K\u001b[?25h\u001b[?2026l\u001b[?2026h\u001b[?25l\u001b[A\u001b[1Gpulling manifest \u001b[K\n",
      "pulling aabd4debf0c8...   2% ▕                ▏  27 MB/1.1 GB  4.1 MB/s   4m26s\u001b[K\u001b[?25h\u001b[?2026l\u001b[?2026h\u001b[?25l\u001b[A\u001b[1Gpulling manifest \u001b[K\n",
      "pulling aabd4debf0c8...   2% ▕                ▏  27 MB/1.1 GB  4.1 MB/s   4m26s\u001b[K\u001b[?25h\u001b[?2026l\u001b[?2026h\u001b[?25l\u001b[A\u001b[1Gpulling manifest \u001b[K\n",
      "pulling aabd4debf0c8...   3% ▕                ▏  28 MB/1.1 GB  4.1 MB/s   4m26s\u001b[K\u001b[?25h\u001b[?2026l\u001b[?2026h\u001b[?25l\u001b[A\u001b[1Gpulling manifest \u001b[K\n",
      "pulling aabd4debf0c8...   3% ▕                ▏  28 MB/1.1 GB  4.1 MB/s   4m26s\u001b[K\u001b[?25h\u001b[?2026l\u001b[?2026h\u001b[?25l\u001b[A\u001b[1Gpulling manifest \u001b[K\n",
      "pulling aabd4debf0c8...   3% ▕                ▏  29 MB/1.1 GB  4.1 MB/s   4m26s\u001b[K\u001b[?25h\u001b[?2026l\u001b[?2026h\u001b[?25l\u001b[A\u001b[1Gpulling manifest \u001b[K\n",
      "pulling aabd4debf0c8...   3% ▕                ▏  29 MB/1.1 GB  4.1 MB/s   4m26s\u001b[K\u001b[?25h\u001b[?2026l\u001b[?2026h\u001b[?25l\u001b[A\u001b[1Gpulling manifest \u001b[K\n",
      "pulling aabd4debf0c8...   3% ▕                ▏  30 MB/1.1 GB  4.4 MB/s    4m9s\u001b[K\u001b[?25h\u001b[?2026l\u001b[?2026h\u001b[?25l\u001b[A\u001b[1Gpulling manifest \u001b[K\n",
      "pulling aabd4debf0c8...   3% ▕                ▏  30 MB/1.1 GB  4.4 MB/s    4m9s\u001b[K\u001b[?25h\u001b[?2026l\u001b[?2026h\u001b[?25l\u001b[A\u001b[1Gpulling manifest \u001b[K\n",
      "pulling aabd4debf0c8...   3% ▕                ▏  31 MB/1.1 GB  4.4 MB/s    4m9s\u001b[K\u001b[?25h\u001b[?2026l\u001b[?2026h\u001b[?25l\u001b[A\u001b[1Gpulling manifest \u001b[K\n",
      "pulling aabd4debf0c8...   3% ▕                ▏  31 MB/1.1 GB  4.4 MB/s    4m9s\u001b[K\u001b[?25h\u001b[?2026l\u001b[?2026h\u001b[?25l\u001b[A\u001b[1Gpulling manifest \u001b[K\n",
      "pulling aabd4debf0c8...   3% ▕                ▏  32 MB/1.1 GB  4.4 MB/s    4m9s\u001b[K\u001b[?25h\u001b[?2026l\u001b[?2026h\u001b[?25l\u001b[A\u001b[1Gpulling manifest \u001b[K\n",
      "pulling aabd4debf0c8...   3% ▕                ▏  32 MB/1.1 GB  4.4 MB/s    4m9s\u001b[K\u001b[?25h\u001b[?2026l\u001b[?2026h\u001b[?25l\u001b[A\u001b[1Gpulling manifest \u001b[K\n",
      "pulling aabd4debf0c8...   3% ▕                ▏  33 MB/1.1 GB  4.4 MB/s    4m9s\u001b[K\u001b[?25h\u001b[?2026l\u001b[?2026h\u001b[?25l\u001b[A\u001b[1Gpulling manifest \u001b[K\n",
      "pulling aabd4debf0c8...   3% ▕                ▏  33 MB/1.1 GB  4.4 MB/s    4m9s\u001b[K\u001b[?25h\u001b[?2026l\u001b[?2026h\u001b[?25l\u001b[A\u001b[1Gpulling manifest \u001b[K\n",
      "pulling aabd4debf0c8...   3% ▕                ▏  33 MB/1.1 GB  4.4 MB/s    4m8s\u001b[K\u001b[?25h\u001b[?2026l\u001b[?2026h\u001b[?25l\u001b[A\u001b[1Gpulling manifest \u001b[K\n",
      "pulling aabd4debf0c8...   3% ▕                ▏  34 MB/1.1 GB  4.4 MB/s    4m8s\u001b[K\u001b[?25h\u001b[?2026l\u001b[?2026h\u001b[?25l\u001b[A\u001b[1Gpulling manifest \u001b[K\n",
      "pulling aabd4debf0c8...   3% ▕                ▏  34 MB/1.1 GB  4.4 MB/s    4m8s\u001b[K\u001b[?25h\u001b[?2026l\u001b[?2026h\u001b[?25l\u001b[A\u001b[1Gpulling manifest \u001b[K\n",
      "pulling aabd4debf0c8...   3% ▕                ▏  34 MB/1.1 GB  4.3 MB/s   4m10s\u001b[K\u001b[?25h\u001b[?2026l\u001b[?2026h\u001b[?25l\u001b[A\u001b[1Gpulling manifest \u001b[K\n",
      "pulling aabd4debf0c8...   3% ▕                ▏  35 MB/1.1 GB  4.3 MB/s   4m10s\u001b[K\u001b[?25h\u001b[?2026l\u001b[?2026h\u001b[?25l\u001b[A\u001b[1Gpulling manifest \u001b[K\n",
      "pulling aabd4debf0c8...   3% ▕                ▏  35 MB/1.1 GB  4.3 MB/s   4m10s\u001b[K\u001b[?25h\u001b[?2026l\u001b[?2026h\u001b[?25l\u001b[A\u001b[1Gpulling manifest \u001b[K\n",
      "pulling aabd4debf0c8...   3% ▕                ▏  35 MB/1.1 GB  4.3 MB/s   4m10s\u001b[K\u001b[?25h\u001b[?2026l\u001b[?2026h\u001b[?25l\u001b[A\u001b[1Gpulling manifest \u001b[K\n",
      "pulling aabd4debf0c8...   3% ▕                ▏  36 MB/1.1 GB  4.3 MB/s   4m10s\u001b[K\u001b[?25h\u001b[?2026l\u001b[?2026h\u001b[?25l\u001b[A\u001b[1Gpulling manifest \u001b[K\n",
      "pulling aabd4debf0c8...   3% ▕                ▏  36 MB/1.1 GB  4.3 MB/s   4m10s\u001b[K\u001b[?25h\u001b[?2026l\u001b[?2026h\u001b[?25l\u001b[A\u001b[1Gpulling manifest \u001b[K\n",
      "pulling aabd4debf0c8...   3% ▕                ▏  37 MB/1.1 GB  4.3 MB/s   4m10s\u001b[K\u001b[?25h\u001b[?2026l\u001b[?2026h\u001b[?25l\u001b[A\u001b[1Gpulling manifest \u001b[K\n",
      "pulling aabd4debf0c8...   3% ▕                ▏  37 MB/1.1 GB  4.3 MB/s   4m10s\u001b[K\u001b[?25h\u001b[?2026l\u001b[?2026h\u001b[?25l\u001b[A\u001b[1Gpulling manifest \u001b[K\n",
      "pulling aabd4debf0c8...   3% ▕                ▏  38 MB/1.1 GB  4.3 MB/s    4m9s\u001b[K\u001b[?25h\u001b[?2026l\u001b[?2026h\u001b[?25l\u001b[A\u001b[1Gpulling manifest \u001b[K\n",
      "pulling aabd4debf0c8...   3% ▕                ▏  38 MB/1.1 GB  4.3 MB/s    4m9s\u001b[K\u001b[?25h\u001b[?2026l\u001b[?2026h\u001b[?25l\u001b[A\u001b[1Gpulling manifest \u001b[K\n",
      "pulling aabd4debf0c8...   4% ▕                ▏  39 MB/1.1 GB  4.3 MB/s    4m9s\u001b[K\u001b[?25h\u001b[?2026l\u001b[?2026h\u001b[?25l\u001b[A\u001b[1Gpulling manifest \u001b[K\n",
      "pulling aabd4debf0c8...   4% ▕                ▏  39 MB/1.1 GB  4.3 MB/s    4m9s\u001b[K\u001b[?25h\u001b[?2026l\u001b[?2026h\u001b[?25l\u001b[A\u001b[1Gpulling manifest \u001b[K\n",
      "pulling aabd4debf0c8...   4% ▕                ▏  39 MB/1.1 GB  4.3 MB/s    4m9s\u001b[K\u001b[?25h\u001b[?2026l\u001b[?2026h\u001b[?25l\u001b[A\u001b[1Gpulling manifest \u001b[K\n",
      "pulling aabd4debf0c8...   4% ▕                ▏  40 MB/1.1 GB  4.3 MB/s    4m9s\u001b[K\u001b[?25h\u001b[?2026l\u001b[?2026h\u001b[?25l\u001b[A\u001b[1Gpulling manifest \u001b[K\n",
      "pulling aabd4debf0c8...   4% ▕                ▏  40 MB/1.1 GB  4.3 MB/s    4m9s\u001b[K\u001b[?25h\u001b[?2026l\u001b[?2026h\u001b[?25l\u001b[A\u001b[1Gpulling manifest \u001b[K\n",
      "pulling aabd4debf0c8...   4% ▕                ▏  41 MB/1.1 GB  4.3 MB/s    4m9s\u001b[K\u001b[?25h\u001b[?2026l\u001b[?2026h\u001b[?25l\u001b[A\u001b[1Gpulling manifest \u001b[K\n",
      "pulling aabd4debf0c8...   4% ▕                ▏  41 MB/1.1 GB  4.3 MB/s    4m9s\u001b[K\u001b[?25h\u001b[?2026l\u001b[?2026h\u001b[?25l\u001b[A\u001b[1Gpulling manifest \u001b[K\n",
      "pulling aabd4debf0c8...   4% ▕                ▏  42 MB/1.1 GB  4.3 MB/s    4m9s\u001b[K\u001b[?25h\u001b[?2026l\u001b[?2026h\u001b[?25l\u001b[A\u001b[1Gpulling manifest \u001b[K\n",
      "pulling aabd4debf0c8...   4% ▕                ▏  42 MB/1.1 GB  4.3 MB/s    4m9s\u001b[K\u001b[?25h\u001b[?2026l\u001b[?2026h\u001b[?25l\u001b[A\u001b[1Gpulling manifest \u001b[K\n",
      "pulling aabd4debf0c8...   4% ▕                ▏  43 MB/1.1 GB  4.3 MB/s    4m8s\u001b[K\u001b[?25h\u001b[?2026l\u001b[?2026h\u001b[?25l\u001b[A\u001b[1Gpulling manifest \u001b[K\n",
      "pulling aabd4debf0c8...   4% ▕                ▏  43 MB/1.1 GB  4.4 MB/s    4m4s\u001b[K\u001b[?25h\u001b[?2026l\u001b[?2026h\u001b[?25l\u001b[A\u001b[1Gpulling manifest \u001b[K\n",
      "pulling aabd4debf0c8...   4% ▕                ▏  44 MB/1.1 GB  4.4 MB/s    4m4s\u001b[K\u001b[?25h\u001b[?2026l\u001b[?2026h\u001b[?25l\u001b[A\u001b[1Gpulling manifest \u001b[K\n",
      "pulling aabd4debf0c8...   4% ▕                ▏  44 MB/1.1 GB  4.4 MB/s    4m4s\u001b[K\u001b[?25h\u001b[?2026l\u001b[?2026h\u001b[?25l\u001b[A\u001b[1Gpulling manifest \u001b[K\n",
      "pulling aabd4debf0c8...   4% ▕                ▏  44 MB/1.1 GB  4.4 MB/s    4m4s\u001b[K\u001b[?25h\u001b[?2026l\u001b[?2026h\u001b[?25l\u001b[A\u001b[1Gpulling manifest \u001b[K\n",
      "pulling aabd4debf0c8...   4% ▕                ▏  44 MB/1.1 GB  4.4 MB/s    4m4s\u001b[K\u001b[?25h\u001b[?2026l\u001b[?2026h\u001b[?25l\u001b[A\u001b[1Gpulling manifest \u001b[K\n",
      "pulling aabd4debf0c8...   4% ▕                ▏  45 MB/1.1 GB  4.4 MB/s    4m4s\u001b[K\u001b[?25h\u001b[?2026l\u001b[?2026h\u001b[?25l\u001b[A\u001b[1Gpulling manifest \u001b[K\n",
      "pulling aabd4debf0c8...   4% ▕                ▏  45 MB/1.1 GB  4.4 MB/s    4m4s\u001b[K\u001b[?25h\u001b[?2026l\u001b[?2026h\u001b[?25l\u001b[A\u001b[1Gpulling manifest \u001b[K\n",
      "pulling aabd4debf0c8...   4% ▕                ▏  46 MB/1.1 GB  4.4 MB/s    4m4s\u001b[K\u001b[?25h\u001b[?2026l\u001b[?2026h\u001b[?25l\u001b[A\u001b[1Gpulling manifest \u001b[K\n",
      "pulling aabd4debf0c8...   4% ▕                ▏  47 MB/1.1 GB  4.4 MB/s    4m4s\u001b[K\u001b[?25h\u001b[?2026l\u001b[?2026h\u001b[?25l\u001b[A\u001b[1Gpulling manifest \u001b[K\n",
      "pulling aabd4debf0c8...   4% ▕                ▏  47 MB/1.1 GB  4.4 MB/s    4m3s\u001b[K\u001b[?25h\u001b[?2026l\u001b[?2026h\u001b[?25l\u001b[A\u001b[1Gpulling manifest \u001b[K\n",
      "pulling aabd4debf0c8...   4% ▕                ▏  48 MB/1.1 GB  4.7 MB/s   3m47s\u001b[K\u001b[?25h\u001b[?2026l\u001b[?2026h\u001b[?25l\u001b[A\u001b[1Gpulling manifest \u001b[K\n",
      "pulling aabd4debf0c8...   4% ▕                ▏  48 MB/1.1 GB  4.7 MB/s   3m47s\u001b[K\u001b[?25h\u001b[?2026l\u001b[?2026h\u001b[?25l\u001b[A\u001b[1Gpulling manifest \u001b[K\n",
      "pulling aabd4debf0c8...   4% ▕                ▏  48 MB/1.1 GB  4.7 MB/s   3m47s\u001b[K\u001b[?25h\u001b[?2026l\u001b[?2026h\u001b[?25l\u001b[A\u001b[1Gpulling manifest \u001b[K\n",
      "pulling aabd4debf0c8...   4% ▕                ▏  49 MB/1.1 GB  4.7 MB/s   3m47s\u001b[K\u001b[?25h\u001b[?2026l\u001b[?2026h\u001b[?25l\u001b[A\u001b[1Gpulling manifest \u001b[K\n",
      "pulling aabd4debf0c8...   4% ▕                ▏  49 MB/1.1 GB  4.7 MB/s   3m47s\u001b[K\u001b[?25h\u001b[?2026l\u001b[?2026h\u001b[?25l\u001b[A\u001b[1Gpulling manifest \u001b[K\n",
      "pulling aabd4debf0c8...   4% ▕                ▏  50 MB/1.1 GB  4.7 MB/s   3m46s\u001b[K\u001b[?25h\u001b[?2026l\u001b[?2026h\u001b[?25l\u001b[A\u001b[1Gpulling manifest \u001b[K\n",
      "pulling aabd4debf0c8...   5% ▕                ▏  50 MB/1.1 GB  4.7 MB/s   3m46s\u001b[K\u001b[?25h\u001b[?2026l\u001b[?2026h\u001b[?25l\u001b[A\u001b[1Gpulling manifest \u001b[K\n",
      "pulling aabd4debf0c8...   5% ▕                ▏  51 MB/1.1 GB  4.7 MB/s   3m46s\u001b[K\u001b[?25h\u001b[?2026l\u001b[?2026h\u001b[?25l\u001b[A\u001b[1Gpulling manifest \u001b[K\n",
      "pulling aabd4debf0c8...   5% ▕                ▏  51 MB/1.1 GB  4.7 MB/s   3m46s\u001b[K\u001b[?25h\u001b[?2026l\u001b[?2026h\u001b[?25l\u001b[A\u001b[1Gpulling manifest \u001b[K\n",
      "pulling aabd4debf0c8...   5% ▕                ▏  52 MB/1.1 GB  4.7 MB/s   3m46s\u001b[K\u001b[?25h\u001b[?2026l\u001b[?2026h\u001b[?25l\u001b[A\u001b[1Gpulling manifest \u001b[K\n",
      "pulling aabd4debf0c8...   5% ▕                ▏  52 MB/1.1 GB  4.2 MB/s   4m11s\u001b[K\u001b[?25h\u001b[?2026l\u001b[?2026h\u001b[?25l\u001b[A\u001b[1Gpulling manifest \u001b[K\n",
      "pulling aabd4debf0c8...   5% ▕                ▏  53 MB/1.1 GB  4.2 MB/s   4m11s\u001b[K\u001b[?25h\u001b[?2026l\u001b[?2026h\u001b[?25l\u001b[A\u001b[1Gpulling manifest \u001b[K\n",
      "pulling aabd4debf0c8...   5% ▕                ▏  53 MB/1.1 GB  4.2 MB/s   4m11s\u001b[K\u001b[?25h\u001b[?2026l\u001b[?2026h\u001b[?25l\u001b[A\u001b[1Gpulling manifest \u001b[K\n",
      "pulling aabd4debf0c8...   5% ▕                ▏  54 MB/1.1 GB  4.2 MB/s   4m11s\u001b[K\u001b[?25h\u001b[?2026l\u001b[?2026h\u001b[?25l\u001b[A\u001b[1Gpulling manifest \u001b[K\n",
      "pulling aabd4debf0c8...   5% ▕                ▏  54 MB/1.1 GB  4.2 MB/s   4m11s\u001b[K\u001b[?25h\u001b[?2026l\u001b[?2026h\u001b[?25l\u001b[A\u001b[1Gpulling manifest \u001b[K\n",
      "pulling aabd4debf0c8...   5% ▕                ▏  54 MB/1.1 GB  4.2 MB/s   4m11s\u001b[K\u001b[?25h\u001b[?2026l\u001b[?2026h\u001b[?25l\u001b[A\u001b[1Gpulling manifest \u001b[K\n",
      "pulling aabd4debf0c8...   5% ▕                ▏  55 MB/1.1 GB  4.2 MB/s   4m11s\u001b[K\u001b[?25h\u001b[?2026l\u001b[?2026h\u001b[?25l\u001b[A\u001b[1Gpulling manifest \u001b[K\n",
      "pulling aabd4debf0c8...   5% ▕                ▏  55 MB/1.1 GB  4.2 MB/s   4m11s\u001b[K\u001b[?25h\u001b[?2026l\u001b[?2026h\u001b[?25l\u001b[A\u001b[1Gpulling manifest \u001b[K\n",
      "pulling aabd4debf0c8...   5% ▕                ▏  55 MB/1.1 GB  4.2 MB/s   4m11s\u001b[K\u001b[?25h\u001b[?2026l\u001b[?2026h\u001b[?25l\u001b[A\u001b[1Gpulling manifest \u001b[K\n",
      "pulling aabd4debf0c8...   5% ▕                ▏  56 MB/1.1 GB  4.2 MB/s   4m10s\u001b[K\u001b[?25h\u001b[?2026l\u001b[?2026h\u001b[?25l\u001b[A\u001b[1Gpulling manifest \u001b[K\n",
      "pulling aabd4debf0c8...   5% ▕                ▏  56 MB/1.1 GB  4.2 MB/s   4m10s\u001b[K\u001b[?25h\u001b[?2026l\u001b[?2026h\u001b[?25l\u001b[A\u001b[1Gpulling manifest \u001b[K\n",
      "pulling aabd4debf0c8...   5% ▕                ▏  57 MB/1.1 GB  4.3 MB/s    4m4s\u001b[K\u001b[?25h\u001b[?2026l\u001b[?2026h\u001b[?25l\u001b[A\u001b[1Gpulling manifest \u001b[K\n",
      "pulling aabd4debf0c8...   5% ▕                ▏  57 MB/1.1 GB  4.3 MB/s    4m4s\u001b[K\u001b[?25h\u001b[?2026l\u001b[?2026h\u001b[?25l\u001b[A\u001b[1Gpulling manifest \u001b[K\n",
      "pulling aabd4debf0c8...   5% ▕                ▏  58 MB/1.1 GB  4.3 MB/s    4m4s\u001b[K\u001b[?25h\u001b[?2026l\u001b[?2026h\u001b[?25l\u001b[A\u001b[1Gpulling manifest \u001b[K\n",
      "pulling aabd4debf0c8...   5% ▕                ▏  58 MB/1.1 GB  4.3 MB/s    4m4s\u001b[K\u001b[?25h\u001b[?2026l\u001b[?2026h\u001b[?25l\u001b[A\u001b[1Gpulling manifest \u001b[K\n",
      "pulling aabd4debf0c8...   5% ▕                ▏  59 MB/1.1 GB  4.3 MB/s    4m4s\u001b[K\u001b[?25h\u001b[?2026l\u001b[?2026h\u001b[?25l\u001b[A\u001b[1Gpulling manifest \u001b[K\n",
      "pulling aabd4debf0c8...   5% ▕                ▏  59 MB/1.1 GB  4.3 MB/s    4m4s\u001b[K\u001b[?25h\u001b[?2026l\u001b[?2026h\u001b[?25l\u001b[A\u001b[1Gpulling manifest \u001b[K\n",
      "pulling aabd4debf0c8...   5% ▕                ▏  60 MB/1.1 GB  4.3 MB/s    4m3s\u001b[K\u001b[?25h\u001b[?2026l\u001b[?2026h\u001b[?25l\u001b[A\u001b[1Gpulling manifest \u001b[K\n",
      "pulling aabd4debf0c8...   6% ▕                ▏  61 MB/1.1 GB  4.3 MB/s    4m3s\u001b[K\u001b[?25h\u001b[?2026l\u001b[?2026h\u001b[?25l\u001b[A\u001b[1Gpulling manifest \u001b[K\n",
      "pulling aabd4debf0c8...   6% ▕                ▏  61 MB/1.1 GB  4.3 MB/s    4m3s\u001b[K\u001b[?25h\u001b[?2026l\u001b[?2026h\u001b[?25l\u001b[A\u001b[1Gpulling manifest \u001b[K\n",
      "pulling aabd4debf0c8...   6% ▕                ▏  62 MB/1.1 GB  4.3 MB/s    4m3s\u001b[K\u001b[?25h\u001b[?2026l\u001b[?2026h\u001b[?25l\u001b[A\u001b[1Gpulling manifest \u001b[K\n",
      "pulling aabd4debf0c8...   6% ▕                ▏  63 MB/1.1 GB  4.5 MB/s   3m53s\u001b[K\u001b[?25h\u001b[?2026l\u001b[?2026h\u001b[?25l\u001b[A\u001b[1Gpulling manifest \u001b[K\n",
      "pulling aabd4debf0c8...   6% ▕                ▏  63 MB/1.1 GB  4.5 MB/s   3m52s\u001b[K\u001b[?25h\u001b[?2026l\u001b[?2026h\u001b[?25l\u001b[A\u001b[1Gpulling manifest \u001b[K\n",
      "pulling aabd4debf0c8...   6% ▕                ▏  64 MB/1.1 GB  4.5 MB/s   3m52s\u001b[K\u001b[?25h\u001b[?2026l\u001b[?2026h\u001b[?25l\u001b[A\u001b[1Gpulling manifest \u001b[K\n",
      "pulling aabd4debf0c8...   6% ▕                ▏  65 MB/1.1 GB  4.5 MB/s   3m52s\u001b[K\u001b[?25h\u001b[?2026l\u001b[?2026h\u001b[?25l\u001b[A\u001b[1Gpulling manifest \u001b[K\n",
      "pulling aabd4debf0c8...   6% ▕                ▏  65 MB/1.1 GB  4.5 MB/s   3m52s\u001b[K\u001b[?25h\u001b[?2026l\u001b[?2026h\u001b[?25l\u001b[A\u001b[1Gpulling manifest \u001b[K\n",
      "pulling aabd4debf0c8...   6% ▕                ▏  66 MB/1.1 GB  4.5 MB/s   3m52s\u001b[K\u001b[?25h\u001b[?2026l\u001b[?2026h\u001b[?25l\u001b[A\u001b[1Gpulling manifest \u001b[K\n",
      "pulling aabd4debf0c8...   6% ▕                ▏  66 MB/1.1 GB  4.5 MB/s   3m52s\u001b[K\u001b[?25h\u001b[?2026l\u001b[?2026h\u001b[?25l\u001b[A\u001b[1Gpulling manifest \u001b[K\n",
      "pulling aabd4debf0c8...   6% ▕                ▏  67 MB/1.1 GB  4.5 MB/s   3m52s\u001b[K\u001b[?25h\u001b[?2026l\u001b[?2026h\u001b[?25l\u001b[A\u001b[1Gpulling manifest \u001b[K\n",
      "pulling aabd4debf0c8...   6% ▕                ▏  68 MB/1.1 GB  4.5 MB/s   3m51s\u001b[K\u001b[?25h\u001b[?2026l\u001b[?2026h\u001b[?25l\u001b[A\u001b[1Gpulling manifest \u001b[K\n",
      "pulling aabd4debf0c8...   6% ▕                ▏  69 MB/1.1 GB  4.5 MB/s   3m51s\u001b[K\u001b[?25h\u001b[?2026l\u001b[?2026h\u001b[?25l\u001b[A\u001b[1Gpulling manifest \u001b[K\n",
      "pulling aabd4debf0c8...   6% ▕                ▏  69 MB/1.1 GB  5.0 MB/s   3m29s\u001b[K\u001b[?25h\u001b[?2026l\u001b[?2026h\u001b[?25l\u001b[A\u001b[1Gpulling manifest \u001b[K\n",
      "pulling aabd4debf0c8...   6% ▕█               ▏  70 MB/1.1 GB  5.0 MB/s   3m28s\u001b[K\u001b[?25h\u001b[?2026l\u001b[?2026h\u001b[?25l\u001b[A\u001b[1Gpulling manifest \u001b[K\n",
      "pulling aabd4debf0c8...   6% ▕█               ▏  71 MB/1.1 GB  5.0 MB/s   3m28s\u001b[K\u001b[?25h\u001b[?2026l\u001b[?2026h\u001b[?25l\u001b[A\u001b[1Gpulling manifest \u001b[K\n",
      "pulling aabd4debf0c8...   6% ▕█               ▏  71 MB/1.1 GB  5.0 MB/s   3m28s\u001b[K\u001b[?25h\u001b[?2026l\u001b[?2026h\u001b[?25l\u001b[A\u001b[1Gpulling manifest \u001b[K\n",
      "pulling aabd4debf0c8...   6% ▕█               ▏  72 MB/1.1 GB  5.0 MB/s   3m28s\u001b[K\u001b[?25h\u001b[?2026l\u001b[?2026h\u001b[?25l\u001b[A\u001b[1Gpulling manifest \u001b[K\n",
      "pulling aabd4debf0c8...   7% ▕█               ▏  72 MB/1.1 GB  5.0 MB/s   3m28s\u001b[K\u001b[?25h\u001b[?2026l\u001b[?2026h\u001b[?25l\u001b[A\u001b[1Gpulling manifest \u001b[K\n",
      "pulling aabd4debf0c8...   7% ▕█               ▏  73 MB/1.1 GB  5.0 MB/s   3m28s\u001b[K\u001b[?25h\u001b[?2026l\u001b[?2026h\u001b[?25l\u001b[A\u001b[1Gpulling manifest \u001b[K\n",
      "pulling aabd4debf0c8...   7% ▕█               ▏  73 MB/1.1 GB  5.0 MB/s   3m28s\u001b[K\u001b[?25h\u001b[?2026l\u001b[?2026h\u001b[?25l\u001b[A\u001b[1Gpulling manifest \u001b[K\n",
      "pulling aabd4debf0c8...   7% ▕█               ▏  74 MB/1.1 GB  5.0 MB/s   3m28s\u001b[K\u001b[?25h\u001b[?2026l\u001b[?2026h\u001b[?25l\u001b[A\u001b[1Gpulling manifest \u001b[K\n",
      "pulling aabd4debf0c8...   7% ▕█               ▏  74 MB/1.1 GB  5.0 MB/s   3m28s\u001b[K\u001b[?25h\u001b[?2026l\u001b[?2026h\u001b[?25l\u001b[A\u001b[1Gpulling manifest \u001b[K\n",
      "pulling aabd4debf0c8...   7% ▕█               ▏  75 MB/1.1 GB  5.0 MB/s   3m28s\u001b[K\u001b[?25h\u001b[?2026l\u001b[?2026h\u001b[?25l\u001b[A\u001b[1Gpulling manifest \u001b[K\n",
      "pulling aabd4debf0c8...   7% ▕█               ▏  75 MB/1.1 GB  5.0 MB/s   3m28s\u001b[K\u001b[?25h\u001b[?2026l\u001b[?2026h\u001b[?25l\u001b[A\u001b[1Gpulling manifest \u001b[K\n",
      "pulling aabd4debf0c8...   7% ▕█               ▏  76 MB/1.1 GB  5.0 MB/s   3m28s\u001b[K\u001b[?25h\u001b[?2026l\u001b[?2026h\u001b[?25l\u001b[A\u001b[1Gpulling manifest \u001b[K\n",
      "pulling aabd4debf0c8...   7% ▕█               ▏  76 MB/1.1 GB  5.0 MB/s   3m28s\u001b[K\u001b[?25h\u001b[?2026l\u001b[?2026h\u001b[?25l\u001b[A\u001b[1Gpulling manifest \u001b[K\n",
      "pulling aabd4debf0c8...   7% ▕█               ▏  77 MB/1.1 GB  5.0 MB/s   3m28s\u001b[K\u001b[?25h\u001b[?2026l\u001b[?2026h\u001b[?25l\u001b[A\u001b[1Gpulling manifest \u001b[K\n",
      "pulling aabd4debf0c8...   7% ▕█               ▏  77 MB/1.1 GB  5.0 MB/s   3m28s\u001b[K\u001b[?25h\u001b[?2026l\u001b[?2026h\u001b[?25l\u001b[A\u001b[1Gpulling manifest \u001b[K\n",
      "pulling aabd4debf0c8...   7% ▕█               ▏  77 MB/1.1 GB  5.0 MB/s   3m28s\u001b[K\u001b[?25h\u001b[?2026l\u001b[?2026h\u001b[?25l\u001b[A\u001b[1Gpulling manifest \u001b[K\n",
      "pulling aabd4debf0c8...   7% ▕█               ▏  78 MB/1.1 GB  5.0 MB/s   3m28s\u001b[K\u001b[?25h\u001b[?2026l\u001b[?2026h\u001b[?25l\u001b[A\u001b[1Gpulling manifest \u001b[K\n",
      "pulling aabd4debf0c8...   7% ▕█               ▏  78 MB/1.1 GB  5.0 MB/s   3m27s\u001b[K\u001b[?25h\u001b[?2026l\u001b[?2026h\u001b[?25l\u001b[A\u001b[1Gpulling manifest \u001b[K\n",
      "pulling aabd4debf0c8...   7% ▕█               ▏  79 MB/1.1 GB  5.0 MB/s   3m27s\u001b[K\u001b[?25h\u001b[?2026l\u001b[?2026h\u001b[?25l\u001b[A\u001b[1Gpulling manifest \u001b[K\n",
      "pulling aabd4debf0c8...   7% ▕█               ▏  80 MB/1.1 GB  5.1 MB/s   3m23s\u001b[K\u001b[?25h\u001b[?2026l\u001b[?2026h\u001b[?25l\u001b[A\u001b[1Gpulling manifest \u001b[K\n",
      "pulling aabd4debf0c8...   7% ▕█               ▏  80 MB/1.1 GB  5.1 MB/s   3m23s\u001b[K\u001b[?25h\u001b[?2026l\u001b[?2026h\u001b[?25l\u001b[A\u001b[1Gpulling manifest \u001b[K\n",
      "pulling aabd4debf0c8...   7% ▕█               ▏  81 MB/1.1 GB  5.1 MB/s   3m23s\u001b[K\u001b[?25h\u001b[?2026l\u001b[?2026h\u001b[?25l\u001b[A\u001b[1Gpulling manifest \u001b[K\n",
      "pulling aabd4debf0c8...   7% ▕█               ▏  82 MB/1.1 GB  5.1 MB/s   3m22s\u001b[K\u001b[?25h\u001b[?2026l\u001b[?2026h\u001b[?25l\u001b[A\u001b[1Gpulling manifest \u001b[K\n",
      "pulling aabd4debf0c8...   7% ▕█               ▏  82 MB/1.1 GB  5.1 MB/s   3m22s\u001b[K\u001b[?25h\u001b[?2026l\u001b[?2026h\u001b[?25l\u001b[A\u001b[1Gpulling manifest \u001b[K\n",
      "pulling aabd4debf0c8...   7% ▕█               ▏  83 MB/1.1 GB  5.1 MB/s   3m22s\u001b[K\u001b[?25h\u001b[?2026l\u001b[?2026h\u001b[?25l\u001b[A\u001b[1Gpulling manifest \u001b[K\n",
      "pulling aabd4debf0c8...   8% ▕█               ▏  83 MB/1.1 GB  5.1 MB/s   3m22s\u001b[K\u001b[?25h\u001b[?2026l\u001b[?2026h\u001b[?25l\u001b[A\u001b[1Gpulling manifest \u001b[K\n",
      "pulling aabd4debf0c8...   8% ▕█               ▏  84 MB/1.1 GB  5.1 MB/s   3m22s\u001b[K\u001b[?25h\u001b[?2026l\u001b[?2026h\u001b[?25l\u001b[A\u001b[1Gpulling manifest \u001b[K\n",
      "pulling aabd4debf0c8...   8% ▕█               ▏  84 MB/1.1 GB  5.1 MB/s   3m22s\u001b[K\u001b[?25h\u001b[?2026l\u001b[?2026h\u001b[?25l\u001b[A\u001b[1Gpulling manifest \u001b[K\n",
      "pulling aabd4debf0c8...   8% ▕█               ▏  85 MB/1.1 GB  5.1 MB/s   3m22s\u001b[K\u001b[?25h\u001b[?2026l\u001b[?2026h\u001b[?25l\u001b[A\u001b[1Gpulling manifest \u001b[K\n",
      "pulling aabd4debf0c8...   8% ▕█               ▏  85 MB/1.1 GB  5.1 MB/s   3m22s\u001b[K\u001b[?25h\u001b[?2026l\u001b[?2026h\u001b[?25l\u001b[A\u001b[1Gpulling manifest \u001b[K\n",
      "pulling aabd4debf0c8...   8% ▕█               ▏  86 MB/1.1 GB  5.3 MB/s   3m16s\u001b[K\u001b[?25h\u001b[?2026l\u001b[?2026h\u001b[?25l\u001b[A\u001b[1Gpulling manifest \u001b[K\n",
      "pulling aabd4debf0c8...   8% ▕█               ▏  87 MB/1.1 GB  5.3 MB/s   3m16s\u001b[K\u001b[?25h\u001b[?2026l\u001b[?2026h\u001b[?25l\u001b[A\u001b[1Gpulling manifest \u001b[K\n",
      "pulling aabd4debf0c8...   8% ▕█               ▏  87 MB/1.1 GB  5.3 MB/s   3m15s\u001b[K\u001b[?25h\u001b[?2026l\u001b[?2026h\u001b[?25l\u001b[A\u001b[1Gpulling manifest \u001b[K\n",
      "pulling aabd4debf0c8...   8% ▕█               ▏  88 MB/1.1 GB  5.3 MB/s   3m15s\u001b[K\u001b[?25h\u001b[?2026l\u001b[?2026h\u001b[?25l\u001b[A\u001b[1Gpulling manifest \u001b[K\n",
      "pulling aabd4debf0c8...   8% ▕█               ▏  88 MB/1.1 GB  5.3 MB/s   3m15s\u001b[K\u001b[?25h\u001b[?2026l\u001b[?2026h\u001b[?25l\u001b[A\u001b[1Gpulling manifest \u001b[K\n",
      "pulling aabd4debf0c8...   8% ▕█               ▏  89 MB/1.1 GB  5.3 MB/s   3m15s\u001b[K\u001b[?25h\u001b[?2026l\u001b[?2026h\u001b[?25l\u001b[A\u001b[1Gpulling manifest \u001b[K\n",
      "pulling aabd4debf0c8...   8% ▕█               ▏  89 MB/1.1 GB  5.3 MB/s   3m15s\u001b[K\u001b[?25h\u001b[?2026l\u001b[?2026h\u001b[?25l\u001b[A\u001b[1Gpulling manifest \u001b[K\n",
      "pulling aabd4debf0c8...   8% ▕█               ▏  90 MB/1.1 GB  5.3 MB/s   3m15s\u001b[K\u001b[?25h\u001b[?2026l\u001b[?2026h\u001b[?25l\u001b[A\u001b[1Gpulling manifest \u001b[K\n",
      "pulling aabd4debf0c8...   8% ▕█               ▏  90 MB/1.1 GB  5.3 MB/s   3m15s\u001b[K\u001b[?25h\u001b[?2026l\u001b[?2026h\u001b[?25l\u001b[A\u001b[1Gpulling manifest \u001b[K\n",
      "pulling aabd4debf0c8...   8% ▕█               ▏  91 MB/1.1 GB  5.3 MB/s   3m15s\u001b[K\u001b[?25h\u001b[?2026l\u001b[?2026h\u001b[?25l\u001b[A\u001b[1Gpulling manifest \u001b[K\n",
      "pulling aabd4debf0c8...   8% ▕█               ▏  91 MB/1.1 GB  5.3 MB/s   3m12s\u001b[K\u001b[?25h\u001b[?2026l\u001b[?2026h\u001b[?25l\u001b[A\u001b[1Gpulling manifest \u001b[K\n",
      "pulling aabd4debf0c8...   8% ▕█               ▏  91 MB/1.1 GB  5.3 MB/s   3m12s\u001b[K\u001b[?25h\u001b[?2026l\u001b[?2026h\u001b[?25l\u001b[A\u001b[1Gpulling manifest \u001b[K\n",
      "pulling aabd4debf0c8...   8% ▕█               ▏  92 MB/1.1 GB  5.3 MB/s   3m12s\u001b[K\u001b[?25h\u001b[?2026l\u001b[?2026h\u001b[?25l\u001b[A\u001b[1Gpulling manifest \u001b[K\n",
      "pulling aabd4debf0c8...   8% ▕█               ▏  92 MB/1.1 GB  5.3 MB/s   3m12s\u001b[K\u001b[?25h\u001b[?2026l\u001b[?2026h\u001b[?25l\u001b[A\u001b[1Gpulling manifest \u001b[K\n",
      "pulling aabd4debf0c8...   8% ▕█               ▏  93 MB/1.1 GB  5.3 MB/s   3m12s\u001b[K\u001b[?25h\u001b[?2026l\u001b[?2026h\u001b[?25l\u001b[A\u001b[1Gpulling manifest \u001b[K\n",
      "pulling aabd4debf0c8...   8% ▕█               ▏  94 MB/1.1 GB  5.3 MB/s   3m12s\u001b[K\u001b[?25h\u001b[?2026l\u001b[?2026h\u001b[?25l\u001b[A\u001b[1Gpulling manifest \u001b[K\n",
      "pulling aabd4debf0c8...   8% ▕█               ▏  94 MB/1.1 GB  5.3 MB/s   3m12s\u001b[K\u001b[?25h\u001b[?2026l\u001b[?2026h\u001b[?25l\u001b[A\u001b[1Gpulling manifest \u001b[K\n",
      "pulling aabd4debf0c8...   9% ▕█               ▏  95 MB/1.1 GB  5.3 MB/s   3m12s\u001b[K\u001b[?25h\u001b[?2026l\u001b[?2026h\u001b[?25l\u001b[A\u001b[1Gpulling manifest \u001b[K\n",
      "pulling aabd4debf0c8...   9% ▕█               ▏  95 MB/1.1 GB  5.3 MB/s   3m12s\u001b[K\u001b[?25h\u001b[?2026l\u001b[?2026h\u001b[?25l\u001b[A\u001b[1Gpulling manifest \u001b[K\n",
      "pulling aabd4debf0c8...   9% ▕█               ▏  96 MB/1.1 GB  5.3 MB/s   3m11s\u001b[K\u001b[?25h\u001b[?2026l\u001b[?2026h\u001b[?25l\u001b[A\u001b[1Gpulling manifest \u001b[K\n",
      "pulling aabd4debf0c8...   9% ▕█               ▏  96 MB/1.1 GB  5.4 MB/s    3m9s\u001b[K\u001b[?25h\u001b[?2026l\u001b[?2026h\u001b[?25l\u001b[A\u001b[1Gpulling manifest \u001b[K\n",
      "pulling aabd4debf0c8...   9% ▕█               ▏  97 MB/1.1 GB  5.4 MB/s    3m9s\u001b[K\u001b[?25h\u001b[?2026l\u001b[?2026h\u001b[?25l\u001b[A\u001b[1Gpulling manifest \u001b[K\n",
      "pulling aabd4debf0c8...   9% ▕█               ▏  98 MB/1.1 GB  5.4 MB/s    3m9s\u001b[K\u001b[?25h\u001b[?2026l\u001b[?2026h\u001b[?25l\u001b[A\u001b[1Gpulling manifest \u001b[K\n",
      "pulling aabd4debf0c8...   9% ▕█               ▏  98 MB/1.1 GB  5.4 MB/s    3m9s\u001b[K\u001b[?25h\u001b[?2026l\u001b[?2026h\u001b[?25l\u001b[A\u001b[1Gpulling manifest \u001b[K\n",
      "pulling aabd4debf0c8...   9% ▕█               ▏  99 MB/1.1 GB  5.4 MB/s    3m9s\u001b[K\u001b[?25h\u001b[?2026l\u001b[?2026h\u001b[?25l\u001b[A\u001b[1Gpulling manifest \u001b[K\n",
      "pulling aabd4debf0c8...   9% ▕█               ▏  99 MB/1.1 GB  5.4 MB/s    3m9s\u001b[K\u001b[?25h\u001b[?2026l\u001b[?2026h\u001b[?25l\u001b[A\u001b[1Gpulling manifest \u001b[K\n",
      "pulling aabd4debf0c8...   9% ▕█               ▏ 100 MB/1.1 GB  5.4 MB/s    3m9s\u001b[K\u001b[?25h\u001b[?2026l\u001b[?2026h\u001b[?25l\u001b[A\u001b[1Gpulling manifest \u001b[K\n",
      "pulling aabd4debf0c8...   9% ▕█               ▏ 100 MB/1.1 GB  5.4 MB/s    3m9s\u001b[K\u001b[?25h\u001b[?2026l\u001b[?2026h\u001b[?25l\u001b[A\u001b[1Gpulling manifest \u001b[K\n",
      "pulling aabd4debf0c8...   9% ▕█               ▏ 101 MB/1.1 GB  5.4 MB/s    3m8s\u001b[K\u001b[?25h\u001b[?2026l\u001b[?2026h\u001b[?25l\u001b[A\u001b[1Gpulling manifest \u001b[K\n",
      "pulling aabd4debf0c8...   9% ▕█               ▏ 101 MB/1.1 GB  5.4 MB/s    3m8s\u001b[K\u001b[?25h\u001b[?2026l\u001b[?2026h\u001b[?25l\u001b[A\u001b[1Gpulling manifest \u001b[K\n",
      "pulling aabd4debf0c8...   9% ▕█               ▏ 102 MB/1.1 GB  5.5 MB/s    3m4s\u001b[K\u001b[?25h\u001b[?2026l\u001b[?2026h\u001b[?25l\u001b[A\u001b[1Gpulling manifest \u001b[K\n",
      "pulling aabd4debf0c8...   9% ▕█               ▏ 103 MB/1.1 GB  5.5 MB/s    3m4s\u001b[K\u001b[?25h\u001b[?2026l\u001b[?2026h\u001b[?25l\u001b[A\u001b[1Gpulling manifest \u001b[K\n",
      "pulling aabd4debf0c8...   9% ▕█               ▏ 103 MB/1.1 GB  5.5 MB/s    3m4s\u001b[K\u001b[?25h\u001b[?2026l\u001b[?2026h\u001b[?25l\u001b[A\u001b[1Gpulling manifest \u001b[K\n",
      "pulling aabd4debf0c8...   9% ▕█               ▏ 104 MB/1.1 GB  5.5 MB/s    3m4s\u001b[K\u001b[?25h\u001b[?2026l\u001b[?2026h\u001b[?25l\u001b[A\u001b[1Gpulling manifest \u001b[K\n",
      "pulling aabd4debf0c8...   9% ▕█               ▏ 104 MB/1.1 GB  5.5 MB/s    3m3s\u001b[K\u001b[?25h\u001b[?2026l\u001b[?2026h\u001b[?25l\u001b[A\u001b[1Gpulling manifest \u001b[K\n",
      "pulling aabd4debf0c8...   9% ▕█               ▏ 105 MB/1.1 GB  5.5 MB/s    3m3s\u001b[K\u001b[?25h\u001b[?2026l\u001b[?2026h\u001b[?25l\u001b[A\u001b[1Gpulling manifest \u001b[K\n",
      "pulling aabd4debf0c8...   9% ▕█               ▏ 105 MB/1.1 GB  5.5 MB/s    3m3s\u001b[K\u001b[?25h\u001b[?2026l\u001b[?2026h\u001b[?25l\u001b[A\u001b[1Gpulling manifest \u001b[K\n",
      "pulling aabd4debf0c8...  10% ▕█               ▏ 106 MB/1.1 GB  5.5 MB/s    3m3s\u001b[K\u001b[?25h\u001b[?2026l\u001b[?2026h\u001b[?25l\u001b[A\u001b[1Gpulling manifest \u001b[K\n",
      "pulling aabd4debf0c8...  10% ▕█               ▏ 106 MB/1.1 GB  5.5 MB/s    3m3s\u001b[K\u001b[?25h\u001b[?2026l\u001b[?2026h\u001b[?25l\u001b[A\u001b[1Gpulling manifest \u001b[K\n",
      "pulling aabd4debf0c8...  10% ▕█               ▏ 107 MB/1.1 GB  5.5 MB/s    3m3s\u001b[K\u001b[?25h\u001b[?2026l\u001b[?2026h\u001b[?25l\u001b[A\u001b[1Gpulling manifest \u001b[K\n",
      "pulling aabd4debf0c8...  10% ▕█               ▏ 107 MB/1.1 GB  5.7 MB/s   2m57s\u001b[K\u001b[?25h\u001b[?2026l\u001b[?2026h\u001b[?25l\u001b[A\u001b[1Gpulling manifest \u001b[K\n",
      "pulling aabd4debf0c8...  10% ▕█               ▏ 108 MB/1.1 GB  5.7 MB/s   2m57s\u001b[K\u001b[?25h\u001b[?2026l\u001b[?2026h\u001b[?25l\u001b[A\u001b[1Gpulling manifest \u001b[K\n",
      "pulling aabd4debf0c8...  10% ▕█               ▏ 108 MB/1.1 GB  5.7 MB/s   2m56s\u001b[K\u001b[?25h\u001b[?2026l\u001b[?2026h\u001b[?25l\u001b[A\u001b[1Gpulling manifest \u001b[K\n",
      "pulling aabd4debf0c8...  10% ▕█               ▏ 109 MB/1.1 GB  5.7 MB/s   2m56s\u001b[K\u001b[?25h\u001b[?2026l\u001b[?2026h\u001b[?25l\u001b[A\u001b[1Gpulling manifest \u001b[K\n",
      "pulling aabd4debf0c8...  10% ▕█               ▏ 109 MB/1.1 GB  5.7 MB/s   2m56s\u001b[K\u001b[?25h\u001b[?2026l\u001b[?2026h\u001b[?25l\u001b[A\u001b[1Gpulling manifest \u001b[K\n",
      "pulling aabd4debf0c8...  10% ▕█               ▏ 109 MB/1.1 GB  5.7 MB/s   2m56s\u001b[K\u001b[?25h\u001b[?2026l\u001b[?2026h\u001b[?25l\u001b[A\u001b[1Gpulling manifest \u001b[K\n",
      "pulling aabd4debf0c8...  10% ▕█               ▏ 110 MB/1.1 GB  5.7 MB/s   2m56s\u001b[K\u001b[?25h\u001b[?2026l\u001b[?2026h\u001b[?25l\u001b[A\u001b[1Gpulling manifest \u001b[K\n",
      "pulling aabd4debf0c8...  10% ▕█               ▏ 110 MB/1.1 GB  5.7 MB/s   2m56s\u001b[K\u001b[?25h\u001b[?2026l\u001b[?2026h\u001b[?25l\u001b[A\u001b[1Gpulling manifest \u001b[K\n",
      "pulling aabd4debf0c8...  10% ▕█               ▏ 111 MB/1.1 GB  5.7 MB/s   2m56s\u001b[K\u001b[?25h\u001b[?2026l\u001b[?2026h\u001b[?25l\u001b[A\u001b[1Gpulling manifest \u001b[K\n",
      "pulling aabd4debf0c8...  10% ▕█               ▏ 111 MB/1.1 GB  5.7 MB/s   2m56s\u001b[K\u001b[?25h\u001b[?2026l\u001b[?2026h\u001b[?25l\u001b[A\u001b[1Gpulling manifest \u001b[K\n",
      "pulling aabd4debf0c8...  10% ▕█               ▏ 112 MB/1.1 GB  5.7 MB/s   2m56s\u001b[K\u001b[?25h\u001b[?2026l\u001b[?2026h\u001b[?25l\u001b[A\u001b[1Gpulling manifest \u001b[K\n",
      "pulling aabd4debf0c8...  10% ▕█               ▏ 112 MB/1.1 GB  5.5 MB/s    3m2s\u001b[K\u001b[?25h\u001b[?2026l\u001b[?2026h\u001b[?25l\u001b[A\u001b[1Gpulling manifest \u001b[K\n",
      "pulling aabd4debf0c8...  10% ▕█               ▏ 113 MB/1.1 GB  5.5 MB/s    3m2s\u001b[K\u001b[?25h\u001b[?2026l\u001b[?2026h\u001b[?25l\u001b[A\u001b[1Gpulling manifest \u001b[K\n",
      "pulling aabd4debf0c8...  10% ▕█               ▏ 113 MB/1.1 GB  5.5 MB/s    3m2s\u001b[K\u001b[?25h\u001b[?2026l\u001b[?2026h\u001b[?25l\u001b[A\u001b[1Gpulling manifest \u001b[K\n",
      "pulling aabd4debf0c8...  10% ▕█               ▏ 114 MB/1.1 GB  5.5 MB/s    3m2s\u001b[K\u001b[?25h\u001b[?2026l\u001b[?2026h\u001b[?25l\u001b[A\u001b[1Gpulling manifest \u001b[K\n",
      "pulling aabd4debf0c8...  10% ▕█               ▏ 114 MB/1.1 GB  5.5 MB/s    3m2s\u001b[K\u001b[?25h\u001b[?2026l\u001b[?2026h\u001b[?25l\u001b[A\u001b[1Gpulling manifest \u001b[K\n",
      "pulling aabd4debf0c8...  10% ▕█               ▏ 115 MB/1.1 GB  5.5 MB/s    3m2s\u001b[K\u001b[?25h\u001b[?2026l\u001b[?2026h\u001b[?25l\u001b[A\u001b[1Gpulling manifest \u001b[K\n",
      "pulling aabd4debf0c8...  10% ▕█               ▏ 115 MB/1.1 GB  5.5 MB/s    3m2s\u001b[K\u001b[?25h\u001b[?2026l\u001b[?2026h\u001b[?25l\u001b[A\u001b[1Gpulling manifest \u001b[K\n",
      "pulling aabd4debf0c8...  10% ▕█               ▏ 116 MB/1.1 GB  5.5 MB/s    3m1s\u001b[K\u001b[?25h\u001b[?2026l\u001b[?2026h\u001b[?25l\u001b[A\u001b[1Gpulling manifest \u001b[K\n",
      "pulling aabd4debf0c8...  10% ▕█               ▏ 116 MB/1.1 GB  5.5 MB/s    3m1s\u001b[K\u001b[?25h\u001b[?2026l\u001b[?2026h\u001b[?25l\u001b[A\u001b[1Gpulling manifest \u001b[K\n",
      "pulling aabd4debf0c8...  11% ▕█               ▏ 117 MB/1.1 GB  5.5 MB/s    3m1s\u001b[K\u001b[?25h\u001b[?2026l\u001b[?2026h\u001b[?25l\u001b[A\u001b[1Gpulling manifest \u001b[K\n",
      "pulling aabd4debf0c8...  11% ▕█               ▏ 118 MB/1.1 GB  5.4 MB/s    3m6s\u001b[K\u001b[?25h\u001b[?2026l\u001b[?2026h\u001b[?25l\u001b[A\u001b[1Gpulling manifest \u001b[K\n",
      "pulling aabd4debf0c8...  11% ▕█               ▏ 118 MB/1.1 GB  5.4 MB/s    3m6s\u001b[K\u001b[?25h\u001b[?2026l\u001b[?2026h\u001b[?25l\u001b[A\u001b[1Gpulling manifest \u001b[K\n",
      "pulling aabd4debf0c8...  11% ▕█               ▏ 119 MB/1.1 GB  5.4 MB/s    3m5s\u001b[K\u001b[?25h\u001b[?2026l\u001b[?2026h\u001b[?25l\u001b[A\u001b[1Gpulling manifest \u001b[K\n",
      "pulling aabd4debf0c8...  11% ▕█               ▏ 119 MB/1.1 GB  5.4 MB/s    3m5s\u001b[K\u001b[?25h\u001b[?2026l\u001b[?2026h\u001b[?25l\u001b[A\u001b[1Gpulling manifest \u001b[K\n",
      "pulling aabd4debf0c8...  11% ▕█               ▏ 119 MB/1.1 GB  5.4 MB/s    3m5s\u001b[K\u001b[?25h\u001b[?2026l\u001b[?2026h\u001b[?25l\u001b[A\u001b[1Gpulling manifest \u001b[K\n",
      "pulling aabd4debf0c8...  11% ▕█               ▏ 120 MB/1.1 GB  5.4 MB/s    3m5s\u001b[K\u001b[?25h\u001b[?2026l\u001b[?2026h\u001b[?25l\u001b[A\u001b[1Gpulling manifest \u001b[K\n",
      "pulling aabd4debf0c8...  11% ▕█               ▏ 121 MB/1.1 GB  5.4 MB/s    3m5s\u001b[K\u001b[?25h\u001b[?2026l\u001b[?2026h\u001b[?25l\u001b[A\u001b[1Gpulling manifest \u001b[K\n",
      "pulling aabd4debf0c8...  11% ▕█               ▏ 121 MB/1.1 GB  5.4 MB/s    3m5s\u001b[K\u001b[?25h\u001b[?2026l\u001b[?2026h\u001b[?25l\u001b[A\u001b[1Gpulling manifest \u001b[K\n",
      "pulling aabd4debf0c8...  11% ▕█               ▏ 122 MB/1.1 GB  5.4 MB/s    3m5s\u001b[K\u001b[?25h\u001b[?2026l\u001b[?2026h\u001b[?25l\u001b[A\u001b[1Gpulling manifest \u001b[K\n",
      "pulling aabd4debf0c8...  11% ▕█               ▏ 122 MB/1.1 GB  5.4 MB/s    3m5s\u001b[K\u001b[?25h\u001b[?2026l\u001b[?2026h\u001b[?25l\u001b[A\u001b[1Gpulling manifest \u001b[K\n",
      "pulling aabd4debf0c8...  11% ▕█               ▏ 123 MB/1.1 GB  5.3 MB/s    3m7s\u001b[K\u001b[?25h\u001b[?2026l\u001b[?2026h\u001b[?25l\u001b[A\u001b[1Gpulling manifest \u001b[K\n",
      "pulling aabd4debf0c8...  11% ▕█               ▏ 123 MB/1.1 GB  5.3 MB/s    3m7s\u001b[K\u001b[?25h\u001b[?2026l\u001b[?2026h\u001b[?25l\u001b[A\u001b[1Gpulling manifest \u001b[K\n",
      "pulling aabd4debf0c8...  11% ▕█               ▏ 124 MB/1.1 GB  5.3 MB/s    3m7s\u001b[K\u001b[?25h\u001b[?2026l\u001b[?2026h\u001b[?25l\u001b[A\u001b[1Gpulling manifest \u001b[K\n",
      "pulling aabd4debf0c8...  11% ▕█               ▏ 124 MB/1.1 GB  5.3 MB/s    3m7s\u001b[K\u001b[?25h\u001b[?2026l\u001b[?2026h\u001b[?25l\u001b[A\u001b[1Gpulling manifest \u001b[K\n",
      "pulling aabd4debf0c8...  11% ▕█               ▏ 125 MB/1.1 GB  5.3 MB/s    3m7s\u001b[K\u001b[?25h\u001b[?2026l\u001b[?2026h\u001b[?25l\u001b[A\u001b[1Gpulling manifest \u001b[K\n",
      "pulling aabd4debf0c8...  11% ▕█               ▏ 126 MB/1.1 GB  5.3 MB/s    3m7s\u001b[K\u001b[?25h\u001b[?2026l\u001b[?2026h\u001b[?25l\u001b[A\u001b[1Gpulling manifest \u001b[K\n",
      "pulling aabd4debf0c8...  11% ▕█               ▏ 127 MB/1.1 GB  5.3 MB/s    3m6s\u001b[K\u001b[?25h\u001b[?2026l\u001b[?2026h\u001b[?25l\u001b[A\u001b[1Gpulling manifest \u001b[K\n",
      "pulling aabd4debf0c8...  11% ▕█               ▏ 127 MB/1.1 GB  5.3 MB/s    3m6s\u001b[K\u001b[?25h\u001b[?2026l\u001b[?2026h\u001b[?25l\u001b[A\u001b[1Gpulling manifest \u001b[K\n",
      "pulling aabd4debf0c8...  11% ▕█               ▏ 127 MB/1.1 GB  5.3 MB/s    3m6s\u001b[K\u001b[?25h\u001b[?2026l\u001b[?2026h\u001b[?25l\u001b[A\u001b[1Gpulling manifest \u001b[K\n",
      "pulling aabd4debf0c8...  11% ▕█               ▏ 128 MB/1.1 GB  5.3 MB/s    3m6s\u001b[K\u001b[?25h\u001b[?2026l\u001b[?2026h\u001b[?25l\u001b[A\u001b[1Gpulling manifest \u001b[K\n",
      "pulling aabd4debf0c8...  12% ▕█               ▏ 128 MB/1.1 GB  5.4 MB/s    3m3s\u001b[K\u001b[?25h\u001b[?2026l\u001b[?2026h\u001b[?25l\u001b[A\u001b[1Gpulling manifest \u001b[K\n",
      "pulling aabd4debf0c8...  12% ▕█               ▏ 129 MB/1.1 GB  5.4 MB/s    3m3s\u001b[K\u001b[?25h\u001b[?2026l\u001b[?2026h\u001b[?25l\u001b[A\u001b[1Gpulling manifest \u001b[K\n",
      "pulling aabd4debf0c8...  12% ▕█               ▏ 129 MB/1.1 GB  5.4 MB/s    3m3s\u001b[K\u001b[?25h\u001b[?2026l\u001b[?2026h\u001b[?25l\u001b[A\u001b[1Gpulling manifest \u001b[K\n",
      "pulling aabd4debf0c8...  12% ▕█               ▏ 130 MB/1.1 GB  5.4 MB/s    3m3s\u001b[K\u001b[?25h\u001b[?2026l\u001b[?2026h\u001b[?25l\u001b[A\u001b[1Gpulling manifest \u001b[K\n",
      "pulling aabd4debf0c8...  12% ▕█               ▏ 130 MB/1.1 GB  5.4 MB/s    3m3s\u001b[K\u001b[?25h\u001b[?2026l\u001b[?2026h\u001b[?25l\u001b[A\u001b[1Gpulling manifest \u001b[K\n",
      "pulling aabd4debf0c8...  12% ▕█               ▏ 131 MB/1.1 GB  5.4 MB/s    3m3s\u001b[K\u001b[?25h\u001b[?2026l\u001b[?2026h\u001b[?25l\u001b[A\u001b[1Gpulling manifest \u001b[K\n",
      "pulling aabd4debf0c8...  12% ▕█               ▏ 131 MB/1.1 GB  5.4 MB/s    3m3s\u001b[K\u001b[?25h\u001b[?2026l\u001b[?2026h\u001b[?25l\u001b[A\u001b[1Gpulling manifest \u001b[K\n",
      "pulling aabd4debf0c8...  12% ▕█               ▏ 132 MB/1.1 GB  5.4 MB/s    3m3s\u001b[K\u001b[?25h\u001b[?2026l\u001b[?2026h\u001b[?25l\u001b[A\u001b[1Gpulling manifest \u001b[K\n",
      "pulling aabd4debf0c8...  12% ▕█               ▏ 132 MB/1.1 GB  5.4 MB/s    3m3s\u001b[K\u001b[?25h\u001b[?2026l\u001b[?2026h\u001b[?25l\u001b[A\u001b[1Gpulling manifest \u001b[K\n",
      "pulling aabd4debf0c8...  12% ▕█               ▏ 132 MB/1.1 GB  5.4 MB/s    3m3s\u001b[K\u001b[?25h\u001b[?2026l\u001b[?2026h\u001b[?25l\u001b[A\u001b[1Gpulling manifest \u001b[K\n",
      "pulling aabd4debf0c8...  12% ▕█               ▏ 132 MB/1.1 GB  5.2 MB/s    3m9s\u001b[K\u001b[?25h\u001b[?2026l\u001b[?2026h\u001b[?25l\u001b[A\u001b[1Gpulling manifest \u001b[K\n",
      "pulling aabd4debf0c8...  12% ▕█               ▏ 133 MB/1.1 GB  5.2 MB/s    3m8s\u001b[K\u001b[?25h\u001b[?2026l\u001b[?2026h\u001b[?25l\u001b[A\u001b[1Gpulling manifest \u001b[K\n",
      "pulling aabd4debf0c8...  12% ▕█               ▏ 133 MB/1.1 GB  5.2 MB/s    3m8s\u001b[K\u001b[?25h\u001b[?2026l\u001b[?2026h\u001b[?25l\u001b[A\u001b[1Gpulling manifest \u001b[K\n",
      "pulling aabd4debf0c8...  12% ▕█               ▏ 134 MB/1.1 GB  5.2 MB/s    3m8s\u001b[K\u001b[?25h\u001b[?2026l\u001b[?2026h\u001b[?25l\u001b[A\u001b[1Gpulling manifest \u001b[K\n",
      "pulling aabd4debf0c8...  12% ▕█               ▏ 134 MB/1.1 GB  5.2 MB/s    3m8s\u001b[K\u001b[?25h\u001b[?2026l\u001b[?2026h\u001b[?25l\u001b[A\u001b[1Gpulling manifest \u001b[K\n",
      "pulling aabd4debf0c8...  12% ▕█               ▏ 135 MB/1.1 GB  5.2 MB/s    3m8s\u001b[K\u001b[?25h\u001b[?2026l\u001b[?2026h\u001b[?25l\u001b[A\u001b[1Gpulling manifest \u001b[K\n",
      "pulling aabd4debf0c8...  12% ▕█               ▏ 136 MB/1.1 GB  5.2 MB/s    3m8s\u001b[K\u001b[?25h\u001b[?2026l\u001b[?2026h\u001b[?25l\u001b[A\u001b[1Gpulling manifest \u001b[K\n",
      "pulling aabd4debf0c8...  12% ▕█               ▏ 136 MB/1.1 GB  5.2 MB/s    3m8s\u001b[K\u001b[?25h\u001b[?2026l\u001b[?2026h\u001b[?25l\u001b[A\u001b[1Gpulling manifest \u001b[K\n",
      "pulling aabd4debf0c8...  12% ▕█               ▏ 137 MB/1.1 GB  5.2 MB/s    3m8s\u001b[K\u001b[?25h\u001b[?2026l\u001b[?2026h\u001b[?25l\u001b[A\u001b[1Gpulling manifest \u001b[K\n",
      "pulling aabd4debf0c8...  12% ▕█               ▏ 137 MB/1.1 GB  5.2 MB/s    3m8s\u001b[K\u001b[?25h\u001b[?2026l\u001b[?2026h\u001b[?25l\u001b[A\u001b[1Gpulling manifest \u001b[K\n",
      "pulling aabd4debf0c8...  12% ▕█               ▏ 138 MB/1.1 GB  5.2 MB/s    3m7s\u001b[K\u001b[?25h\u001b[?2026l\u001b[?2026h\u001b[?25l\u001b[A\u001b[1Gpulling manifest \u001b[K\n",
      "pulling aabd4debf0c8...  12% ▕█               ▏ 139 MB/1.1 GB  5.3 MB/s    3m5s\u001b[K\u001b[?25h\u001b[?2026l\u001b[?2026h\u001b[?25l\u001b[A\u001b[1Gpulling manifest \u001b[K\n",
      "pulling aabd4debf0c8...  13% ▕██              ▏ 139 MB/1.1 GB  5.3 MB/s    3m5s\u001b[K\u001b[?25h\u001b[?2026l\u001b[?2026h\u001b[?25l\u001b[A\u001b[1Gpulling manifest \u001b[K\n",
      "pulling aabd4debf0c8...  13% ▕██              ▏ 140 MB/1.1 GB  5.3 MB/s    3m5s\u001b[K\u001b[?25h\u001b[?2026l\u001b[?2026h\u001b[?25l\u001b[A\u001b[1Gpulling manifest \u001b[K\n",
      "pulling aabd4debf0c8...  13% ▕██              ▏ 140 MB/1.1 GB  5.3 MB/s    3m5s\u001b[K\u001b[?25h\u001b[?2026l\u001b[?2026h\u001b[?25l\u001b[A\u001b[1Gpulling manifest \u001b[K\n",
      "pulling aabd4debf0c8...  13% ▕██              ▏ 141 MB/1.1 GB  5.3 MB/s    3m5s\u001b[K\u001b[?25h\u001b[?2026l\u001b[?2026h\u001b[?25l\u001b[A\u001b[1Gpulling manifest \u001b[K\n",
      "pulling aabd4debf0c8...  13% ▕██              ▏ 141 MB/1.1 GB  5.3 MB/s    3m5s\u001b[K\u001b[?25h\u001b[?2026l\u001b[?2026h\u001b[?25l\u001b[A\u001b[1Gpulling manifest \u001b[K\n",
      "pulling aabd4debf0c8...  13% ▕██              ▏ 142 MB/1.1 GB  5.3 MB/s    3m5s\u001b[K\u001b[?25h\u001b[?2026l\u001b[?2026h\u001b[?25l\u001b[A\u001b[1Gpulling manifest \u001b[K\n",
      "pulling aabd4debf0c8...  13% ▕██              ▏ 142 MB/1.1 GB  5.3 MB/s    3m5s\u001b[K\u001b[?25h\u001b[?2026l\u001b[?2026h\u001b[?25l\u001b[A\u001b[1Gpulling manifest \u001b[K\n",
      "pulling aabd4debf0c8...  13% ▕██              ▏ 142 MB/1.1 GB  5.3 MB/s    3m5s\u001b[K\u001b[?25h\u001b[?2026l\u001b[?2026h\u001b[?25l\u001b[A\u001b[1Gpulling manifest \u001b[K\n",
      "pulling aabd4debf0c8...  13% ▕██              ▏ 143 MB/1.1 GB  5.3 MB/s    3m5s\u001b[K\u001b[?25h\u001b[?2026l\u001b[?2026h\u001b[?25l\u001b[A\u001b[1Gpulling manifest \u001b[K\n",
      "pulling aabd4debf0c8...  13% ▕██              ▏ 144 MB/1.1 GB  5.3 MB/s    3m5s\u001b[K\u001b[?25h\u001b[?2026l\u001b[?2026h\u001b[?25l\u001b[A\u001b[1Gpulling manifest \u001b[K\n",
      "pulling aabd4debf0c8...  13% ▕██              ▏ 144 MB/1.1 GB  5.3 MB/s    3m5s\u001b[K\u001b[?25h\u001b[?2026l\u001b[?2026h\u001b[?25l\u001b[A\u001b[1Gpulling manifest \u001b[K\n",
      "pulling aabd4debf0c8...  13% ▕██              ▏ 145 MB/1.1 GB  5.3 MB/s    3m4s\u001b[K\u001b[?25h\u001b[?2026l\u001b[?2026h\u001b[?25l\u001b[A\u001b[1Gpulling manifest \u001b[K\n",
      "pulling aabd4debf0c8...  13% ▕██              ▏ 146 MB/1.1 GB  5.3 MB/s    3m4s\u001b[K\u001b[?25h\u001b[?2026l\u001b[?2026h\u001b[?25l\u001b[A\u001b[1Gpulling manifest \u001b[K\n",
      "pulling aabd4debf0c8...  13% ▕██              ▏ 146 MB/1.1 GB  5.3 MB/s    3m4s\u001b[K\u001b[?25h\u001b[?2026l\u001b[?2026h\u001b[?25l\u001b[A\u001b[1Gpulling manifest \u001b[K\n",
      "pulling aabd4debf0c8...  13% ▕██              ▏ 147 MB/1.1 GB  5.3 MB/s    3m4s\u001b[K\u001b[?25h\u001b[?2026l\u001b[?2026h\u001b[?25l\u001b[A\u001b[1Gpulling manifest \u001b[K\n",
      "pulling aabd4debf0c8...  13% ▕██              ▏ 147 MB/1.1 GB  5.3 MB/s    3m4s\u001b[K\u001b[?25h\u001b[?2026l\u001b[?2026h\u001b[?25l\u001b[A\u001b[1Gpulling manifest \u001b[K\n",
      "pulling aabd4debf0c8...  13% ▕██              ▏ 148 MB/1.1 GB  5.3 MB/s    3m4s\u001b[K\u001b[?25h\u001b[?2026l\u001b[?2026h\u001b[?25l\u001b[A\u001b[1Gpulling manifest \u001b[K\n",
      "pulling aabd4debf0c8...  13% ▕██              ▏ 148 MB/1.1 GB  5.3 MB/s    3m4s\u001b[K\u001b[?25h\u001b[?2026l\u001b[?2026h\u001b[?25l\u001b[A\u001b[1Gpulling manifest \u001b[K\n",
      "pulling aabd4debf0c8...  13% ▕██              ▏ 149 MB/1.1 GB  5.3 MB/s    3m4s\u001b[K\u001b[?25h\u001b[?2026l\u001b[?2026h\u001b[?25l\u001b[A\u001b[1Gpulling manifest \u001b[K\n",
      "pulling aabd4debf0c8...  13% ▕██              ▏ 149 MB/1.1 GB  5.2 MB/s    3m4s\u001b[K\u001b[?25h\u001b[?2026l\u001b[?2026h\u001b[?25l\u001b[A\u001b[1Gpulling manifest \u001b[K\n",
      "pulling aabd4debf0c8...  13% ▕██              ▏ 150 MB/1.1 GB  5.2 MB/s    3m4s\u001b[K\u001b[?25h\u001b[?2026l\u001b[?2026h\u001b[?25l\u001b[A\u001b[1Gpulling manifest \u001b[K\n",
      "pulling aabd4debf0c8...  13% ▕██              ▏ 150 MB/1.1 GB  5.2 MB/s    3m4s\u001b[K\u001b[?25h\u001b[?2026l\u001b[?2026h\u001b[?25l\u001b[A\u001b[1Gpulling manifest \u001b[K\n",
      "pulling aabd4debf0c8...  14% ▕██              ▏ 151 MB/1.1 GB  5.2 MB/s    3m4s\u001b[K\u001b[?25h\u001b[?2026l\u001b[?2026h\u001b[?25l\u001b[A\u001b[1Gpulling manifest \u001b[K\n",
      "pulling aabd4debf0c8...  14% ▕██              ▏ 151 MB/1.1 GB  5.2 MB/s    3m4s\u001b[K\u001b[?25h\u001b[?2026l\u001b[?2026h\u001b[?25l\u001b[A\u001b[1Gpulling manifest \u001b[K\n",
      "pulling aabd4debf0c8...  14% ▕██              ▏ 152 MB/1.1 GB  5.2 MB/s    3m4s\u001b[K\u001b[?25h\u001b[?2026l\u001b[?2026h\u001b[?25l\u001b[A\u001b[1Gpulling manifest \u001b[K\n",
      "pulling aabd4debf0c8...  14% ▕██              ▏ 152 MB/1.1 GB  5.2 MB/s    3m4s\u001b[K\u001b[?25h\u001b[?2026l\u001b[?2026h\u001b[?25l\u001b[A\u001b[1Gpulling manifest \u001b[K\n",
      "pulling aabd4debf0c8...  14% ▕██              ▏ 153 MB/1.1 GB  5.2 MB/s    3m3s\u001b[K\u001b[?25h\u001b[?2026l\u001b[?2026h\u001b[?25l\u001b[A\u001b[1Gpulling manifest \u001b[K\n",
      "pulling aabd4debf0c8...  14% ▕██              ▏ 154 MB/1.1 GB  5.2 MB/s    3m3s\u001b[K\u001b[?25h\u001b[?2026l\u001b[?2026h\u001b[?25l\u001b[A\u001b[1Gpulling manifest \u001b[K\n",
      "pulling aabd4debf0c8...  14% ▕██              ▏ 154 MB/1.1 GB  5.2 MB/s    3m3s\u001b[K\u001b[?25h\u001b[?2026l\u001b[?2026h\u001b[?25l\u001b[A\u001b[1Gpulling manifest \u001b[K\n",
      "pulling aabd4debf0c8...  14% ▕██              ▏ 154 MB/1.1 GB  5.2 MB/s    3m4s\u001b[K\u001b[?25h\u001b[?2026l\u001b[?2026h\u001b[?25l\u001b[A\u001b[1Gpulling manifest \u001b[K\n",
      "pulling aabd4debf0c8...  14% ▕██              ▏ 155 MB/1.1 GB  5.2 MB/s    3m4s\u001b[K\u001b[?25h\u001b[?2026l\u001b[?2026h\u001b[?25l\u001b[A\u001b[1Gpulling manifest \u001b[K\n",
      "pulling aabd4debf0c8...  14% ▕██              ▏ 155 MB/1.1 GB  5.2 MB/s    3m4s\u001b[K\u001b[?25h\u001b[?2026l\u001b[?2026h\u001b[?25l\u001b[A\u001b[1Gpulling manifest \u001b[K\n",
      "pulling aabd4debf0c8...  14% ▕██              ▏ 156 MB/1.1 GB  5.2 MB/s    3m3s\u001b[K\u001b[?25h\u001b[?2026l\u001b[?2026h\u001b[?25l\u001b[A\u001b[1Gpulling manifest \u001b[K\n",
      "pulling aabd4debf0c8...  14% ▕██              ▏ 157 MB/1.1 GB  5.2 MB/s    3m3s\u001b[K\u001b[?25h\u001b[?2026l\u001b[?2026h\u001b[?25l\u001b[A\u001b[1Gpulling manifest \u001b[K\n",
      "pulling aabd4debf0c8...  14% ▕██              ▏ 158 MB/1.1 GB  5.2 MB/s    3m3s\u001b[K\u001b[?25h\u001b[?2026l\u001b[?2026h\u001b[?25l\u001b[A\u001b[1Gpulling manifest \u001b[K\n",
      "pulling aabd4debf0c8...  14% ▕██              ▏ 158 MB/1.1 GB  5.2 MB/s    3m3s\u001b[K\u001b[?25h\u001b[?2026l\u001b[?2026h\u001b[?25l\u001b[A\u001b[1Gpulling manifest \u001b[K\n",
      "pulling aabd4debf0c8...  14% ▕██              ▏ 159 MB/1.1 GB  5.2 MB/s    3m3s\u001b[K\u001b[?25h\u001b[?2026l\u001b[?2026h\u001b[?25l\u001b[A\u001b[1Gpulling manifest \u001b[K\n",
      "pulling aabd4debf0c8...  14% ▕██              ▏ 159 MB/1.1 GB  5.2 MB/s    3m3s\u001b[K\u001b[?25h\u001b[?2026l\u001b[?2026h\u001b[?25l\u001b[A\u001b[1Gpulling manifest \u001b[K\n",
      "pulling aabd4debf0c8...  14% ▕██              ▏ 160 MB/1.1 GB  5.2 MB/s    3m3s\u001b[K\u001b[?25h\u001b[?2026l\u001b[?2026h\u001b[?25l\u001b[A\u001b[1Gpulling manifest \u001b[K\n",
      "pulling aabd4debf0c8...  14% ▕██              ▏ 161 MB/1.1 GB  5.4 MB/s   2m56s\u001b[K\u001b[?25h\u001b[?2026l\u001b[?2026h\u001b[?25l\u001b[A\u001b[1Gpulling manifest \u001b[K\n",
      "pulling aabd4debf0c8...  14% ▕██              ▏ 161 MB/1.1 GB  5.4 MB/s   2m56s\u001b[K\u001b[?25h\u001b[?2026l\u001b[?2026h\u001b[?25l\u001b[A\u001b[1Gpulling manifest \u001b[K\n",
      "pulling aabd4debf0c8...  15% ▕██              ▏ 162 MB/1.1 GB  5.4 MB/s   2m56s\u001b[K\u001b[?25h\u001b[?2026l\u001b[?2026h\u001b[?25l\u001b[A\u001b[1Gpulling manifest \u001b[K\n",
      "pulling aabd4debf0c8...  15% ▕██              ▏ 162 MB/1.1 GB  5.4 MB/s   2m55s\u001b[K\u001b[?25h\u001b[?2026l\u001b[?2026h\u001b[?25l\u001b[A\u001b[1Gpulling manifest \u001b[K\n",
      "pulling aabd4debf0c8...  15% ▕██              ▏ 162 MB/1.1 GB  5.4 MB/s   2m55s\u001b[K\u001b[?25h\u001b[?2026l\u001b[?2026h\u001b[?25l\u001b[A\u001b[1Gpulling manifest \u001b[K\n",
      "pulling aabd4debf0c8...  15% ▕██              ▏ 163 MB/1.1 GB  5.4 MB/s   2m55s\u001b[K\u001b[?25h\u001b[?2026l\u001b[?2026h\u001b[?25l\u001b[A\u001b[1Gpulling manifest \u001b[K\n",
      "pulling aabd4debf0c8...  15% ▕██              ▏ 164 MB/1.1 GB  5.4 MB/s   2m55s\u001b[K\u001b[?25h\u001b[?2026l\u001b[?2026h\u001b[?25l\u001b[A\u001b[1Gpulling manifest \u001b[K\n",
      "pulling aabd4debf0c8...  15% ▕██              ▏ 164 MB/1.1 GB  5.4 MB/s   2m55s\u001b[K\u001b[?25h\u001b[?2026l\u001b[?2026h\u001b[?25l\u001b[A\u001b[1Gpulling manifest \u001b[K\n",
      "pulling aabd4debf0c8...  15% ▕██              ▏ 165 MB/1.1 GB  5.4 MB/s   2m55s\u001b[K\u001b[?25h\u001b[?2026l\u001b[?2026h\u001b[?25l\u001b[A\u001b[1Gpulling manifest \u001b[K\n",
      "pulling aabd4debf0c8...  15% ▕██              ▏ 165 MB/1.1 GB  5.4 MB/s   2m55s\u001b[K\u001b[?25h\u001b[?2026l\u001b[?2026h\u001b[?25l\u001b[A\u001b[1Gpulling manifest \u001b[K\n",
      "pulling aabd4debf0c8...  15% ▕██              ▏ 166 MB/1.1 GB  5.4 MB/s   2m55s\u001b[K\u001b[?25h\u001b[?2026l\u001b[?2026h\u001b[?25l\u001b[A\u001b[1Gpulling manifest \u001b[K\n",
      "pulling aabd4debf0c8...  15% ▕██              ▏ 166 MB/1.1 GB  5.4 MB/s   2m56s\u001b[K\u001b[?25h\u001b[?2026l\u001b[?2026h\u001b[?25l\u001b[A\u001b[1Gpulling manifest \u001b[K\n",
      "pulling aabd4debf0c8...  15% ▕██              ▏ 167 MB/1.1 GB  5.4 MB/s   2m56s\u001b[K\u001b[?25h\u001b[?2026l\u001b[?2026h\u001b[?25l\u001b[A\u001b[1Gpulling manifest \u001b[K\n",
      "pulling aabd4debf0c8...  15% ▕██              ▏ 167 MB/1.1 GB  5.4 MB/s   2m56s\u001b[K\u001b[?25h\u001b[?2026l\u001b[?2026h\u001b[?25l\u001b[A\u001b[1Gpulling manifest \u001b[K\n",
      "pulling aabd4debf0c8...  15% ▕██              ▏ 168 MB/1.1 GB  5.4 MB/s   2m56s\u001b[K\u001b[?25h\u001b[?2026l\u001b[?2026h\u001b[?25l\u001b[A\u001b[1Gpulling manifest \u001b[K\n",
      "pulling aabd4debf0c8...  15% ▕██              ▏ 168 MB/1.1 GB  5.4 MB/s   2m56s\u001b[K\u001b[?25h\u001b[?2026l\u001b[?2026h\u001b[?25l\u001b[A\u001b[1Gpulling manifest \u001b[K\n",
      "pulling aabd4debf0c8...  15% ▕██              ▏ 169 MB/1.1 GB  5.4 MB/s   2m56s\u001b[K\u001b[?25h\u001b[?2026l\u001b[?2026h\u001b[?25l\u001b[A\u001b[1Gpulling manifest \u001b[K\n",
      "pulling aabd4debf0c8...  15% ▕██              ▏ 170 MB/1.1 GB  5.4 MB/s   2m56s\u001b[K\u001b[?25h\u001b[?2026l\u001b[?2026h\u001b[?25l\u001b[A\u001b[1Gpulling manifest \u001b[K\n",
      "pulling aabd4debf0c8...  15% ▕██              ▏ 170 MB/1.1 GB  5.4 MB/s   2m55s\u001b[K\u001b[?25h\u001b[?2026l\u001b[?2026h\u001b[?25l\u001b[A\u001b[1Gpulling manifest \u001b[K\n",
      "pulling aabd4debf0c8...  15% ▕██              ▏ 170 MB/1.1 GB  5.4 MB/s   2m55s\u001b[K\u001b[?25h\u001b[?2026l\u001b[?2026h\u001b[?25l\u001b[A\u001b[1Gpulling manifest \u001b[K\n",
      "pulling aabd4debf0c8...  15% ▕██              ▏ 171 MB/1.1 GB  5.4 MB/s   2m55s\u001b[K\u001b[?25h\u001b[?2026l\u001b[?2026h\u001b[?25l\u001b[A\u001b[1Gpulling manifest \u001b[K\n",
      "pulling aabd4debf0c8...  15% ▕██              ▏ 172 MB/1.1 GB  5.4 MB/s   2m54s\u001b[K\u001b[?25h\u001b[?2026l\u001b[?2026h\u001b[?25l\u001b[A\u001b[1Gpulling manifest \u001b[K\n",
      "pulling aabd4debf0c8...  15% ▕██              ▏ 172 MB/1.1 GB  5.4 MB/s   2m54s\u001b[K\u001b[?25h\u001b[?2026l\u001b[?2026h\u001b[?25l\u001b[A\u001b[1Gpulling manifest \u001b[K\n",
      "pulling aabd4debf0c8...  15% ▕██              ▏ 172 MB/1.1 GB  5.4 MB/s   2m53s\u001b[K\u001b[?25h\u001b[?2026l\u001b[?2026h\u001b[?25l\u001b[A\u001b[1Gpulling manifest \u001b[K\n",
      "pulling aabd4debf0c8...  16% ▕██              ▏ 173 MB/1.1 GB  5.4 MB/s   2m53s\u001b[K\u001b[?25h\u001b[?2026l\u001b[?2026h\u001b[?25l\u001b[A\u001b[1Gpulling manifest \u001b[K\n",
      "pulling aabd4debf0c8...  16% ▕██              ▏ 173 MB/1.1 GB  5.4 MB/s   2m53s\u001b[K\u001b[?25h\u001b[?2026l\u001b[?2026h\u001b[?25l\u001b[A\u001b[1Gpulling manifest \u001b[K\n",
      "pulling aabd4debf0c8...  16% ▕██              ▏ 174 MB/1.1 GB  5.4 MB/s   2m53s\u001b[K\u001b[?25h\u001b[?2026l\u001b[?2026h\u001b[?25l\u001b[A\u001b[1Gpulling manifest \u001b[K\n",
      "pulling aabd4debf0c8...  16% ▕██              ▏ 175 MB/1.1 GB  5.4 MB/s   2m53s\u001b[K\u001b[?25h\u001b[?2026l\u001b[?2026h\u001b[?25l\u001b[A\u001b[1Gpulling manifest \u001b[K\n",
      "pulling aabd4debf0c8...  16% ▕██              ▏ 175 MB/1.1 GB  5.4 MB/s   2m53s\u001b[K\u001b[?25h\u001b[?2026l\u001b[?2026h\u001b[?25l\u001b[A\u001b[1Gpulling manifest \u001b[K\n",
      "pulling aabd4debf0c8...  16% ▕██              ▏ 176 MB/1.1 GB  5.4 MB/s   2m53s\u001b[K\u001b[?25h\u001b[?2026l\u001b[?2026h\u001b[?25l\u001b[A\u001b[1Gpulling manifest \u001b[K\n",
      "pulling aabd4debf0c8...  16% ▕██              ▏ 176 MB/1.1 GB  5.4 MB/s   2m53s\u001b[K\u001b[?25h\u001b[?2026l\u001b[?2026h\u001b[?25l\u001b[A\u001b[1Gpulling manifest \u001b[K\n",
      "pulling aabd4debf0c8...  16% ▕██              ▏ 177 MB/1.1 GB  5.4 MB/s   2m55s\u001b[K\u001b[?25h\u001b[?2026l\u001b[?2026h\u001b[?25l\u001b[A\u001b[1Gpulling manifest \u001b[K\n",
      "pulling aabd4debf0c8...  16% ▕██              ▏ 177 MB/1.1 GB  5.4 MB/s   2m54s\u001b[K\u001b[?25h\u001b[?2026l\u001b[?2026h\u001b[?25l\u001b[A\u001b[1Gpulling manifest \u001b[K\n",
      "pulling aabd4debf0c8...  16% ▕██              ▏ 178 MB/1.1 GB  5.4 MB/s   2m54s\u001b[K\u001b[?25h\u001b[?2026l\u001b[?2026h\u001b[?25l\u001b[A\u001b[1Gpulling manifest \u001b[K\n",
      "pulling aabd4debf0c8...  16% ▕██              ▏ 178 MB/1.1 GB  5.4 MB/s   2m54s\u001b[K\u001b[?25h\u001b[?2026l\u001b[?2026h\u001b[?25l\u001b[A\u001b[1Gpulling manifest \u001b[K\n",
      "pulling aabd4debf0c8...  16% ▕██              ▏ 179 MB/1.1 GB  5.4 MB/s   2m54s\u001b[K\u001b[?25h\u001b[?2026l\u001b[?2026h\u001b[?25l\u001b[A\u001b[1Gpulling manifest \u001b[K\n",
      "pulling aabd4debf0c8...  16% ▕██              ▏ 180 MB/1.1 GB  5.4 MB/s   2m54s\u001b[K\u001b[?25h\u001b[?2026l\u001b[?2026h\u001b[?25l\u001b[A\u001b[1Gpulling manifest \u001b[K\n",
      "pulling aabd4debf0c8...  16% ▕██              ▏ 180 MB/1.1 GB  5.4 MB/s   2m54s\u001b[K\u001b[?25h\u001b[?2026l\u001b[?2026h\u001b[?25l\u001b[A\u001b[1Gpulling manifest \u001b[K\n",
      "pulling aabd4debf0c8...  16% ▕██              ▏ 181 MB/1.1 GB  5.4 MB/s   2m54s\u001b[K\u001b[?25h\u001b[?2026l\u001b[?2026h\u001b[?25l\u001b[A\u001b[1Gpulling manifest \u001b[K\n",
      "pulling aabd4debf0c8...  16% ▕██              ▏ 181 MB/1.1 GB  5.4 MB/s   2m54s\u001b[K\u001b[?25h\u001b[?2026l\u001b[?2026h\u001b[?25l\u001b[A\u001b[1Gpulling manifest \u001b[K\n",
      "pulling aabd4debf0c8...  16% ▕██              ▏ 182 MB/1.1 GB  5.4 MB/s   2m54s\u001b[K\u001b[?25h\u001b[?2026l\u001b[?2026h\u001b[?25l\u001b[A\u001b[1Gpulling manifest \u001b[K\n",
      "pulling aabd4debf0c8...  16% ▕██              ▏ 183 MB/1.1 GB  5.6 MB/s   2m47s\u001b[K\u001b[?25h\u001b[?2026l\u001b[?2026h\u001b[?25l\u001b[A\u001b[1Gpulling manifest \u001b[K\n",
      "pulling aabd4debf0c8...  16% ▕██              ▏ 183 MB/1.1 GB  5.6 MB/s   2m47s\u001b[K\u001b[?25h\u001b[?2026l\u001b[?2026h\u001b[?25l\u001b[A\u001b[1Gpulling manifest \u001b[K\n",
      "pulling aabd4debf0c8...  16% ▕██              ▏ 184 MB/1.1 GB  5.6 MB/s   2m47s\u001b[K\u001b[?25h\u001b[?2026l\u001b[?2026h\u001b[?25l\u001b[A\u001b[1Gpulling manifest \u001b[K\n",
      "pulling aabd4debf0c8...  17% ▕██              ▏ 184 MB/1.1 GB  5.6 MB/s   2m47s\u001b[K\u001b[?25h\u001b[?2026l\u001b[?2026h\u001b[?25l\u001b[A\u001b[1Gpulling manifest \u001b[K\n",
      "pulling aabd4debf0c8...  17% ▕██              ▏ 185 MB/1.1 GB  5.6 MB/s   2m47s\u001b[K\u001b[?25h\u001b[?2026l\u001b[?2026h\u001b[?25l\u001b[A\u001b[1Gpulling manifest \u001b[K\n",
      "pulling aabd4debf0c8...  17% ▕██              ▏ 185 MB/1.1 GB  5.6 MB/s   2m47s\u001b[K\u001b[?25h\u001b[?2026l\u001b[?2026h\u001b[?25l\u001b[A\u001b[1Gpulling manifest \u001b[K\n",
      "pulling aabd4debf0c8...  17% ▕██              ▏ 186 MB/1.1 GB  5.6 MB/s   2m47s\u001b[K\u001b[?25h\u001b[?2026l\u001b[?2026h\u001b[?25l\u001b[A\u001b[1Gpulling manifest \u001b[K\n",
      "pulling aabd4debf0c8...  17% ▕██              ▏ 187 MB/1.1 GB  5.6 MB/s   2m47s\u001b[K\u001b[?25h\u001b[?2026l\u001b[?2026h\u001b[?25l\u001b[A\u001b[1Gpulling manifest \u001b[K\n",
      "pulling aabd4debf0c8...  17% ▕██              ▏ 187 MB/1.1 GB  5.6 MB/s   2m46s\u001b[K\u001b[?25h\u001b[?2026l\u001b[?2026h\u001b[?25l\u001b[A\u001b[1Gpulling manifest \u001b[K\n",
      "pulling aabd4debf0c8...  17% ▕██              ▏ 187 MB/1.1 GB  5.6 MB/s   2m46s\u001b[K\u001b[?25h\u001b[?2026l\u001b[?2026h\u001b[?25l\u001b[A\u001b[1Gpulling manifest \u001b[K\n",
      "pulling aabd4debf0c8...  17% ▕██              ▏ 188 MB/1.1 GB  5.5 MB/s   2m48s\u001b[K\u001b[?25h\u001b[?2026l\u001b[?2026h\u001b[?25l\u001b[A\u001b[1Gpulling manifest \u001b[K\n",
      "pulling aabd4debf0c8...  17% ▕██              ▏ 188 MB/1.1 GB  5.5 MB/s   2m48s\u001b[K\u001b[?25h\u001b[?2026l\u001b[?2026h\u001b[?25l\u001b[A\u001b[1Gpulling manifest \u001b[K\n",
      "pulling aabd4debf0c8...  17% ▕██              ▏ 189 MB/1.1 GB  5.5 MB/s   2m47s\u001b[K\u001b[?25h\u001b[?2026l\u001b[?2026h\u001b[?25l\u001b[A\u001b[1Gpulling manifest \u001b[K\n",
      "pulling aabd4debf0c8...  17% ▕██              ▏ 190 MB/1.1 GB  5.5 MB/s   2m47s\u001b[K\u001b[?25h\u001b[?2026l\u001b[?2026h\u001b[?25l\u001b[A\u001b[1Gpulling manifest \u001b[K\n",
      "pulling aabd4debf0c8...  17% ▕██              ▏ 191 MB/1.1 GB  5.5 MB/s   2m47s\u001b[K\u001b[?25h\u001b[?2026l\u001b[?2026h\u001b[?25l\u001b[A\u001b[1Gpulling manifest \u001b[K\n",
      "pulling aabd4debf0c8...  17% ▕██              ▏ 191 MB/1.1 GB  5.5 MB/s   2m47s\u001b[K\u001b[?25h\u001b[?2026l\u001b[?2026h\u001b[?25l\u001b[A\u001b[1Gpulling manifest \u001b[K\n",
      "pulling aabd4debf0c8...  17% ▕██              ▏ 192 MB/1.1 GB  5.5 MB/s   2m47s\u001b[K\u001b[?25h\u001b[?2026l\u001b[?2026h\u001b[?25l\u001b[A\u001b[1Gpulling manifest \u001b[K\n",
      "pulling aabd4debf0c8...  17% ▕██              ▏ 192 MB/1.1 GB  5.5 MB/s   2m47s\u001b[K\u001b[?25h\u001b[?2026l\u001b[?2026h\u001b[?25l\u001b[A\u001b[1Gpulling manifest \u001b[K\n",
      "pulling aabd4debf0c8...  17% ▕██              ▏ 193 MB/1.1 GB  5.5 MB/s   2m47s\u001b[K\u001b[?25h\u001b[?2026l\u001b[?2026h\u001b[?25l\u001b[A\u001b[1Gpulling manifest \u001b[K\n",
      "pulling aabd4debf0c8...  17% ▕██              ▏ 193 MB/1.1 GB  5.5 MB/s   2m47s\u001b[K\u001b[?25h\u001b[?2026l\u001b[?2026h\u001b[?25l\u001b[A\u001b[1Gpulling manifest \u001b[K\n",
      "pulling aabd4debf0c8...  17% ▕██              ▏ 193 MB/1.1 GB  5.5 MB/s   2m47s\u001b[K\u001b[?25h\u001b[?2026l\u001b[?2026h\u001b[?25l\u001b[A\u001b[1Gpulling manifest \u001b[K\n",
      "pulling aabd4debf0c8...  17% ▕██              ▏ 194 MB/1.1 GB  5.6 MB/s   2m44s\u001b[K\u001b[?25h\u001b[?2026l\u001b[?2026h\u001b[?25l\u001b[A\u001b[1Gpulling manifest \u001b[K\n",
      "pulling aabd4debf0c8...  17% ▕██              ▏ 194 MB/1.1 GB  5.6 MB/s   2m44s\u001b[K\u001b[?25h\u001b[?2026l\u001b[?2026h\u001b[?25l\u001b[A\u001b[1Gpulling manifest \u001b[K\n",
      "pulling aabd4debf0c8...  17% ▕██              ▏ 195 MB/1.1 GB  5.6 MB/s   2m44s\u001b[K\u001b[?25h\u001b[?2026l\u001b[?2026h\u001b[?25l\u001b[A\u001b[1Gpulling manifest \u001b[K\n",
      "pulling aabd4debf0c8...  18% ▕██              ▏ 195 MB/1.1 GB  5.6 MB/s   2m44s\u001b[K\u001b[?25h\u001b[?2026l\u001b[?2026h\u001b[?25l\u001b[A\u001b[1Gpulling manifest \u001b[K\n",
      "pulling aabd4debf0c8...  18% ▕██              ▏ 196 MB/1.1 GB  5.6 MB/s   2m44s\u001b[K\u001b[?25h\u001b[?2026l\u001b[?2026h\u001b[?25l\u001b[A\u001b[1Gpulling manifest \u001b[K\n",
      "pulling aabd4debf0c8...  18% ▕██              ▏ 196 MB/1.1 GB  5.6 MB/s   2m44s\u001b[K\u001b[?25h\u001b[?2026l\u001b[?2026h\u001b[?25l\u001b[A\u001b[1Gpulling manifest \u001b[K\n",
      "pulling aabd4debf0c8...  18% ▕██              ▏ 196 MB/1.1 GB  5.6 MB/s   2m44s\u001b[K\u001b[?25h\u001b[?2026l\u001b[?2026h\u001b[?25l\u001b[A\u001b[1Gpulling manifest \u001b[K\n",
      "pulling aabd4debf0c8...  18% ▕██              ▏ 197 MB/1.1 GB  5.6 MB/s   2m44s\u001b[K\u001b[?25h\u001b[?2026l\u001b[?2026h\u001b[?25l\u001b[A\u001b[1Gpulling manifest \u001b[K\n",
      "pulling aabd4debf0c8...  18% ▕██              ▏ 197 MB/1.1 GB  5.6 MB/s   2m44s\u001b[K\u001b[?25h\u001b[?2026l\u001b[?2026h\u001b[?25l\u001b[A\u001b[1Gpulling manifest \u001b[K\n",
      "pulling aabd4debf0c8...  18% ▕██              ▏ 198 MB/1.1 GB  5.6 MB/s   2m44s\u001b[K\u001b[?25h\u001b[?2026l\u001b[?2026h\u001b[?25l\u001b[A\u001b[1Gpulling manifest \u001b[K\n",
      "pulling aabd4debf0c8...  18% ▕██              ▏ 199 MB/1.1 GB  5.5 MB/s   2m46s\u001b[K\u001b[?25h\u001b[?2026l\u001b[?2026h\u001b[?25l\u001b[A\u001b[1Gpulling manifest \u001b[K\n",
      "pulling aabd4debf0c8...  18% ▕██              ▏ 199 MB/1.1 GB  5.5 MB/s   2m46s\u001b[K\u001b[?25h\u001b[?2026l\u001b[?2026h\u001b[?25l\u001b[A\u001b[1Gpulling manifest \u001b[K\n",
      "pulling aabd4debf0c8...  18% ▕██              ▏ 200 MB/1.1 GB  5.5 MB/s   2m46s\u001b[K\u001b[?25h\u001b[?2026l\u001b[?2026h\u001b[?25l\u001b[A\u001b[1Gpulling manifest \u001b[K\n",
      "pulling aabd4debf0c8...  18% ▕██              ▏ 201 MB/1.1 GB  5.5 MB/s   2m46s\u001b[K\u001b[?25h\u001b[?2026l\u001b[?2026h\u001b[?25l\u001b[A\u001b[1Gpulling manifest \u001b[K\n",
      "pulling aabd4debf0c8...  18% ▕██              ▏ 201 MB/1.1 GB  5.5 MB/s   2m46s\u001b[K\u001b[?25h\u001b[?2026l\u001b[?2026h\u001b[?25l\u001b[A\u001b[1Gpulling manifest \u001b[K\n",
      "pulling aabd4debf0c8...  18% ▕██              ▏ 202 MB/1.1 GB  5.5 MB/s   2m46s\u001b[K\u001b[?25h\u001b[?2026l\u001b[?2026h\u001b[?25l\u001b[A\u001b[1Gpulling manifest \u001b[K\n",
      "pulling aabd4debf0c8...  18% ▕██              ▏ 203 MB/1.1 GB  5.5 MB/s   2m46s\u001b[K\u001b[?25h\u001b[?2026l\u001b[?2026h\u001b[?25l\u001b[A\u001b[1Gpulling manifest \u001b[K\n",
      "pulling aabd4debf0c8...  18% ▕██              ▏ 203 MB/1.1 GB  5.5 MB/s   2m46s\u001b[K\u001b[?25h\u001b[?2026l\u001b[?2026h\u001b[?25l\u001b[A\u001b[1Gpulling manifest \u001b[K\n",
      "pulling aabd4debf0c8...  18% ▕██              ▏ 203 MB/1.1 GB  5.5 MB/s   2m46s\u001b[K\u001b[?25h\u001b[?2026l\u001b[?2026h\u001b[?25l\u001b[A\u001b[1Gpulling manifest \u001b[K\n",
      "pulling aabd4debf0c8...  18% ▕██              ▏ 204 MB/1.1 GB  5.5 MB/s   2m45s\u001b[K\u001b[?25h\u001b[?2026l\u001b[?2026h\u001b[?25l\u001b[A\u001b[1Gpulling manifest \u001b[K\n",
      "pulling aabd4debf0c8...  18% ▕██              ▏ 205 MB/1.1 GB  5.6 MB/s   2m43s\u001b[K\u001b[?25h\u001b[?2026l\u001b[?2026h\u001b[?25l\u001b[A\u001b[1Gpulling manifest \u001b[K\n",
      "pulling aabd4debf0c8...  18% ▕██              ▏ 205 MB/1.1 GB  5.6 MB/s   2m43s\u001b[K\u001b[?25h\u001b[?2026l\u001b[?2026h\u001b[?25l\u001b[A\u001b[1Gpulling manifest \u001b[K\n",
      "pulling aabd4debf0c8...  18% ▕██              ▏ 206 MB/1.1 GB  5.6 MB/s   2m43s\u001b[K\u001b[?25h\u001b[?2026l\u001b[?2026h\u001b[?25l\u001b[A\u001b[1Gpulling manifest \u001b[K\n",
      "pulling aabd4debf0c8...  19% ▕██              ▏ 206 MB/1.1 GB  5.6 MB/s   2m43s\u001b[K\u001b[?25h\u001b[?2026l\u001b[?2026h\u001b[?25l\u001b[A\u001b[1Gpulling manifest \u001b[K\n",
      "pulling aabd4debf0c8...  19% ▕██              ▏ 207 MB/1.1 GB  5.6 MB/s   2m43s\u001b[K\u001b[?25h\u001b[?2026l\u001b[?2026h\u001b[?25l\u001b[A\u001b[1Gpulling manifest \u001b[K\n",
      "pulling aabd4debf0c8...  19% ▕██              ▏ 208 MB/1.1 GB  5.6 MB/s   2m42s\u001b[K\u001b[?25h\u001b[?2026l\u001b[?2026h\u001b[?25l\u001b[A\u001b[1Gpulling manifest \u001b[K\n",
      "pulling aabd4debf0c8...  19% ▕██              ▏ 208 MB/1.1 GB  5.6 MB/s   2m42s\u001b[K\u001b[?25h\u001b[?2026l\u001b[?2026h\u001b[?25l\u001b[A\u001b[1Gpulling manifest \u001b[K\n",
      "pulling aabd4debf0c8...  19% ▕██              ▏ 209 MB/1.1 GB  5.6 MB/s   2m42s\u001b[K\u001b[?25h\u001b[?2026l\u001b[?2026h\u001b[?25l\u001b[A\u001b[1Gpulling manifest \u001b[K\n",
      "pulling aabd4debf0c8...  19% ▕███             ▏ 209 MB/1.1 GB  5.6 MB/s   2m42s\u001b[K\u001b[?25h\u001b[?2026l\u001b[?2026h\u001b[?25l\u001b[A\u001b[1Gpulling manifest \u001b[K\n",
      "pulling aabd4debf0c8...  19% ▕███             ▏ 210 MB/1.1 GB  5.6 MB/s   2m42s\u001b[K\u001b[?25h\u001b[?2026l\u001b[?2026h\u001b[?25l\u001b[A\u001b[1Gpulling manifest \u001b[K\n",
      "pulling aabd4debf0c8...  19% ▕███             ▏ 210 MB/1.1 GB  5.4 MB/s   2m46s\u001b[K\u001b[?25h\u001b[?2026l\u001b[?2026h\u001b[?25l\u001b[A\u001b[1Gpulling manifest \u001b[K\n",
      "pulling aabd4debf0c8...  19% ▕███             ▏ 211 MB/1.1 GB  5.4 MB/s   2m46s\u001b[K\u001b[?25h\u001b[?2026l\u001b[?2026h\u001b[?25l\u001b[A\u001b[1Gpulling manifest \u001b[K\n",
      "pulling aabd4debf0c8...  19% ▕███             ▏ 211 MB/1.1 GB  5.4 MB/s   2m46s\u001b[K\u001b[?25h\u001b[?2026l\u001b[?2026h\u001b[?25l\u001b[A\u001b[1Gpulling manifest \u001b[K\n",
      "pulling aabd4debf0c8...  19% ▕███             ▏ 212 MB/1.1 GB  5.4 MB/s   2m46s\u001b[K\u001b[?25h\u001b[?2026l\u001b[?2026h\u001b[?25l\u001b[A\u001b[1Gpulling manifest \u001b[K\n",
      "pulling aabd4debf0c8...  19% ▕███             ▏ 212 MB/1.1 GB  5.4 MB/s   2m45s\u001b[K\u001b[?25h\u001b[?2026l\u001b[?2026h\u001b[?25l\u001b[A\u001b[1Gpulling manifest \u001b[K\n",
      "pulling aabd4debf0c8...  19% ▕███             ▏ 213 MB/1.1 GB  5.4 MB/s   2m45s\u001b[K\u001b[?25h\u001b[?2026l\u001b[?2026h\u001b[?25l\u001b[A\u001b[1Gpulling manifest \u001b[K\n",
      "pulling aabd4debf0c8...  19% ▕███             ▏ 214 MB/1.1 GB  5.4 MB/s   2m45s\u001b[K\u001b[?25h\u001b[?2026l\u001b[?2026h\u001b[?25l\u001b[A\u001b[1Gpulling manifest \u001b[K\n",
      "pulling aabd4debf0c8...  19% ▕███             ▏ 214 MB/1.1 GB  5.4 MB/s   2m45s\u001b[K\u001b[?25h\u001b[?2026l\u001b[?2026h\u001b[?25l\u001b[A\u001b[1Gpulling manifest \u001b[K\n",
      "pulling aabd4debf0c8...  19% ▕███             ▏ 214 MB/1.1 GB  5.4 MB/s   2m45s\u001b[K\u001b[?25h\u001b[?2026l\u001b[?2026h\u001b[?25l\u001b[A\u001b[1Gpulling manifest \u001b[K\n",
      "pulling aabd4debf0c8...  19% ▕███             ▏ 215 MB/1.1 GB  5.4 MB/s   2m45s\u001b[K\u001b[?25h\u001b[?2026l\u001b[?2026h\u001b[?25l\u001b[A\u001b[1Gpulling manifest \u001b[K\n",
      "pulling aabd4debf0c8...  19% ▕███             ▏ 216 MB/1.1 GB  5.6 MB/s   2m42s\u001b[K\u001b[?25h\u001b[?2026l\u001b[?2026h\u001b[?25l\u001b[A\u001b[1Gpulling manifest \u001b[K\n",
      "pulling aabd4debf0c8...  19% ▕███             ▏ 216 MB/1.1 GB  5.6 MB/s   2m42s\u001b[K\u001b[?25h\u001b[?2026l\u001b[?2026h\u001b[?25l\u001b[A\u001b[1Gpulling manifest \u001b[K\n",
      "pulling aabd4debf0c8...  19% ▕███             ▏ 216 MB/1.1 GB  5.6 MB/s   2m41s\u001b[K\u001b[?25h\u001b[?2026l\u001b[?2026h\u001b[?25l\u001b[A\u001b[1Gpulling manifest \u001b[K\n",
      "pulling aabd4debf0c8...  19% ▕███             ▏ 217 MB/1.1 GB  5.6 MB/s   2m41s\u001b[K\u001b[?25h\u001b[?2026l\u001b[?2026h\u001b[?25l\u001b[A\u001b[1Gpulling manifest \u001b[K\n",
      "pulling aabd4debf0c8...  19% ▕███             ▏ 217 MB/1.1 GB  5.6 MB/s   2m41s\u001b[K\u001b[?25h\u001b[?2026l\u001b[?2026h\u001b[?25l\u001b[A\u001b[1Gpulling manifest \u001b[K\n",
      "pulling aabd4debf0c8...  20% ▕███             ▏ 218 MB/1.1 GB  5.6 MB/s   2m41s\u001b[K\u001b[?25h\u001b[?2026l\u001b[?2026h\u001b[?25l\u001b[A\u001b[1Gpulling manifest \u001b[K\n",
      "pulling aabd4debf0c8...  20% ▕███             ▏ 218 MB/1.1 GB  5.6 MB/s   2m41s\u001b[K\u001b[?25h\u001b[?2026l\u001b[?2026h\u001b[?25l\u001b[A\u001b[1Gpulling manifest \u001b[K\n",
      "pulling aabd4debf0c8...  20% ▕███             ▏ 219 MB/1.1 GB  5.6 MB/s   2m41s\u001b[K\u001b[?25h\u001b[?2026l\u001b[?2026h\u001b[?25l\u001b[A\u001b[1Gpulling manifest \u001b[K\n",
      "pulling aabd4debf0c8...  20% ▕███             ▏ 219 MB/1.1 GB  5.6 MB/s   2m41s\u001b[K\u001b[?25h\u001b[?2026l\u001b[?2026h\u001b[?25l\u001b[A\u001b[1Gpulling manifest \u001b[K\n",
      "pulling aabd4debf0c8...  20% ▕███             ▏ 220 MB/1.1 GB  5.6 MB/s   2m41s\u001b[K\u001b[?25h\u001b[?2026l\u001b[?2026h\u001b[?25l\u001b[A\u001b[1Gpulling manifest \u001b[K\n",
      "pulling aabd4debf0c8...  20% ▕███             ▏ 220 MB/1.1 GB  5.6 MB/s   2m41s\u001b[K\u001b[?25h\u001b[?2026l\u001b[?2026h\u001b[?25l\u001b[A\u001b[1Gpulling manifest \u001b[K\n",
      "pulling aabd4debf0c8...  20% ▕███             ▏ 221 MB/1.1 GB  5.5 MB/s   2m43s\u001b[K\u001b[?25h\u001b[?2026l\u001b[?2026h\u001b[?25l\u001b[A\u001b[1Gpulling manifest \u001b[K\n",
      "pulling aabd4debf0c8...  20% ▕███             ▏ 222 MB/1.1 GB  5.5 MB/s   2m43s\u001b[K\u001b[?25h\u001b[?2026l\u001b[?2026h\u001b[?25l\u001b[A\u001b[1Gpulling manifest \u001b[K\n",
      "pulling aabd4debf0c8...  20% ▕███             ▏ 222 MB/1.1 GB  5.5 MB/s   2m43s\u001b[K\u001b[?25h\u001b[?2026l\u001b[?2026h\u001b[?25l\u001b[A\u001b[1Gpulling manifest \u001b[K\n",
      "pulling aabd4debf0c8...  20% ▕███             ▏ 223 MB/1.1 GB  5.5 MB/s   2m43s\u001b[K\u001b[?25h\u001b[?2026l\u001b[?2026h\u001b[?25l\u001b[A\u001b[1Gpulling manifest \u001b[K\n",
      "pulling aabd4debf0c8...  20% ▕███             ▏ 224 MB/1.1 GB  5.5 MB/s   2m42s\u001b[K\u001b[?25h\u001b[?2026l\u001b[?2026h\u001b[?25l\u001b[A\u001b[1Gpulling manifest \u001b[K\n",
      "pulling aabd4debf0c8...  20% ▕███             ▏ 224 MB/1.1 GB  5.5 MB/s   2m42s\u001b[K\u001b[?25h\u001b[?2026l\u001b[?2026h\u001b[?25l\u001b[A\u001b[1Gpulling manifest \u001b[K\n",
      "pulling aabd4debf0c8...  20% ▕███             ▏ 225 MB/1.1 GB  5.5 MB/s   2m42s\u001b[K\u001b[?25h\u001b[?2026l\u001b[?2026h\u001b[?25l\u001b[A\u001b[1Gpulling manifest \u001b[K\n",
      "pulling aabd4debf0c8...  20% ▕███             ▏ 226 MB/1.1 GB  5.5 MB/s   2m42s\u001b[K\u001b[?25h\u001b[?2026l\u001b[?2026h\u001b[?25l\u001b[A\u001b[1Gpulling manifest \u001b[K\n",
      "pulling aabd4debf0c8...  20% ▕███             ▏ 226 MB/1.1 GB  5.5 MB/s   2m42s\u001b[K\u001b[?25h\u001b[?2026l\u001b[?2026h\u001b[?25l\u001b[A\u001b[1Gpulling manifest \u001b[K\n",
      "pulling aabd4debf0c8...  20% ▕███             ▏ 227 MB/1.1 GB  5.5 MB/s   2m42s\u001b[K\u001b[?25h\u001b[?2026l\u001b[?2026h\u001b[?25l\u001b[A\u001b[1Gpulling manifest \u001b[K\n",
      "pulling aabd4debf0c8...  20% ▕███             ▏ 227 MB/1.1 GB  5.6 MB/s   2m39s\u001b[K\u001b[?25h\u001b[?2026l\u001b[?2026h\u001b[?25l\u001b[A\u001b[1Gpulling manifest \u001b[K\n",
      "pulling aabd4debf0c8...  20% ▕███             ▏ 227 MB/1.1 GB  5.6 MB/s   2m39s\u001b[K\u001b[?25h\u001b[?2026l\u001b[?2026h\u001b[?25l\u001b[A\u001b[1Gpulling manifest \u001b[K\n",
      "pulling aabd4debf0c8...  20% ▕███             ▏ 227 MB/1.1 GB  5.6 MB/s   2m39s\u001b[K\u001b[?25h\u001b[?2026l\u001b[?2026h\u001b[?25l\u001b[A\u001b[1Gpulling manifest \u001b[K\n",
      "pulling aabd4debf0c8...  20% ▕███             ▏ 228 MB/1.1 GB  5.6 MB/s   2m39s\u001b[K\u001b[?25h\u001b[?2026l\u001b[?2026h\u001b[?25l\u001b[A\u001b[1Gpulling manifest \u001b[K\n",
      "pulling aabd4debf0c8...  21% ▕███             ▏ 229 MB/1.1 GB  5.6 MB/s   2m39s\u001b[K\u001b[?25h\u001b[?2026l\u001b[?2026h\u001b[?25l\u001b[A\u001b[1Gpulling manifest \u001b[K\n",
      "pulling aabd4debf0c8...  21% ▕███             ▏ 229 MB/1.1 GB  5.6 MB/s   2m39s\u001b[K\u001b[?25h\u001b[?2026l\u001b[?2026h\u001b[?25l\u001b[A\u001b[1Gpulling manifest \u001b[K\n",
      "pulling aabd4debf0c8...  21% ▕███             ▏ 230 MB/1.1 GB  5.6 MB/s   2m39s\u001b[K\u001b[?25h\u001b[?2026l\u001b[?2026h\u001b[?25l\u001b[A\u001b[1Gpulling manifest \u001b[K\n",
      "pulling aabd4debf0c8...  21% ▕███             ▏ 231 MB/1.1 GB  5.6 MB/s   2m39s\u001b[K\u001b[?25h\u001b[?2026l\u001b[?2026h\u001b[?25l\u001b[A\u001b[1Gpulling manifest \u001b[K\n",
      "pulling aabd4debf0c8...  21% ▕███             ▏ 231 MB/1.1 GB  5.6 MB/s   2m39s\u001b[K\u001b[?25h\u001b[?2026l\u001b[?2026h\u001b[?25l\u001b[A\u001b[1Gpulling manifest \u001b[K\n",
      "pulling aabd4debf0c8...  21% ▕███             ▏ 232 MB/1.1 GB  5.6 MB/s   2m38s\u001b[K\u001b[?25h\u001b[?2026l\u001b[?2026h\u001b[?25l\u001b[A\u001b[1Gpulling manifest \u001b[K\n",
      "pulling aabd4debf0c8...  21% ▕███             ▏ 232 MB/1.1 GB  5.5 MB/s   2m39s\u001b[K\u001b[?25h\u001b[?2026l\u001b[?2026h\u001b[?25l\u001b[A\u001b[1Gpulling manifest \u001b[K\n",
      "pulling aabd4debf0c8...  21% ▕███             ▏ 233 MB/1.1 GB  5.5 MB/s   2m39s\u001b[K\u001b[?25h\u001b[?2026l\u001b[?2026h\u001b[?25l\u001b[A\u001b[1Gpulling manifest \u001b[K\n",
      "pulling aabd4debf0c8...  21% ▕███             ▏ 234 MB/1.1 GB  5.5 MB/s   2m39s\u001b[K\u001b[?25h\u001b[?2026l\u001b[?2026h\u001b[?25l\u001b[A\u001b[1Gpulling manifest \u001b[K\n",
      "pulling aabd4debf0c8...  21% ▕███             ▏ 234 MB/1.1 GB  5.5 MB/s   2m39s\u001b[K\u001b[?25h\u001b[?2026l\u001b[?2026h\u001b[?25l\u001b[A\u001b[1Gpulling manifest \u001b[K\n",
      "pulling aabd4debf0c8...  21% ▕███             ▏ 234 MB/1.1 GB  5.5 MB/s   2m39s\u001b[K\u001b[?25h\u001b[?2026l\u001b[?2026h\u001b[?25l\u001b[A\u001b[1Gpulling manifest \u001b[K\n",
      "pulling aabd4debf0c8...  21% ▕███             ▏ 235 MB/1.1 GB  5.5 MB/s   2m39s\u001b[K\u001b[?25h\u001b[?2026l\u001b[?2026h\u001b[?25l\u001b[A\u001b[1Gpulling manifest \u001b[K\n",
      "pulling aabd4debf0c8...  21% ▕███             ▏ 235 MB/1.1 GB  5.5 MB/s   2m39s\u001b[K\u001b[?25h\u001b[?2026l\u001b[?2026h\u001b[?25l\u001b[A\u001b[1Gpulling manifest \u001b[K\n",
      "pulling aabd4debf0c8...  21% ▕███             ▏ 236 MB/1.1 GB  5.5 MB/s   2m39s\u001b[K\u001b[?25h\u001b[?2026l\u001b[?2026h\u001b[?25l\u001b[A\u001b[1Gpulling manifest \u001b[K\n",
      "pulling aabd4debf0c8...  21% ▕███             ▏ 236 MB/1.1 GB  5.5 MB/s   2m38s\u001b[K\u001b[?25h\u001b[?2026l\u001b[?2026h\u001b[?25l\u001b[A\u001b[1Gpulling manifest \u001b[K\n",
      "pulling aabd4debf0c8...  21% ▕███             ▏ 237 MB/1.1 GB  5.5 MB/s   2m38s\u001b[K\u001b[?25h\u001b[?2026l\u001b[?2026h\u001b[?25l\u001b[A\u001b[1Gpulling manifest \u001b[K\n",
      "pulling aabd4debf0c8...  21% ▕███             ▏ 238 MB/1.1 GB  5.5 MB/s   2m39s\u001b[K\u001b[?25h\u001b[?2026l\u001b[?2026h\u001b[?25l\u001b[A\u001b[1Gpulling manifest \u001b[K\n",
      "pulling aabd4debf0c8...  21% ▕███             ▏ 238 MB/1.1 GB  5.5 MB/s   2m39s\u001b[K\u001b[?25h\u001b[?2026l\u001b[?2026h\u001b[?25l\u001b[A\u001b[1Gpulling manifest \u001b[K\n",
      "pulling aabd4debf0c8...  21% ▕███             ▏ 238 MB/1.1 GB  5.5 MB/s   2m39s\u001b[K\u001b[?25h\u001b[?2026l\u001b[?2026h\u001b[?25l\u001b[A\u001b[1Gpulling manifest \u001b[K\n",
      "pulling aabd4debf0c8...  21% ▕███             ▏ 239 MB/1.1 GB  5.5 MB/s   2m39s\u001b[K\u001b[?25h\u001b[?2026l\u001b[?2026h\u001b[?25l\u001b[A\u001b[1Gpulling manifest \u001b[K\n",
      "pulling aabd4debf0c8...  22% ▕███             ▏ 240 MB/1.1 GB  5.5 MB/s   2m39s\u001b[K\u001b[?25h\u001b[?2026l\u001b[?2026h\u001b[?25l\u001b[A\u001b[1Gpulling manifest \u001b[K\n",
      "pulling aabd4debf0c8...  22% ▕███             ▏ 240 MB/1.1 GB  5.5 MB/s   2m39s\u001b[K\u001b[?25h\u001b[?2026l\u001b[?2026h\u001b[?25l\u001b[A\u001b[1Gpulling manifest \u001b[K\n",
      "pulling aabd4debf0c8...  22% ▕███             ▏ 241 MB/1.1 GB  5.5 MB/s   2m39s\u001b[K\u001b[?25h\u001b[?2026l\u001b[?2026h\u001b[?25l\u001b[A\u001b[1Gpulling manifest \u001b[K\n",
      "pulling aabd4debf0c8...  22% ▕███             ▏ 242 MB/1.1 GB  5.5 MB/s   2m39s\u001b[K\u001b[?25h\u001b[?2026l\u001b[?2026h\u001b[?25l\u001b[A\u001b[1Gpulling manifest \u001b[K\n",
      "pulling aabd4debf0c8...  22% ▕███             ▏ 242 MB/1.1 GB  5.5 MB/s   2m39s\u001b[K\u001b[?25h\u001b[?2026l\u001b[?2026h\u001b[?25l\u001b[A\u001b[1Gpulling manifest \u001b[K\n",
      "pulling aabd4debf0c8...  22% ▕███             ▏ 242 MB/1.1 GB  5.5 MB/s   2m39s\u001b[K\u001b[?25h\u001b[?2026l\u001b[?2026h\u001b[?25l\u001b[A\u001b[1Gpulling manifest \u001b[K\n",
      "pulling aabd4debf0c8...  22% ▕███             ▏ 243 MB/1.1 GB  5.5 MB/s   2m38s\u001b[K\u001b[?25h\u001b[?2026l\u001b[?2026h\u001b[?25l\u001b[A\u001b[1Gpulling manifest \u001b[K\n",
      "pulling aabd4debf0c8...  22% ▕███             ▏ 244 MB/1.1 GB  5.5 MB/s   2m38s\u001b[K\u001b[?25h\u001b[?2026l\u001b[?2026h\u001b[?25l\u001b[A\u001b[1Gpulling manifest \u001b[K\n",
      "pulling aabd4debf0c8...  22% ▕███             ▏ 245 MB/1.1 GB  5.5 MB/s   2m38s\u001b[K\u001b[?25h\u001b[?2026l\u001b[?2026h\u001b[?25l\u001b[A\u001b[1Gpulling manifest \u001b[K\n",
      "pulling aabd4debf0c8...  22% ▕███             ▏ 246 MB/1.1 GB  5.5 MB/s   2m37s\u001b[K\u001b[?25h\u001b[?2026l\u001b[?2026h\u001b[?25l\u001b[A\u001b[1Gpulling manifest \u001b[K\n",
      "pulling aabd4debf0c8...  22% ▕███             ▏ 246 MB/1.1 GB  5.5 MB/s   2m37s\u001b[K\u001b[?25h\u001b[?2026l\u001b[?2026h\u001b[?25l\u001b[A\u001b[1Gpulling manifest \u001b[K\n",
      "pulling aabd4debf0c8...  22% ▕███             ▏ 246 MB/1.1 GB  5.5 MB/s   2m37s\u001b[K\u001b[?25h\u001b[?2026l\u001b[?2026h\u001b[?25l\u001b[A\u001b[1Gpulling manifest \u001b[K\n",
      "pulling aabd4debf0c8...  22% ▕███             ▏ 247 MB/1.1 GB  5.5 MB/s   2m37s\u001b[K\u001b[?25h\u001b[?2026l\u001b[?2026h\u001b[?25l\u001b[A\u001b[1Gpulling manifest \u001b[K\n",
      "pulling aabd4debf0c8...  22% ▕███             ▏ 247 MB/1.1 GB  5.5 MB/s   2m37s\u001b[K\u001b[?25h\u001b[?2026l\u001b[?2026h\u001b[?25l\u001b[A\u001b[1Gpulling manifest \u001b[K\n",
      "pulling aabd4debf0c8...  22% ▕███             ▏ 248 MB/1.1 GB  5.5 MB/s   2m37s\u001b[K\u001b[?25h\u001b[?2026l\u001b[?2026h\u001b[?25l\u001b[A\u001b[1Gpulling manifest \u001b[K\n",
      "pulling aabd4debf0c8...  22% ▕███             ▏ 248 MB/1.1 GB  5.5 MB/s   2m37s\u001b[K\u001b[?25h\u001b[?2026l\u001b[?2026h\u001b[?25l\u001b[A\u001b[1Gpulling manifest \u001b[K\n",
      "pulling aabd4debf0c8...  22% ▕███             ▏ 249 MB/1.1 GB  5.5 MB/s   2m37s\u001b[K\u001b[?25h\u001b[?2026l\u001b[?2026h\u001b[?25l\u001b[A\u001b[1Gpulling manifest \u001b[K\n",
      "pulling aabd4debf0c8...  22% ▕███             ▏ 249 MB/1.1 GB  5.6 MB/s   2m35s\u001b[K\u001b[?25h\u001b[?2026l\u001b[?2026h\u001b[?25l\u001b[A\u001b[1Gpulling manifest \u001b[K\n",
      "pulling aabd4debf0c8...  22% ▕███             ▏ 249 MB/1.1 GB  5.6 MB/s   2m35s\u001b[K\u001b[?25h\u001b[?2026l\u001b[?2026h\u001b[?25l\u001b[A\u001b[1Gpulling manifest \u001b[K\n",
      "pulling aabd4debf0c8...  22% ▕███             ▏ 250 MB/1.1 GB  5.6 MB/s   2m35s\u001b[K\u001b[?25h\u001b[?2026l\u001b[?2026h\u001b[?25l\u001b[A\u001b[1Gpulling manifest \u001b[K\n",
      "pulling aabd4debf0c8...  22% ▕███             ▏ 250 MB/1.1 GB  5.6 MB/s   2m34s\u001b[K\u001b[?25h\u001b[?2026l\u001b[?2026h\u001b[?25l\u001b[A\u001b[1Gpulling manifest \u001b[K\n",
      "pulling aabd4debf0c8...  23% ▕███             ▏ 251 MB/1.1 GB  5.6 MB/s   2m34s\u001b[K\u001b[?25h\u001b[?2026l\u001b[?2026h\u001b[?25l\u001b[A\u001b[1Gpulling manifest \u001b[K\n",
      "pulling aabd4debf0c8...  23% ▕███             ▏ 251 MB/1.1 GB  5.6 MB/s   2m34s\u001b[K\u001b[?25h\u001b[?2026l\u001b[?2026h\u001b[?25l\u001b[A\u001b[1Gpulling manifest \u001b[K\n",
      "pulling aabd4debf0c8...  23% ▕███             ▏ 251 MB/1.1 GB  5.6 MB/s   2m34s\u001b[K\u001b[?25h\u001b[?2026l\u001b[?2026h\u001b[?25l\u001b[A\u001b[1Gpulling manifest \u001b[K\n",
      "pulling aabd4debf0c8...  23% ▕███             ▏ 252 MB/1.1 GB  5.6 MB/s   2m34s\u001b[K\u001b[?25h\u001b[?2026l\u001b[?2026h\u001b[?25l\u001b[A\u001b[1Gpulling manifest \u001b[K\n",
      "pulling aabd4debf0c8...  23% ▕███             ▏ 253 MB/1.1 GB  5.6 MB/s   2m34s\u001b[K\u001b[?25h\u001b[?2026l\u001b[?2026h\u001b[?25l\u001b[A\u001b[1Gpulling manifest \u001b[K\n",
      "pulling aabd4debf0c8...  23% ▕███             ▏ 253 MB/1.1 GB  5.6 MB/s   2m34s\u001b[K\u001b[?25h\u001b[?2026l\u001b[?2026h\u001b[?25l\u001b[A\u001b[1Gpulling manifest \u001b[K\n",
      "pulling aabd4debf0c8...  23% ▕███             ▏ 254 MB/1.1 GB  5.4 MB/s   2m39s\u001b[K\u001b[?25h\u001b[?2026l\u001b[?2026h\u001b[?25l\u001b[A\u001b[1Gpulling manifest \u001b[K\n",
      "pulling aabd4debf0c8...  23% ▕███             ▏ 254 MB/1.1 GB  5.4 MB/s   2m39s\u001b[K\u001b[?25h\u001b[?2026l\u001b[?2026h\u001b[?25l\u001b[A\u001b[1Gpulling manifest \u001b[K\n",
      "pulling aabd4debf0c8...  23% ▕███             ▏ 255 MB/1.1 GB  5.4 MB/s   2m39s\u001b[K\u001b[?25h\u001b[?2026l\u001b[?2026h\u001b[?25l\u001b[A\u001b[1Gpulling manifest \u001b[K\n",
      "pulling aabd4debf0c8...  23% ▕███             ▏ 255 MB/1.1 GB  5.4 MB/s   2m39s\u001b[K\u001b[?25h\u001b[?2026l\u001b[?2026h\u001b[?25l\u001b[A\u001b[1Gpulling manifest \u001b[K\n",
      "pulling aabd4debf0c8...  23% ▕███             ▏ 256 MB/1.1 GB  5.4 MB/s   2m39s\u001b[K\u001b[?25h\u001b[?2026l\u001b[?2026h\u001b[?25l\u001b[A\u001b[1Gpulling manifest \u001b[K\n",
      "pulling aabd4debf0c8...  23% ▕███             ▏ 257 MB/1.1 GB  5.4 MB/s   2m39s\u001b[K\u001b[?25h\u001b[?2026l\u001b[?2026h\u001b[?25l\u001b[A\u001b[1Gpulling manifest \u001b[K\n",
      "pulling aabd4debf0c8...  23% ▕███             ▏ 257 MB/1.1 GB  5.4 MB/s   2m38s\u001b[K\u001b[?25h\u001b[?2026l\u001b[?2026h\u001b[?25l\u001b[A\u001b[1Gpulling manifest \u001b[K\n",
      "pulling aabd4debf0c8...  23% ▕███             ▏ 257 MB/1.1 GB  5.4 MB/s   2m38s\u001b[K\u001b[?25h\u001b[?2026l\u001b[?2026h\u001b[?25l\u001b[A\u001b[1Gpulling manifest \u001b[K\n",
      "pulling aabd4debf0c8...  23% ▕███             ▏ 258 MB/1.1 GB  5.4 MB/s   2m38s\u001b[K\u001b[?25h\u001b[?2026l\u001b[?2026h\u001b[?25l\u001b[A\u001b[1Gpulling manifest \u001b[K\n",
      "pulling aabd4debf0c8...  23% ▕███             ▏ 259 MB/1.1 GB  5.4 MB/s   2m38s\u001b[K\u001b[?25h\u001b[?2026l\u001b[?2026h\u001b[?25l\u001b[A\u001b[1Gpulling manifest \u001b[K\n",
      "pulling aabd4debf0c8...  23% ▕███             ▏ 259 MB/1.1 GB  5.5 MB/s   2m36s\u001b[K\u001b[?25h\u001b[?2026l\u001b[?2026h\u001b[?25l\u001b[A\u001b[1Gpulling manifest \u001b[K\n",
      "pulling aabd4debf0c8...  23% ▕███             ▏ 260 MB/1.1 GB  5.5 MB/s   2m36s\u001b[K\u001b[?25h\u001b[?2026l\u001b[?2026h\u001b[?25l\u001b[A\u001b[1Gpulling manifest \u001b[K\n",
      "pulling aabd4debf0c8...  23% ▕███             ▏ 260 MB/1.1 GB  5.5 MB/s   2m36s\u001b[K\u001b[?25h\u001b[?2026l\u001b[?2026h\u001b[?25l\u001b[A\u001b[1Gpulling manifest \u001b[K\n",
      "pulling aabd4debf0c8...  23% ▕███             ▏ 261 MB/1.1 GB  5.5 MB/s   2m36s\u001b[K\u001b[?25h\u001b[?2026l\u001b[?2026h\u001b[?25l\u001b[A\u001b[1Gpulling manifest \u001b[K\n",
      "pulling aabd4debf0c8...  23% ▕███             ▏ 262 MB/1.1 GB  5.5 MB/s   2m36s\u001b[K\u001b[?25h\u001b[?2026l\u001b[?2026h\u001b[?25l\u001b[A\u001b[1Gpulling manifest \u001b[K\n",
      "pulling aabd4debf0c8...  24% ▕███             ▏ 263 MB/1.1 GB  5.5 MB/s   2m36s\u001b[K\u001b[?25h\u001b[?2026l\u001b[?2026h\u001b[?25l\u001b[A\u001b[1Gpulling manifest \u001b[K\n",
      "pulling aabd4debf0c8...  24% ▕███             ▏ 263 MB/1.1 GB  5.5 MB/s   2m36s\u001b[K\u001b[?25h\u001b[?2026l\u001b[?2026h\u001b[?25l\u001b[A\u001b[1Gpulling manifest \u001b[K\n",
      "pulling aabd4debf0c8...  24% ▕███             ▏ 264 MB/1.1 GB  5.5 MB/s   2m36s\u001b[K\u001b[?25h\u001b[?2026l\u001b[?2026h\u001b[?25l\u001b[A\u001b[1Gpulling manifest \u001b[K\n",
      "pulling aabd4debf0c8...  24% ▕███             ▏ 265 MB/1.1 GB  5.5 MB/s   2m35s\u001b[K\u001b[?25h\u001b[?2026l\u001b[?2026h\u001b[?25l\u001b[A\u001b[1Gpulling manifest \u001b[K\n",
      "pulling aabd4debf0c8...  24% ▕███             ▏ 265 MB/1.1 GB  5.5 MB/s   2m35s\u001b[K\u001b[?25h\u001b[?2026l\u001b[?2026h\u001b[?25l\u001b[A\u001b[1Gpulling manifest \u001b[K\n",
      "pulling aabd4debf0c8...  24% ▕███             ▏ 265 MB/1.1 GB  5.5 MB/s   2m34s\u001b[K\u001b[?25h\u001b[?2026l\u001b[?2026h\u001b[?25l\u001b[A\u001b[1Gpulling manifest \u001b[K\n",
      "pulling aabd4debf0c8...  24% ▕███             ▏ 266 MB/1.1 GB  5.5 MB/s   2m34s\u001b[K\u001b[?25h\u001b[?2026l\u001b[?2026h\u001b[?25l\u001b[A\u001b[1Gpulling manifest \u001b[K\n",
      "pulling aabd4debf0c8...  24% ▕███             ▏ 266 MB/1.1 GB  5.5 MB/s   2m34s\u001b[K\u001b[?25h\u001b[?2026l\u001b[?2026h\u001b[?25l\u001b[A\u001b[1Gpulling manifest \u001b[K\n",
      "pulling aabd4debf0c8...  24% ▕███             ▏ 267 MB/1.1 GB  5.5 MB/s   2m34s\u001b[K\u001b[?25h\u001b[?2026l\u001b[?2026h\u001b[?25l\u001b[A\u001b[1Gpulling manifest \u001b[K\n",
      "pulling aabd4debf0c8...  24% ▕███             ▏ 267 MB/1.1 GB  5.5 MB/s   2m34s\u001b[K\u001b[?25h\u001b[?2026l\u001b[?2026h\u001b[?25l\u001b[A\u001b[1Gpulling manifest \u001b[K\n",
      "pulling aabd4debf0c8...  24% ▕███             ▏ 267 MB/1.1 GB  5.5 MB/s   2m34s\u001b[K\u001b[?25h\u001b[?2026l\u001b[?2026h\u001b[?25l\u001b[A\u001b[1Gpulling manifest \u001b[K\n",
      "pulling aabd4debf0c8...  24% ▕███             ▏ 268 MB/1.1 GB  5.5 MB/s   2m34s\u001b[K\u001b[?25h\u001b[?2026l\u001b[?2026h\u001b[?25l\u001b[A\u001b[1Gpulling manifest \u001b[K\n",
      "pulling aabd4debf0c8...  24% ▕███             ▏ 268 MB/1.1 GB  5.5 MB/s   2m34s\u001b[K\u001b[?25h\u001b[?2026l\u001b[?2026h\u001b[?25l\u001b[A\u001b[1Gpulling manifest \u001b[K\n",
      "pulling aabd4debf0c8...  24% ▕███             ▏ 269 MB/1.1 GB  5.5 MB/s   2m34s\u001b[K\u001b[?25h\u001b[?2026l\u001b[?2026h\u001b[?25l\u001b[A\u001b[1Gpulling manifest \u001b[K\n",
      "pulling aabd4debf0c8...  24% ▕███             ▏ 269 MB/1.1 GB  5.5 MB/s   2m34s\u001b[K\u001b[?25h\u001b[?2026l\u001b[?2026h\u001b[?25l\u001b[A\u001b[1Gpulling manifest \u001b[K\n",
      "pulling aabd4debf0c8...  24% ▕███             ▏ 270 MB/1.1 GB  5.5 MB/s   2m34s\u001b[K\u001b[?25h\u001b[?2026l\u001b[?2026h\u001b[?25l\u001b[A\u001b[1Gpulling manifest \u001b[K\n",
      "pulling aabd4debf0c8...  24% ▕███             ▏ 270 MB/1.1 GB  5.5 MB/s   2m34s\u001b[K\u001b[?25h\u001b[?2026l\u001b[?2026h\u001b[?25l\u001b[A\u001b[1Gpulling manifest \u001b[K\n",
      "pulling aabd4debf0c8...  24% ▕███             ▏ 271 MB/1.1 GB  5.5 MB/s   2m34s\u001b[K\u001b[?25h\u001b[?2026l\u001b[?2026h\u001b[?25l\u001b[A\u001b[1Gpulling manifest \u001b[K\n",
      "pulling aabd4debf0c8...  24% ▕███             ▏ 272 MB/1.1 GB  5.5 MB/s   2m34s\u001b[K\u001b[?25h\u001b[?2026l\u001b[?2026h\u001b[?25l\u001b[A\u001b[1Gpulling manifest \u001b[K\n",
      "pulling aabd4debf0c8...  24% ▕███             ▏ 272 MB/1.1 GB  5.5 MB/s   2m34s\u001b[K\u001b[?25h\u001b[?2026l\u001b[?2026h\u001b[?25l\u001b[A\u001b[1Gpulling manifest \u001b[K\n",
      "pulling aabd4debf0c8...  24% ▕███             ▏ 273 MB/1.1 GB  5.5 MB/s   2m34s\u001b[K\u001b[?25h\u001b[?2026l\u001b[?2026h\u001b[?25l\u001b[A\u001b[1Gpulling manifest \u001b[K\n",
      "pulling aabd4debf0c8...  25% ▕███             ▏ 273 MB/1.1 GB  5.5 MB/s   2m34s\u001b[K\u001b[?25h\u001b[?2026l\u001b[?2026h\u001b[?25l\u001b[A\u001b[1Gpulling manifest \u001b[K\n",
      "pulling aabd4debf0c8...  25% ▕███             ▏ 274 MB/1.1 GB  5.5 MB/s   2m34s\u001b[K\u001b[?25h\u001b[?2026l\u001b[?2026h\u001b[?25l\u001b[A\u001b[1Gpulling manifest \u001b[K\n",
      "pulling aabd4debf0c8...  25% ▕███             ▏ 275 MB/1.1 GB  5.5 MB/s   2m33s\u001b[K\u001b[?25h\u001b[?2026l\u001b[?2026h\u001b[?25l\u001b[A\u001b[1Gpulling manifest \u001b[K\n",
      "pulling aabd4debf0c8...  25% ▕███             ▏ 275 MB/1.1 GB  5.5 MB/s   2m33s\u001b[K\u001b[?25h\u001b[?2026l\u001b[?2026h\u001b[?25l\u001b[A\u001b[1Gpulling manifest \u001b[K\n",
      "pulling aabd4debf0c8...  25% ▕███             ▏ 276 MB/1.1 GB  5.5 MB/s   2m33s\u001b[K\u001b[?25h\u001b[?2026l\u001b[?2026h\u001b[?25l\u001b[A\u001b[1Gpulling manifest \u001b[K\n",
      "pulling aabd4debf0c8...  25% ▕███             ▏ 277 MB/1.1 GB  5.5 MB/s   2m32s\u001b[K\u001b[?25h\u001b[?2026l\u001b[?2026h\u001b[?25l\u001b[A\u001b[1Gpulling manifest \u001b[K\n",
      "pulling aabd4debf0c8...  25% ▕███             ▏ 278 MB/1.1 GB  5.5 MB/s   2m32s\u001b[K\u001b[?25h\u001b[?2026l\u001b[?2026h\u001b[?25l\u001b[A\u001b[1Gpulling manifest \u001b[K\n",
      "pulling aabd4debf0c8...  25% ▕███             ▏ 278 MB/1.1 GB  5.5 MB/s   2m32s\u001b[K\u001b[?25h\u001b[?2026l\u001b[?2026h\u001b[?25l\u001b[A\u001b[1Gpulling manifest \u001b[K\n",
      "pulling aabd4debf0c8...  25% ▕███             ▏ 279 MB/1.1 GB  5.5 MB/s   2m32s\u001b[K\u001b[?25h\u001b[?2026l\u001b[?2026h\u001b[?25l\u001b[A\u001b[1Gpulling manifest \u001b[K\n",
      "pulling aabd4debf0c8...  25% ▕████            ▏ 279 MB/1.1 GB  5.5 MB/s   2m32s\u001b[K\u001b[?25h\u001b[?2026l\u001b[?2026h\u001b[?25l\u001b[A\u001b[1Gpulling manifest \u001b[K\n",
      "pulling aabd4debf0c8...  25% ▕████            ▏ 280 MB/1.1 GB  5.5 MB/s   2m32s\u001b[K\u001b[?25h\u001b[?2026l\u001b[?2026h\u001b[?25l\u001b[A\u001b[1Gpulling manifest \u001b[K\n",
      "pulling aabd4debf0c8...  25% ▕████            ▏ 280 MB/1.1 GB  5.5 MB/s   2m32s\u001b[K\u001b[?25h\u001b[?2026l\u001b[?2026h\u001b[?25l\u001b[A\u001b[1Gpulling manifest \u001b[K\n",
      "pulling aabd4debf0c8...  25% ▕████            ▏ 281 MB/1.1 GB  5.5 MB/s   2m32s\u001b[K\u001b[?25h\u001b[?2026l\u001b[?2026h\u001b[?25l\u001b[A\u001b[1Gpulling manifest \u001b[K\n",
      "pulling aabd4debf0c8...  25% ▕████            ▏ 281 MB/1.1 GB  5.5 MB/s   2m32s\u001b[K\u001b[?25h\u001b[?2026l\u001b[?2026h\u001b[?25l\u001b[A\u001b[1Gpulling manifest \u001b[K\n",
      "pulling aabd4debf0c8...  25% ▕████            ▏ 282 MB/1.1 GB  5.5 MB/s   2m31s\u001b[K\u001b[?25h\u001b[?2026l\u001b[?2026h\u001b[?25l\u001b[A\u001b[1Gpulling manifest \u001b[K\n",
      "pulling aabd4debf0c8...  25% ▕████            ▏ 283 MB/1.1 GB  5.6 MB/s   2m29s\u001b[K\u001b[?25h\u001b[?2026l\u001b[?2026h\u001b[?25l\u001b[A\u001b[1Gpulling manifest \u001b[K\n",
      "pulling aabd4debf0c8...  25% ▕████            ▏ 283 MB/1.1 GB  5.6 MB/s   2m29s\u001b[K\u001b[?25h\u001b[?2026l\u001b[?2026h\u001b[?25l\u001b[A\u001b[1Gpulling manifest \u001b[K\n",
      "pulling aabd4debf0c8...  25% ▕████            ▏ 284 MB/1.1 GB  5.6 MB/s   2m29s\u001b[K\u001b[?25h\u001b[?2026l\u001b[?2026h\u001b[?25l\u001b[A\u001b[1Gpulling manifest \u001b[K\n",
      "pulling aabd4debf0c8...  25% ▕████            ▏ 284 MB/1.1 GB  5.6 MB/s   2m29s\u001b[K\u001b[?25h\u001b[?2026l\u001b[?2026h\u001b[?25l\u001b[A\u001b[1Gpulling manifest \u001b[K\n",
      "pulling aabd4debf0c8...  26% ▕████            ▏ 285 MB/1.1 GB  5.6 MB/s   2m29s\u001b[K\u001b[?25h\u001b[?2026l\u001b[?2026h\u001b[?25l\u001b[A\u001b[1Gpulling manifest \u001b[K\n",
      "pulling aabd4debf0c8...  26% ▕████            ▏ 286 MB/1.1 GB  5.6 MB/s   2m29s\u001b[K\u001b[?25h\u001b[?2026l\u001b[?2026h\u001b[?25l\u001b[A\u001b[1Gpulling manifest \u001b[K\n",
      "pulling aabd4debf0c8...  26% ▕████            ▏ 286 MB/1.1 GB  5.6 MB/s   2m29s\u001b[K\u001b[?25h\u001b[?2026l\u001b[?2026h\u001b[?25l\u001b[A\u001b[1Gpulling manifest \u001b[K\n",
      "pulling aabd4debf0c8...  26% ▕████            ▏ 287 MB/1.1 GB  5.6 MB/s   2m29s\u001b[K\u001b[?25h\u001b[?2026l\u001b[?2026h\u001b[?25l\u001b[A\u001b[1Gpulling manifest \u001b[K\n",
      "pulling aabd4debf0c8...  26% ▕████            ▏ 287 MB/1.1 GB  5.6 MB/s   2m29s\u001b[K\u001b[?25h\u001b[?2026l\u001b[?2026h\u001b[?25l\u001b[A\u001b[1Gpulling manifest \u001b[K\n",
      "pulling aabd4debf0c8...  26% ▕████            ▏ 288 MB/1.1 GB  5.6 MB/s   2m29s\u001b[K\u001b[?25h\u001b[?2026l\u001b[?2026h\u001b[?25l\u001b[A\u001b[1Gpulling manifest \u001b[K\n",
      "pulling aabd4debf0c8...  26% ▕████            ▏ 288 MB/1.1 GB  5.6 MB/s   2m27s\u001b[K\u001b[?25h\u001b[?2026l\u001b[?2026h\u001b[?25l\u001b[A\u001b[1Gpulling manifest \u001b[K\n",
      "pulling aabd4debf0c8...  26% ▕████            ▏ 289 MB/1.1 GB  5.6 MB/s   2m26s\u001b[K\u001b[?25h\u001b[?2026l\u001b[?2026h\u001b[?25l\u001b[A\u001b[1Gpulling manifest \u001b[K\n",
      "pulling aabd4debf0c8...  26% ▕████            ▏ 290 MB/1.1 GB  5.6 MB/s   2m26s\u001b[K\u001b[?25h\u001b[?2026l\u001b[?2026h\u001b[?25l\u001b[A\u001b[1Gpulling manifest \u001b[K\n",
      "pulling aabd4debf0c8...  26% ▕████            ▏ 290 MB/1.1 GB  5.6 MB/s   2m26s\u001b[K\u001b[?25h\u001b[?2026l\u001b[?2026h\u001b[?25l\u001b[A\u001b[1Gpulling manifest \u001b[K\n",
      "pulling aabd4debf0c8...  26% ▕████            ▏ 291 MB/1.1 GB  5.6 MB/s   2m26s\u001b[K\u001b[?25h\u001b[?2026l\u001b[?2026h\u001b[?25l\u001b[A\u001b[1Gpulling manifest \u001b[K\n",
      "pulling aabd4debf0c8...  26% ▕████            ▏ 292 MB/1.1 GB  5.6 MB/s   2m26s\u001b[K\u001b[?25h\u001b[?2026l\u001b[?2026h\u001b[?25l\u001b[A\u001b[1Gpulling manifest \u001b[K\n",
      "pulling aabd4debf0c8...  26% ▕████            ▏ 292 MB/1.1 GB  5.6 MB/s   2m26s\u001b[K\u001b[?25h\u001b[?2026l\u001b[?2026h\u001b[?25l\u001b[A\u001b[1Gpulling manifest \u001b[K\n",
      "pulling aabd4debf0c8...  26% ▕████            ▏ 293 MB/1.1 GB  5.6 MB/s   2m26s\u001b[K\u001b[?25h\u001b[?2026l\u001b[?2026h\u001b[?25l\u001b[A\u001b[1Gpulling manifest \u001b[K\n",
      "pulling aabd4debf0c8...  26% ▕████            ▏ 294 MB/1.1 GB  5.6 MB/s   2m26s\u001b[K\u001b[?25h\u001b[?2026l\u001b[?2026h\u001b[?25l\u001b[A\u001b[1Gpulling manifest \u001b[K\n",
      "pulling aabd4debf0c8...  26% ▕████            ▏ 294 MB/1.1 GB  5.6 MB/s   2m26s\u001b[K\u001b[?25h\u001b[?2026l\u001b[?2026h\u001b[?25l\u001b[A\u001b[1Gpulling manifest \u001b[K\n",
      "pulling aabd4debf0c8...  26% ▕████            ▏ 295 MB/1.1 GB  5.7 MB/s   2m24s\u001b[K\u001b[?25h\u001b[?2026l\u001b[?2026h\u001b[?25l\u001b[A\u001b[1Gpulling manifest \u001b[K\n",
      "pulling aabd4debf0c8...  26% ▕████            ▏ 296 MB/1.1 GB  5.7 MB/s   2m24s\u001b[K\u001b[?25h\u001b[?2026l\u001b[?2026h\u001b[?25l\u001b[A\u001b[1Gpulling manifest \u001b[K\n",
      "pulling aabd4debf0c8...  27% ▕████            ▏ 296 MB/1.1 GB  5.7 MB/s   2m24s\u001b[K\u001b[?25h\u001b[?2026l\u001b[?2026h\u001b[?25l\u001b[A\u001b[1Gpulling manifest \u001b[K\n",
      "pulling aabd4debf0c8...  27% ▕████            ▏ 296 MB/1.1 GB  5.7 MB/s   2m24s\u001b[K\u001b[?25h\u001b[?2026l\u001b[?2026h\u001b[?25l\u001b[A\u001b[1Gpulling manifest \u001b[K\n",
      "pulling aabd4debf0c8...  27% ▕████            ▏ 297 MB/1.1 GB  5.7 MB/s   2m23s\u001b[K\u001b[?25h\u001b[?2026l\u001b[?2026h\u001b[?25l\u001b[A\u001b[1Gpulling manifest \u001b[K\n",
      "pulling aabd4debf0c8...  27% ▕████            ▏ 298 MB/1.1 GB  5.7 MB/s   2m23s\u001b[K\u001b[?25h\u001b[?2026l\u001b[?2026h\u001b[?25l\u001b[A\u001b[1Gpulling manifest \u001b[K\n",
      "pulling aabd4debf0c8...  27% ▕████            ▏ 298 MB/1.1 GB  5.7 MB/s   2m23s\u001b[K\u001b[?25h\u001b[?2026l\u001b[?2026h\u001b[?25l\u001b[A\u001b[1Gpulling manifest \u001b[K\n",
      "pulling aabd4debf0c8...  27% ▕████            ▏ 299 MB/1.1 GB  5.7 MB/s   2m23s\u001b[K\u001b[?25h\u001b[?2026l\u001b[?2026h\u001b[?25l\u001b[A\u001b[1Gpulling manifest \u001b[K\n",
      "pulling aabd4debf0c8...  27% ▕████            ▏ 300 MB/1.1 GB  5.7 MB/s   2m23s\u001b[K\u001b[?25h\u001b[?2026l\u001b[?2026h\u001b[?25l\u001b[A\u001b[1Gpulling manifest \u001b[K\n",
      "pulling aabd4debf0c8...  27% ▕████            ▏ 301 MB/1.1 GB  5.7 MB/s   2m23s\u001b[K\u001b[?25h\u001b[?2026l\u001b[?2026h\u001b[?25l\u001b[A\u001b[1Gpulling manifest \u001b[K\n",
      "pulling aabd4debf0c8...  27% ▕████            ▏ 301 MB/1.1 GB  5.8 MB/s   2m19s\u001b[K\u001b[?25h\u001b[?2026l\u001b[?2026h\u001b[?25l\u001b[A\u001b[1Gpulling manifest \u001b[K\n",
      "pulling aabd4debf0c8...  27% ▕████            ▏ 302 MB/1.1 GB  5.8 MB/s   2m19s\u001b[K\u001b[?25h\u001b[?2026l\u001b[?2026h\u001b[?25l\u001b[A\u001b[1Gpulling manifest \u001b[K\n",
      "pulling aabd4debf0c8...  27% ▕████            ▏ 302 MB/1.1 GB  5.8 MB/s   2m19s\u001b[K\u001b[?25h\u001b[?2026l\u001b[?2026h\u001b[?25l\u001b[A\u001b[1Gpulling manifest \u001b[K\n",
      "pulling aabd4debf0c8...  27% ▕████            ▏ 303 MB/1.1 GB  5.8 MB/s   2m19s\u001b[K\u001b[?25h\u001b[?2026l\u001b[?2026h\u001b[?25l\u001b[A\u001b[1Gpulling manifest \u001b[K\n",
      "pulling aabd4debf0c8...  27% ▕████            ▏ 304 MB/1.1 GB  5.8 MB/s   2m19s\u001b[K\u001b[?25h\u001b[?2026l\u001b[?2026h\u001b[?25l\u001b[A\u001b[1Gpulling manifest \u001b[K\n",
      "pulling aabd4debf0c8...  27% ▕████            ▏ 304 MB/1.1 GB  5.8 MB/s   2m18s\u001b[K\u001b[?25h\u001b[?2026l\u001b[?2026h\u001b[?25l\u001b[A\u001b[1Gpulling manifest \u001b[K\n",
      "pulling aabd4debf0c8...  27% ▕████            ▏ 305 MB/1.1 GB  5.8 MB/s   2m18s\u001b[K\u001b[?25h\u001b[?2026l\u001b[?2026h\u001b[?25l\u001b[A\u001b[1Gpulling manifest \u001b[K\n",
      "pulling aabd4debf0c8...  27% ▕████            ▏ 306 MB/1.1 GB  5.8 MB/s   2m18s\u001b[K\u001b[?25h\u001b[?2026l\u001b[?2026h\u001b[?25l\u001b[A\u001b[1Gpulling manifest \u001b[K\n",
      "pulling aabd4debf0c8...  27% ▕████            ▏ 306 MB/1.1 GB  5.8 MB/s   2m18s\u001b[K\u001b[?25h\u001b[?2026l\u001b[?2026h\u001b[?25l\u001b[A\u001b[1Gpulling manifest \u001b[K\n",
      "pulling aabd4debf0c8...  27% ▕████            ▏ 306 MB/1.1 GB  5.8 MB/s   2m18s\u001b[K\u001b[?25h\u001b[?2026l\u001b[?2026h\u001b[?25l\u001b[A\u001b[1Gpulling manifest \u001b[K\n",
      "pulling aabd4debf0c8...  28% ▕████            ▏ 307 MB/1.1 GB  5.8 MB/s   2m18s\u001b[K\u001b[?25h\u001b[?2026l\u001b[?2026h\u001b[?25l\u001b[A\u001b[1Gpulling manifest \u001b[K\n",
      "pulling aabd4debf0c8...  28% ▕████            ▏ 308 MB/1.1 GB  6.0 MB/s   2m15s\u001b[K\u001b[?25h\u001b[?2026l\u001b[?2026h\u001b[?25l\u001b[A\u001b[1Gpulling manifest \u001b[K\n",
      "pulling aabd4debf0c8...  28% ▕████            ▏ 308 MB/1.1 GB  6.0 MB/s   2m15s\u001b[K\u001b[?25h\u001b[?2026l\u001b[?2026h\u001b[?25l\u001b[A\u001b[1Gpulling manifest \u001b[K\n",
      "pulling aabd4debf0c8...  28% ▕████            ▏ 309 MB/1.1 GB  6.0 MB/s   2m15s\u001b[K\u001b[?25h\u001b[?2026l\u001b[?2026h\u001b[?25l\u001b[A\u001b[1Gpulling manifest \u001b[K\n",
      "pulling aabd4debf0c8...  28% ▕████            ▏ 309 MB/1.1 GB  6.0 MB/s   2m14s\u001b[K\u001b[?25h\u001b[?2026l\u001b[?2026h\u001b[?25l\u001b[A\u001b[1Gpulling manifest \u001b[K\n",
      "pulling aabd4debf0c8...  28% ▕████            ▏ 309 MB/1.1 GB  6.0 MB/s   2m14s\u001b[K\u001b[?25h\u001b[?2026l\u001b[?2026h\u001b[?25l\u001b[A\u001b[1Gpulling manifest \u001b[K\n",
      "pulling aabd4debf0c8...  28% ▕████            ▏ 310 MB/1.1 GB  6.0 MB/s   2m14s\u001b[K\u001b[?25h\u001b[?2026l\u001b[?2026h\u001b[?25l\u001b[A\u001b[1Gpulling manifest \u001b[K\n",
      "pulling aabd4debf0c8...  28% ▕████            ▏ 311 MB/1.1 GB  6.0 MB/s   2m14s\u001b[K\u001b[?25h\u001b[?2026l\u001b[?2026h\u001b[?25l\u001b[A\u001b[1Gpulling manifest \u001b[K\n",
      "pulling aabd4debf0c8...  28% ▕████            ▏ 311 MB/1.1 GB  6.0 MB/s   2m14s\u001b[K\u001b[?25h\u001b[?2026l\u001b[?2026h\u001b[?25l\u001b[A\u001b[1Gpulling manifest \u001b[K\n",
      "pulling aabd4debf0c8...  28% ▕████            ▏ 312 MB/1.1 GB  6.0 MB/s   2m14s\u001b[K\u001b[?25h\u001b[?2026l\u001b[?2026h\u001b[?25l\u001b[A\u001b[1Gpulling manifest \u001b[K\n",
      "pulling aabd4debf0c8...  28% ▕████            ▏ 312 MB/1.1 GB  6.0 MB/s   2m14s\u001b[K\u001b[?25h\u001b[?2026l\u001b[?2026h\u001b[?25l\u001b[A\u001b[1Gpulling manifest \u001b[K\n",
      "pulling aabd4debf0c8...  28% ▕████            ▏ 313 MB/1.1 GB  6.0 MB/s   2m14s\u001b[K\u001b[?25h\u001b[?2026l\u001b[?2026h\u001b[?25l\u001b[A\u001b[1Gpulling manifest \u001b[K\n",
      "pulling aabd4debf0c8...  28% ▕████            ▏ 313 MB/1.1 GB  6.0 MB/s   2m14s\u001b[K\u001b[?25h\u001b[?2026l\u001b[?2026h\u001b[?25l\u001b[A\u001b[1Gpulling manifest \u001b[K\n",
      "pulling aabd4debf0c8...  28% ▕████            ▏ 314 MB/1.1 GB  6.0 MB/s   2m14s\u001b[K\u001b[?25h\u001b[?2026l\u001b[?2026h\u001b[?25l\u001b[A\u001b[1Gpulling manifest \u001b[K\n",
      "pulling aabd4debf0c8...  28% ▕████            ▏ 315 MB/1.1 GB  6.0 MB/s   2m14s\u001b[K\u001b[?25h\u001b[?2026l\u001b[?2026h\u001b[?25l\u001b[A\u001b[1Gpulling manifest \u001b[K\n",
      "pulling aabd4debf0c8...  28% ▕████            ▏ 315 MB/1.1 GB  6.0 MB/s   2m14s\u001b[K\u001b[?25h\u001b[?2026l\u001b[?2026h\u001b[?25l\u001b[A\u001b[1Gpulling manifest \u001b[K\n",
      "pulling aabd4debf0c8...  28% ▕████            ▏ 316 MB/1.1 GB  6.0 MB/s   2m14s\u001b[K\u001b[?25h\u001b[?2026l\u001b[?2026h\u001b[?25l\u001b[A\u001b[1Gpulling manifest \u001b[K\n",
      "pulling aabd4debf0c8...  28% ▕████            ▏ 316 MB/1.1 GB  6.0 MB/s   2m14s\u001b[K\u001b[?25h\u001b[?2026l\u001b[?2026h\u001b[?25l\u001b[A\u001b[1Gpulling manifest \u001b[K\n",
      "pulling aabd4debf0c8...  28% ▕████            ▏ 317 MB/1.1 GB  6.0 MB/s   2m14s\u001b[K\u001b[?25h\u001b[?2026l\u001b[?2026h\u001b[?25l\u001b[A\u001b[1Gpulling manifest \u001b[K\n",
      "pulling aabd4debf0c8...  28% ▕████            ▏ 317 MB/1.1 GB  6.0 MB/s   2m14s\u001b[K\u001b[?25h\u001b[?2026l\u001b[?2026h\u001b[?25l\u001b[A\u001b[1Gpulling manifest \u001b[K\n",
      "pulling aabd4debf0c8...  28% ▕████            ▏ 318 MB/1.1 GB  6.0 MB/s   2m14s\u001b[K\u001b[?25h\u001b[?2026l\u001b[?2026h\u001b[?25l\u001b[A\u001b[1Gpulling manifest \u001b[K\n",
      "pulling aabd4debf0c8...  29% ▕████            ▏ 318 MB/1.1 GB  5.9 MB/s   2m16s\u001b[K\u001b[?25h\u001b[?2026l\u001b[?2026h\u001b[?25l\u001b[A\u001b[1Gpulling manifest \u001b[K\n",
      "pulling aabd4debf0c8...  29% ▕████            ▏ 319 MB/1.1 GB  5.9 MB/s   2m16s\u001b[K\u001b[?25h\u001b[?2026l\u001b[?2026h\u001b[?25l\u001b[A\u001b[1Gpulling manifest \u001b[K\n",
      "pulling aabd4debf0c8...  29% ▕████            ▏ 320 MB/1.1 GB  5.9 MB/s   2m16s\u001b[K\u001b[?25h\u001b[?2026l\u001b[?2026h\u001b[?25l\u001b[A\u001b[1Gpulling manifest \u001b[K\n",
      "pulling aabd4debf0c8...  29% ▕████            ▏ 320 MB/1.1 GB  5.9 MB/s   2m16s\u001b[K\u001b[?25h\u001b[?2026l\u001b[?2026h\u001b[?25l\u001b[A\u001b[1Gpulling manifest \u001b[K\n",
      "pulling aabd4debf0c8...  29% ▕████            ▏ 321 MB/1.1 GB  5.9 MB/s   2m15s\u001b[K\u001b[?25h\u001b[?2026l\u001b[?2026h\u001b[?25l\u001b[A\u001b[1Gpulling manifest \u001b[K\n",
      "pulling aabd4debf0c8...  29% ▕████            ▏ 321 MB/1.1 GB  5.9 MB/s   2m15s\u001b[K\u001b[?25h\u001b[?2026l\u001b[?2026h\u001b[?25l\u001b[A\u001b[1Gpulling manifest \u001b[K\n",
      "pulling aabd4debf0c8...  29% ▕████            ▏ 321 MB/1.1 GB  5.9 MB/s   2m15s\u001b[K\u001b[?25h\u001b[?2026l\u001b[?2026h\u001b[?25l\u001b[A\u001b[1Gpulling manifest \u001b[K\n",
      "pulling aabd4debf0c8...  29% ▕████            ▏ 322 MB/1.1 GB  5.9 MB/s   2m15s\u001b[K\u001b[?25h\u001b[?2026l\u001b[?2026h\u001b[?25l\u001b[A\u001b[1Gpulling manifest \u001b[K\n",
      "pulling aabd4debf0c8...  29% ▕████            ▏ 322 MB/1.1 GB  5.9 MB/s   2m15s\u001b[K\u001b[?25h\u001b[?2026l\u001b[?2026h\u001b[?25l\u001b[A\u001b[1Gpulling manifest \u001b[K\n",
      "pulling aabd4debf0c8...  29% ▕████            ▏ 323 MB/1.1 GB  5.9 MB/s   2m15s\u001b[K\u001b[?25h\u001b[?2026l\u001b[?2026h\u001b[?25l\u001b[A\u001b[1Gpulling manifest \u001b[K\n",
      "pulling aabd4debf0c8...  29% ▕████            ▏ 323 MB/1.1 GB  5.9 MB/s   2m14s\u001b[K\u001b[?25h\u001b[?2026l\u001b[?2026h\u001b[?25l\u001b[A\u001b[1Gpulling manifest \u001b[K\n",
      "pulling aabd4debf0c8...  29% ▕████            ▏ 324 MB/1.1 GB  5.9 MB/s   2m14s\u001b[K\u001b[?25h\u001b[?2026l\u001b[?2026h\u001b[?25l\u001b[A\u001b[1Gpulling manifest \u001b[K\n",
      "pulling aabd4debf0c8...  29% ▕████            ▏ 324 MB/1.1 GB  5.9 MB/s   2m14s\u001b[K\u001b[?25h\u001b[?2026l\u001b[?2026h\u001b[?25l\u001b[A\u001b[1Gpulling manifest \u001b[K\n",
      "pulling aabd4debf0c8...  29% ▕████            ▏ 325 MB/1.1 GB  5.9 MB/s   2m13s\u001b[K\u001b[?25h\u001b[?2026l\u001b[?2026h\u001b[?25l\u001b[A\u001b[1Gpulling manifest \u001b[K\n",
      "pulling aabd4debf0c8...  29% ▕████            ▏ 325 MB/1.1 GB  5.9 MB/s   2m13s\u001b[K\u001b[?25h\u001b[?2026l\u001b[?2026h\u001b[?25l\u001b[A\u001b[1Gpulling manifest \u001b[K\n",
      "pulling aabd4debf0c8...  29% ▕████            ▏ 326 MB/1.1 GB  5.9 MB/s   2m13s\u001b[K\u001b[?25h\u001b[?2026l\u001b[?2026h\u001b[?25l\u001b[A\u001b[1Gpulling manifest \u001b[K\n",
      "pulling aabd4debf0c8...  29% ▕████            ▏ 326 MB/1.1 GB  5.9 MB/s   2m13s\u001b[K\u001b[?25h\u001b[?2026l\u001b[?2026h\u001b[?25l\u001b[A\u001b[1Gpulling manifest \u001b[K\n",
      "pulling aabd4debf0c8...  29% ▕████            ▏ 327 MB/1.1 GB  5.9 MB/s   2m13s\u001b[K\u001b[?25h\u001b[?2026l\u001b[?2026h\u001b[?25l\u001b[A\u001b[1Gpulling manifest \u001b[K\n",
      "pulling aabd4debf0c8...  29% ▕████            ▏ 327 MB/1.1 GB  5.9 MB/s   2m13s\u001b[K\u001b[?25h\u001b[?2026l\u001b[?2026h\u001b[?25l\u001b[A\u001b[1Gpulling manifest \u001b[K\n",
      "pulling aabd4debf0c8...  29% ▕████            ▏ 327 MB/1.1 GB  5.9 MB/s   2m13s\u001b[K\u001b[?25h\u001b[?2026l\u001b[?2026h\u001b[?25l\u001b[A\u001b[1Gpulling manifest \u001b[K\n",
      "pulling aabd4debf0c8...  29% ▕████            ▏ 328 MB/1.1 GB  5.7 MB/s   2m17s\u001b[K\u001b[?25h\u001b[?2026l\u001b[?2026h\u001b[?25l\u001b[A\u001b[1Gpulling manifest \u001b[K\n",
      "pulling aabd4debf0c8...  29% ▕████            ▏ 328 MB/1.1 GB  5.7 MB/s   2m17s\u001b[K\u001b[?25h\u001b[?2026l\u001b[?2026h\u001b[?25l\u001b[A\u001b[1Gpulling manifest \u001b[K\n",
      "pulling aabd4debf0c8...  29% ▕████            ▏ 329 MB/1.1 GB  5.7 MB/s   2m17s\u001b[K\u001b[?25h\u001b[?2026l\u001b[?2026h\u001b[?25l\u001b[A\u001b[1Gpulling manifest \u001b[K\n",
      "pulling aabd4debf0c8...  30% ▕████            ▏ 329 MB/1.1 GB  5.7 MB/s   2m17s\u001b[K\u001b[?25h\u001b[?2026l\u001b[?2026h\u001b[?25l\u001b[A\u001b[1Gpulling manifest \u001b[K\n",
      "pulling aabd4debf0c8...  30% ▕████            ▏ 330 MB/1.1 GB  5.7 MB/s   2m17s\u001b[K\u001b[?25h\u001b[?2026l\u001b[?2026h\u001b[?25l\u001b[A\u001b[1Gpulling manifest \u001b[K\n",
      "pulling aabd4debf0c8...  30% ▕████            ▏ 331 MB/1.1 GB  5.7 MB/s   2m17s\u001b[K\u001b[?25h\u001b[?2026l\u001b[?2026h\u001b[?25l\u001b[A\u001b[1Gpulling manifest \u001b[K\n",
      "pulling aabd4debf0c8...  30% ▕████            ▏ 331 MB/1.1 GB  5.7 MB/s   2m17s\u001b[K\u001b[?25h\u001b[?2026l\u001b[?2026h\u001b[?25l\u001b[A\u001b[1Gpulling manifest \u001b[K\n",
      "pulling aabd4debf0c8...  30% ▕████            ▏ 332 MB/1.1 GB  5.7 MB/s   2m17s\u001b[K\u001b[?25h\u001b[?2026l\u001b[?2026h\u001b[?25l\u001b[A\u001b[1Gpulling manifest \u001b[K\n",
      "pulling aabd4debf0c8...  30% ▕████            ▏ 332 MB/1.1 GB  5.7 MB/s   2m16s\u001b[K\u001b[?25h\u001b[?2026l\u001b[?2026h\u001b[?25l\u001b[A\u001b[1Gpulling manifest \u001b[K\n",
      "pulling aabd4debf0c8...  30% ▕████            ▏ 333 MB/1.1 GB  5.7 MB/s   2m16s\u001b[K\u001b[?25h\u001b[?2026l\u001b[?2026h\u001b[?25l\u001b[A\u001b[1Gpulling manifest \u001b[K\n",
      "pulling aabd4debf0c8...  30% ▕████            ▏ 333 MB/1.1 GB  5.7 MB/s   2m16s\u001b[K\u001b[?25h\u001b[?2026l\u001b[?2026h\u001b[?25l\u001b[A\u001b[1Gpulling manifest \u001b[K\n",
      "pulling aabd4debf0c8...  30% ▕████            ▏ 334 MB/1.1 GB  5.7 MB/s   2m17s\u001b[K\u001b[?25h\u001b[?2026l\u001b[?2026h\u001b[?25l\u001b[A\u001b[1Gpulling manifest \u001b[K\n",
      "pulling aabd4debf0c8...  30% ▕████            ▏ 335 MB/1.1 GB  5.7 MB/s   2m17s\u001b[K\u001b[?25h\u001b[?2026l\u001b[?2026h\u001b[?25l\u001b[A\u001b[1Gpulling manifest \u001b[K\n",
      "pulling aabd4debf0c8...  30% ▕████            ▏ 335 MB/1.1 GB  5.7 MB/s   2m17s\u001b[K\u001b[?25h\u001b[?2026l\u001b[?2026h\u001b[?25l\u001b[A\u001b[1Gpulling manifest \u001b[K\n",
      "pulling aabd4debf0c8...  30% ▕████            ▏ 336 MB/1.1 GB  5.7 MB/s   2m17s\u001b[K\u001b[?25h\u001b[?2026l\u001b[?2026h\u001b[?25l\u001b[A\u001b[1Gpulling manifest \u001b[K\n",
      "pulling aabd4debf0c8...  30% ▕████            ▏ 336 MB/1.1 GB  5.7 MB/s   2m17s\u001b[K\u001b[?25h\u001b[?2026l\u001b[?2026h\u001b[?25l\u001b[A\u001b[1Gpulling manifest \u001b[K\n",
      "pulling aabd4debf0c8...  30% ▕████            ▏ 336 MB/1.1 GB  5.7 MB/s   2m17s\u001b[K\u001b[?25h\u001b[?2026l\u001b[?2026h\u001b[?25l\u001b[A\u001b[1Gpulling manifest \u001b[K\n",
      "pulling aabd4debf0c8...  30% ▕████            ▏ 337 MB/1.1 GB  5.7 MB/s   2m17s\u001b[K\u001b[?25h\u001b[?2026l\u001b[?2026h\u001b[?25l\u001b[A\u001b[1Gpulling manifest \u001b[K\n",
      "pulling aabd4debf0c8...  30% ▕████            ▏ 337 MB/1.1 GB  5.7 MB/s   2m17s\u001b[K\u001b[?25h\u001b[?2026l\u001b[?2026h\u001b[?25l\u001b[A\u001b[1Gpulling manifest \u001b[K\n",
      "pulling aabd4debf0c8...  30% ▕████            ▏ 337 MB/1.1 GB  5.7 MB/s   2m17s\u001b[K\u001b[?25h\u001b[?2026l\u001b[?2026h\u001b[?25l\u001b[A\u001b[1Gpulling manifest \u001b[K\n",
      "pulling aabd4debf0c8...  30% ▕████            ▏ 337 MB/1.1 GB  5.7 MB/s   2m17s\u001b[K\u001b[?25h\u001b[?2026l\u001b[?2026h\u001b[?25l\u001b[A\u001b[1Gpulling manifest \u001b[K\n",
      "pulling aabd4debf0c8...  30% ▕████            ▏ 337 MB/1.1 GB  5.5 MB/s   2m22s\u001b[K\u001b[?25h\u001b[?2026l\u001b[?2026h\u001b[?25l\u001b[A\u001b[1Gpulling manifest \u001b[K\n",
      "pulling aabd4debf0c8...  30% ▕████            ▏ 338 MB/1.1 GB  5.5 MB/s   2m22s\u001b[K\u001b[?25h\u001b[?2026l\u001b[?2026h\u001b[?25l\u001b[A\u001b[1Gpulling manifest \u001b[K\n",
      "pulling aabd4debf0c8...  30% ▕████            ▏ 338 MB/1.1 GB  5.5 MB/s   2m22s\u001b[K\u001b[?25h\u001b[?2026l"
     ]
    }
   ],
   "source": [
    "# !ollama pull deepseek-r1:1.5b"
   ]
  },
  {
   "cell_type": "code",
   "execution_count": 13,
   "id": "4760cff2-7074-441f-89c4-03c3b6db48dc",
   "metadata": {
    "execution": {
     "iopub.execute_input": "2025-04-26T01:05:02.553193Z",
     "iopub.status.busy": "2025-04-26T01:05:02.552607Z",
     "iopub.status.idle": "2025-04-26T01:05:02.556315Z",
     "shell.execute_reply": "2025-04-26T01:05:02.555717Z",
     "shell.execute_reply.started": "2025-04-26T01:05:02.553171Z"
    }
   },
   "outputs": [
    {
     "name": "stdout",
     "output_type": "stream",
     "text": [
      "Done\n"
     ]
    }
   ],
   "source": [
    "print('Done')"
   ]
  },
  {
   "cell_type": "code",
   "execution_count": 14,
   "id": "1d3d554b-e00d-4c08-9300-45e073950a76",
   "metadata": {
    "execution": {
     "iopub.execute_input": "2025-04-26T01:05:04.122105Z",
     "iopub.status.busy": "2025-04-26T01:05:04.121868Z",
     "iopub.status.idle": "2025-04-26T01:05:12.862430Z",
     "shell.execute_reply": "2025-04-26T01:05:12.861834Z",
     "shell.execute_reply.started": "2025-04-26T01:05:04.122090Z"
    }
   },
   "outputs": [
    {
     "data": {
      "text/markdown": [
       "<think>\n",
       "Okay, so I need to define a few core concepts behind Large Language Models (LLMs) that include neural networks, attention, and Transformers. Hmm, where should I start? I know that LLMs are these big models designed to understand and generate human language well. They might not be built just by humans but maybe some advanced AI techniques.\n",
       "\n",
       "Let's take the first one: neural networks. From what I remember, a neural network consists of layers of interconnected nodes or neurons. These don't work with weighted input like typical algebra problems do; instead, they use weights and other parameters to make decisions. They can process sequences by connecting these nodes in series, which is how they deal with language.\n",
       "\n",
       "But wait, an LLM adds more complexity, right? It uses attention mechanisms, maybe the Transformer model. So without going too deep into that, just neural networks—how do LLMs use them? I think each part of the LLM might be composed of multiple neural networks or perhaps a single one working in different ways. Like how convolutional neural networks handle visual patterns while RNNs are for sequences.\n",
       "\n",
       "Now, attention mechanisms... I've heard about this before. It's when the model pays more attention to certain parts of the input. That sounds like it could be smart because maybe some words in the text are just not relevant or context isn't right, so it can focus on the important bits instead of processing everything. But how does that integrate with neural networks? Maybe the neural network in each part (like decoder or decoder- attention) computes which parts are most important when they make a prediction.\n",
       "\n",
       "Then there's the Transformer model. How is that different from traditional RNNs or CNNs? Transformers have been revolutionary. They use multi-head attention, which allows models to process all positions at once by simultaneously considering multiple representations of each token. Instead of relying on sequential dependencies like RNNs do, which can get stuck in loops, Transformers are more parallelizable. This must be why they can handle long sequences better and scale for many devices.\n",
       "\n",
       "So, putting it all together: LLMs are built using neural networks—maybe a single or multiple—and the Transformer architecture with multi-head attention makes them really flexible. The attention mechanisms allow models to focus on relevant parts of the input when generating output, and Transformers make handling text more efficient and powerful by processing in parallel.\n",
       "\n",
       "Wait, but I'm not entirely sure about all the details. Maybe there are other layers like self-attention within the Transformer? Or is it just positional encoding together with that multi-head attention? Also, how does this combine into something so effective for languages on a large scale and diverse domains? Because LLMs can span multiple languages through cross-attention or something.\n",
       "\n",
       "Hmm, I think I might have a rough idea now. The core concepts involve using neural networks for learning patterns in data within the model architecture (like being parallelizable in Transformers) and having attention mechanisms to smartly focus on relevant parts of the input without relying solely on sequence dependencies.\n",
       "</think>\n",
       "\n",
       "The development behind Large Language Models (LLMs), which combine neural networks with advanced architectures, involves several key concepts:\n",
       "\n",
       "1. **Neural Networks**: These are composed of layers of interconnected nodes or neurons, designed to process sequential data by connecting these nodes in series. Each node processes information using weighted inputs and parameters to make decisions.\n",
       "\n",
       "2. **LLMs as Neural Networks**: While pure LLMs may not be built solely by humans, they incorporate advanced neural network designs. These models can leverage multiple neural networks or a single architecture optimized for sequence processing.\n",
       "\n",
       "3. **Attention Mechanisms**: This concept involves the model paying attention to specific parts of input data. Attention mechanisms enable the model to focus on relevant portions during processing, enhancing output generation without solely relying on sequential dependencies.\n",
       "\n",
       "4. **Transformer Model**: An advanced architecture with multi-head attention allows models to process all positions simultaneously while considering multiple representations at each token. This avoids potential loops and sequence issues present in traditional RNNs or CNNs, offering improved efficiency and scalability.\n",
       "\n",
       "5. **Concurrency in Transformers**: The Transformer model's effectiveness stems from its parallelizable nature when processing sequences through self-attention mechanisms within multi-head attention, making it well-suited for large-scale tasks and diverse domains.\n",
       "\n",
       "In summary, LLMs use neural networks to learn patterns efficiently and Transformer architecture with multi-head attention to focus on relevant parts of text, enabling powerful and flexible language modeling across various domains."
      ],
      "text/plain": [
       "<IPython.core.display.Markdown object>"
      ]
     },
     "metadata": {},
     "output_type": "display_data"
    }
   ],
   "source": [
    "# This may take a few minutes to run! You should then see a fascinating \"thinking\" trace inside <think> tags, followed by some decent definitions\n",
    "\n",
    "response = ollama_via_openai.chat.completions.create(\n",
    "    model=\"deepseek-r1:1.5b\",\n",
    "    messages=[{\"role\": \"user\", \"content\": \"Please give definitions of some core concepts behind LLMs: a neural network, attention and the transformer\"}]\n",
    ")\n",
    "\n",
    "# print(response.choices[0].message.content)\n",
    "display(Markdown(response.choices[0].message.content))"
   ]
  },
  {
   "cell_type": "markdown",
   "id": "1622d9bb-5c68-4d4e-9ca4-b492c751f898",
   "metadata": {},
   "source": [
    "# NOW the exercise for you\n",
    "\n",
    "Take the code from day1 and incorporate it here, to build a website summarizer that uses Llama 3.2 running locally instead of OpenAI; use either of the above approaches."
   ]
  },
  {
   "cell_type": "code",
   "execution_count": 15,
   "id": "6de38216-6d1c-48c4-877b-86d403f4e0f8",
   "metadata": {
    "execution": {
     "iopub.execute_input": "2025-04-26T01:05:18.615155Z",
     "iopub.status.busy": "2025-04-26T01:05:18.614930Z",
     "iopub.status.idle": "2025-04-26T01:05:18.802537Z",
     "shell.execute_reply": "2025-04-26T01:05:18.801103Z",
     "shell.execute_reply.started": "2025-04-26T01:05:18.615132Z"
    }
   },
   "outputs": [
    {
     "name": "stdout",
     "output_type": "stream",
     "text": [
      "NAME                ID              SIZE      PROCESSOR    UNTIL              \n",
      "deepseek-r1:1.5b    a42b25d8c10a    2.0 GB    100% GPU     4 minutes from now    \n",
      "llama3.2:latest     a80c4f17acd5    4.0 GB    100% GPU     4 minutes from now    \n"
     ]
    }
   ],
   "source": [
    "!ollama ps"
   ]
  },
  {
   "cell_type": "code",
   "execution_count": null,
   "id": "3ef90a22-7ac2-4b95-b9ad-5ef50d791319",
   "metadata": {
    "execution": {
     "iopub.execute_input": "2025-04-26T01:05:59.927612Z",
     "iopub.status.busy": "2025-04-26T01:05:59.927182Z",
     "iopub.status.idle": "2025-04-26T01:06:02.615107Z",
     "shell.execute_reply": "2025-04-26T01:06:02.614508Z",
     "shell.execute_reply.started": "2025-04-26T01:05:59.927591Z"
    }
   },
   "outputs": [],
   "source": [
    "from ollama import chat\n",
    "from ollama import ChatResponse\n",
    "MODEL_LLAMA = 'llama3.2'\n",
    "MODEL_DEEPSEEK = 'deepseek-r1'"
   ]
  },
  {
   "cell_type": "code",
   "execution_count": null,
   "id": "63918652-e5e9-4451-9373-3f1d53c25ebe",
   "metadata": {
    "execution": {
     "iopub.execute_input": "2025-04-26T01:05:59.927612Z",
     "iopub.status.busy": "2025-04-26T01:05:59.927182Z",
     "iopub.status.idle": "2025-04-26T01:06:02.615107Z",
     "shell.execute_reply": "2025-04-26T01:06:02.614508Z",
     "shell.execute_reply.started": "2025-04-26T01:05:59.927591Z"
    }
   },
   "outputs": [],
   "source": [
    "response: ChatResponse = chat(model=MODEL_LLAMA, messages=[\n",
    "  {\n",
    "    'role': 'user',\n",
    "    'content': 'Why is the sky blue?',\n",
    "  },\n",
    "])\n",
    "# print(response['message']['content'])\n",
    "# or access fields directly from the response object"
   ]
  },
  {
   "cell_type": "code",
   "execution_count": 20,
   "id": "2aeb41b1-6da5-4dde-8a47-fb4a0dfe2250",
   "metadata": {
    "execution": {
     "iopub.execute_input": "2025-04-26T01:06:02.616013Z",
     "iopub.status.busy": "2025-04-26T01:06:02.615835Z",
     "iopub.status.idle": "2025-04-26T01:06:02.619931Z",
     "shell.execute_reply": "2025-04-26T01:06:02.619383Z",
     "shell.execute_reply.started": "2025-04-26T01:06:02.615999Z"
    }
   },
   "outputs": [
    {
     "data": {
      "text/markdown": [
       "The sky appears blue because of a phenomenon called scattering, which occurs when sunlight interacts with the tiny molecules of gases in the Earth's atmosphere.\n",
       "\n",
       "Here's a simplified explanation:\n",
       "\n",
       "1. When sunlight enters the Earth's atmosphere, it encounters tiny molecules of gases such as nitrogen (N2) and oxygen (O2).\n",
       "2. These molecules scatter the shorter (blue) wavelengths of light more than the longer (red) wavelengths.\n",
       "3. This is because the smaller molecules are more effective at scattering the shorter wavelengths due to their size and density.\n",
       "4. As a result, the blue light is dispersed in all directions and reaches our eyes from all parts of the sky, giving it a blue appearance.\n",
       "\n",
       "The amount of scattering that occurs also depends on the angle of the sunlight and the position of the observer on Earth. During sunrise and sunset, when the sun's rays pass through more of the atmosphere, the shorter wavelengths are scattered even more, resulting in the reddish hues we see during these times.\n",
       "\n",
       "So, to sum it up, the sky appears blue because of the scattering of sunlight by tiny molecules in the atmosphere, which favors the shorter wavelengths (blue light) over the longer wavelengths (red light)."
      ],
      "text/plain": [
       "<IPython.core.display.Markdown object>"
      ]
     },
     "metadata": {},
     "output_type": "display_data"
    }
   ],
   "source": [
    "display(Markdown(response['message']['content']))"
   ]
  },
  {
   "cell_type": "code",
   "execution_count": 21,
   "id": "189ed1e0-c908-407d-b61a-c6e5beb677f3",
   "metadata": {
    "execution": {
     "iopub.execute_input": "2025-04-26T01:06:21.453530Z",
     "iopub.status.busy": "2025-04-26T01:06:21.453037Z",
     "iopub.status.idle": "2025-04-26T01:06:47.655362Z",
     "shell.execute_reply": "2025-04-26T01:06:47.654659Z",
     "shell.execute_reply.started": "2025-04-26T01:06:21.453507Z"
    }
   },
   "outputs": [],
   "source": [
    "response: ChatResponse = chat(model=MODEL_DEEPSEEK, messages=[\n",
    "  {\n",
    "    'role': 'user',\n",
    "    'content': 'Why is the sky blue?',\n",
    "  },\n",
    "])\n",
    "# print(response['message']['content'])\n",
    "# or access fields directly from the response object"
   ]
  },
  {
   "cell_type": "code",
   "execution_count": 22,
   "id": "194a7820-e3cb-4608-aca8-38d1cdbf29bd",
   "metadata": {
    "execution": {
     "iopub.execute_input": "2025-04-26T01:06:47.656296Z",
     "iopub.status.busy": "2025-04-26T01:06:47.656164Z",
     "iopub.status.idle": "2025-04-26T01:06:47.660098Z",
     "shell.execute_reply": "2025-04-26T01:06:47.659532Z",
     "shell.execute_reply.started": "2025-04-26T01:06:47.656285Z"
    }
   },
   "outputs": [
    {
     "data": {
      "text/markdown": [
       "<think>\n",
       "Okay, so I've been trying to figure out why the sky appears blue. It's one of those things we see every day, but it's actually quite complex, right? Let me start by thinking about what causes the color of the sky in different times and places.\n",
       "\n",
       "When I'm at noon during a clear day, the sun is high in the sky, and the light from the sun has to pass through more of Earth's atmosphere. I remember something about how blue light scatters more than other colors. So maybe that contributes to the sky looking blue when the sun is out. But wait, isn't the sky also sometimes red or orange during sunrise or sunset? That makes me think about how the angle of sunlight affects the color.\n",
       "\n",
       "Maybe it's not just about the amount of light passing through the atmosphere but also how the different wavelengths interact with the molecules and particles in the air. I've heard that blue light has a shorter wavelength compared to, say, red or orange. Since shorter wavelengths are scattered more by the atmosphere due to something called Rayleigh scattering, that might explain why the sky is blue during the day.\n",
       "\n",
       "But then, why does the sky turn red at sunrise and sunset? Oh right, it's because of something called Rayleigh scattering again but combined with something else—dust or pollution particles in the air. When the sun is near the horizon, its light has to pass through more of Earth's atmosphere. The blue light gets scattered away by the molecules, leaving the longer wavelengths like red and orange to dominate. That makes the sky look red at sunrise and sunset.\n",
       "\n",
       "Wait, but when it's during the day, without looking directly at the sun, we still see a lot of blue because the higher blue frequencies haven't been scattered out yet. So that might be why we don't notice the blue as much unless we're right next to the sun or take a picture with a long exposure.\n",
       "\n",
       "Also, I think about cloud cover affecting the color too. If there are clouds in the sky, they can block some of the sunlight and alter the color. Plus, pollution affects it because particles in the air scatter blue light more than other colors, making the sky appear blue even on overcast days or when there's a lot of particulate matter.\n",
       "\n",
       "I should also consider the angle of the sun's rays. Direct sunlight at noon has fewer atmospheric molecules to pass through compared to lower angles near sunrise or sunset. So less scattering means we see the underlying color without much blue filtering it out, making it appear more pure. Whereas when the sun is near the horizon, its light has to go through a longer path, and more of the blue gets scattered away by the atmosphere.\n",
       "\n",
       "But why isn't the sky always blue? Maybe because other wavelengths like green are scattered less or something else is dominant. I think it's also about the type of molecules in the air—like ozone plays a role too. Ozone absorbs some ultraviolet light but scatters others, so maybe that contributes to the blue color as well.\n",
       "\n",
       "So putting this all together: the sky appears blue during the day when sunlight passes through Earth's atmosphere, and shorter blue wavelengths are scattered more due to Rayleigh scattering. At sunrise and sunset, the longer red and orange wavelengths dominate because they pass through less of the atmosphere or get through the particles that scatter blue light away.\n",
       "</think>\n",
       "\n",
       "The sky appears blue primarily due to the interaction between sunlight and Earth's atmosphere. Here's a detailed explanation:\n",
       "\n",
       "1. **Rayleigh Scattering**: When sunlight enters Earth's atmosphere, it interacts with molecules like nitrogen and oxygen. Shorter wavelengths (like blue) are scattered more efficiently than longer wavelengths (red, orange). This phenomenon is known as Rayleigh scattering.\n",
       "\n",
       "2. **Daytime Sky Color**: During the day, when the sun is high, light passes through less atmosphere. The shorter blue wavelengths get scattered away by atmospheric molecules, leaving longer wavelengths like green, yellow, and red to dominate. However, our eyes are more sensitive to blue, making it seem prominent during midday.\n",
       "\n",
       "3. **Sunrise and Sunset**: At these times, sunlight travels through a greater thickness of the atmosphere. Blue light is scattered out, leaving longer wavelengths that appear redder or orange. This effect is further enhanced by dust or pollution particles in the air, which absorb more blue light, amplifying the red or orange hues.\n",
       "\n",
       "4. **Cloud Cover and Pollution**: Clouds can block sunlight, altering the sky's color. Additionally, pollution with particulate matter scatters blue light more, contributing to a blue sky even on overcast days.\n",
       "\n",
       "5. **Angle of Sunlight**: Direct sunlight at noon has a longer path through less atmosphere, allowing more blue light to reach our eyes. Lower angles near sunrise and sunset result in scattered blue being filtered out, leaving the longer wavelengths dominant.\n",
       "\n",
       "In summary, the sky's color varies based on the interaction between sunlight, atmospheric composition, and geometric factors like sun position. This explains why we see a blue sky during the day, red hues at sunrise and sunset, and other colors when conditions change."
      ],
      "text/plain": [
       "<IPython.core.display.Markdown object>"
      ]
     },
     "metadata": {},
     "output_type": "display_data"
    }
   ],
   "source": [
    "display(Markdown(response['message']['content']))"
   ]
  },
  {
   "cell_type": "code",
   "execution_count": 23,
   "id": "6a610395-3674-4100-b120-b37396caea54",
   "metadata": {
    "execution": {
     "iopub.execute_input": "2025-04-26T01:07:45.170198Z",
     "iopub.status.busy": "2025-04-26T01:07:45.169147Z",
     "iopub.status.idle": "2025-04-26T01:07:45.173821Z",
     "shell.execute_reply": "2025-04-26T01:07:45.173267Z",
     "shell.execute_reply.started": "2025-04-26T01:07:45.170181Z"
    }
   },
   "outputs": [],
   "source": [
    "# A class to represent a Webpage\n",
    "# If you're not familiar with Classes, check out the \"Intermediate Python\" notebook\n",
    "\n",
    "# Some websites need you to use proper headers when fetching them:\n",
    "headers = {\n",
    " \"User-Agent\": \"Mozilla/5.0 (Windows NT 10.0; Win64; x64) AppleWebKit/537.36 (KHTML, like Gecko) Chrome/117.0.0.0 Safari/537.36\"\n",
    "}\n",
    "\n",
    "class Website:\n",
    "\n",
    "    def __init__(self, url):\n",
    "        \"\"\"\n",
    "        Create this Website object from the given url using the BeautifulSoup library\n",
    "        \"\"\"\n",
    "        self.url = url\n",
    "        response = requests.get(url, headers=headers)\n",
    "        soup = BeautifulSoup(response.content, 'html.parser')\n",
    "        self.title = soup.title.string if soup.title else \"No title found\"\n",
    "        for irrelevant in soup.body([\"script\", \"style\", \"img\", \"input\"]):\n",
    "            irrelevant.decompose()\n",
    "        self.text = soup.body.get_text(separator=\"\\n\", strip=True)"
   ]
  },
  {
   "cell_type": "code",
   "execution_count": 47,
   "id": "a205c2f8-95bc-4399-afd1-f6252fb42932",
   "metadata": {
    "execution": {
     "iopub.execute_input": "2025-04-26T15:32:19.365577Z",
     "iopub.status.busy": "2025-04-26T15:32:19.365054Z",
     "iopub.status.idle": "2025-04-26T15:32:19.715192Z",
     "shell.execute_reply": "2025-04-26T15:32:19.714460Z",
     "shell.execute_reply.started": "2025-04-26T15:32:19.365555Z"
    }
   },
   "outputs": [
    {
     "name": "stdout",
     "output_type": "stream",
     "text": [
      "Home - Edward Donner\n",
      "Home\n",
      "Connect Four\n",
      "Outsmart\n",
      "An arena that pits LLMs against each other in a battle of diplomacy and deviousness\n",
      "About\n",
      "Posts\n",
      "Well, hi there.\n",
      "I’m Ed. I like writing code and experimenting with LLMs, and hopefully you’re here because you do too. I also enjoy DJing (but I’m badly out of practice), amateur electronic music production (\n",
      "very\n",
      "amateur) and losing myself in\n",
      "Hacker News\n",
      ", nodding my head sagely to things I only half understand.\n",
      "I’m the co-founder and CTO of\n",
      "Nebula.io\n",
      ". We’re applying AI to a field where it can make a massive, positive impact: helping people discover their potential and pursue their reason for being. Recruiters use our product today to source, understand, engage and manage talent. I’m previously the founder and CEO of AI startup untapt,\n",
      "acquired in 2021\n",
      ".\n",
      "We work with groundbreaking, proprietary LLMs verticalized for talent, we’ve\n",
      "patented\n",
      "our matching model, and our award-winning platform has happy customers and tons of press coverage.\n",
      "Connect\n",
      "with me for more!\n",
      "April 21, 2025\n",
      "The Complete Agentic AI Engineering Course\n",
      "January 23, 2025\n",
      "LLM Workshop – Hands-on with Agents – resources\n",
      "December 21, 2024\n",
      "Welcome, SuperDataScientists!\n",
      "November 13, 2024\n",
      "Mastering AI and LLM Engineering – Resources\n",
      "Navigation\n",
      "Home\n",
      "Connect Four\n",
      "Outsmart\n",
      "An arena that pits LLMs against each other in a battle of diplomacy and deviousness\n",
      "About\n",
      "Posts\n",
      "Get in touch\n",
      "ed [at] edwarddonner [dot] com\n",
      "www.edwarddonner.com\n",
      "Follow me\n",
      "LinkedIn\n",
      "Twitter\n",
      "Facebook\n",
      "Subscribe to newsletter\n",
      "Type your email…\n",
      "Subscribe\n"
     ]
    }
   ],
   "source": [
    "url = \"https://edwarddonner.com\"\n",
    "website = Website(url)\n",
    "print(website.title)\n",
    "print(website.text)"
   ]
  },
  {
   "cell_type": "code",
   "execution_count": null,
   "id": "0df0b7e5-ff64-4b83-a62a-36d41a0bf247",
   "metadata": {},
   "outputs": [],
   "source": []
  },
  {
   "cell_type": "markdown",
   "id": "ff04bff5-1d0a-4c34-8c66-ce67ac8630dc",
   "metadata": {},
   "source": [
    "## Types of prompts\n",
    "\n",
    "You may know this already - but if not, you will get very familiar with it!\n",
    "\n",
    "Models like GPT4o have been trained to receive instructions in a particular way.\n",
    "\n",
    "They expect to receive:\n",
    "\n",
    "**A system prompt** that tells them what task they are performing and what tone they should use\n",
    "\n",
    "**A user prompt** -- the conversation starter that they should reply to"
   ]
  },
  {
   "cell_type": "code",
   "execution_count": 26,
   "id": "50c3757c-ba69-4d53-b500-9129528ca050",
   "metadata": {
    "execution": {
     "iopub.execute_input": "2025-04-26T01:08:46.684788Z",
     "iopub.status.busy": "2025-04-26T01:08:46.684281Z",
     "iopub.status.idle": "2025-04-26T01:08:46.687715Z",
     "shell.execute_reply": "2025-04-26T01:08:46.687164Z",
     "shell.execute_reply.started": "2025-04-26T01:08:46.684767Z"
    }
   },
   "outputs": [],
   "source": [
    "# Define our system prompt - you can experiment with this later, changing the last sentence to 'Respond in markdown in Spanish.\"\n",
    "\n",
    "system_prompt = \"You are an assistant that analyzes the contents of a website \\\n",
    "and provides a short summary, ignoring text that might be navigation related. \\\n",
    "Respond in markdown.\""
   ]
  },
  {
   "cell_type": "code",
   "execution_count": 27,
   "id": "0120fb30-32df-4927-ac84-29e0ea30b235",
   "metadata": {
    "execution": {
     "iopub.execute_input": "2025-04-26T01:08:48.885114Z",
     "iopub.status.busy": "2025-04-26T01:08:48.884884Z",
     "iopub.status.idle": "2025-04-26T01:08:48.888944Z",
     "shell.execute_reply": "2025-04-26T01:08:48.888376Z",
     "shell.execute_reply.started": "2025-04-26T01:08:48.885101Z"
    }
   },
   "outputs": [],
   "source": [
    "# A function that writes a User Prompt that asks for summaries of websites:\n",
    "\n",
    "def user_prompt_for(website):\n",
    "    user_prompt = f\"You are looking at a website titled {website.title}\"\n",
    "    user_prompt += \"\\nThe contents of this website is as follows; \\\n",
    "please provide a short summary of this website in markdown. \\\n",
    "If it includes news or announcements, then summarize these too.\\n\\n\"\n",
    "    user_prompt += website.text\n",
    "    return user_prompt"
   ]
  },
  {
   "cell_type": "code",
   "execution_count": 48,
   "id": "65de57cf-56c3-4243-8152-89119b30a4fd",
   "metadata": {
    "execution": {
     "iopub.execute_input": "2025-04-26T15:32:46.022528Z",
     "iopub.status.busy": "2025-04-26T15:32:46.022119Z",
     "iopub.status.idle": "2025-04-26T15:32:46.026585Z",
     "shell.execute_reply": "2025-04-26T15:32:46.025910Z",
     "shell.execute_reply.started": "2025-04-26T15:32:46.022508Z"
    }
   },
   "outputs": [
    {
     "name": "stdout",
     "output_type": "stream",
     "text": [
      "System Prompt:\n",
      "------------\n",
      "You are an assistant that analyzes the contents of a website and provides a short summary, ignoring text that might be navigation related. Respond in markdown.\n",
      "\n",
      "User Prompt:\n",
      "------------\n",
      "You are looking at a website titled Home - Edward Donner\n",
      "The contents of this website is as follows; please provide a short summary of this website in markdown. If it includes news or announcements, then summarize these too.\n",
      "\n",
      "Home\n",
      "Connect Four\n",
      "Outsmart\n",
      "An arena that pits LLMs against each other in a battle of diplomacy and deviousness\n",
      "About\n",
      "Posts\n",
      "Well, hi there.\n",
      "I’m Ed. I like writing code and experimenting with LLMs, and hopefully you’re here because you do too. I also enjoy DJing (but I’m badly out of practice), amateur electronic music production (\n",
      "very\n",
      "amateur) and losing myself in\n",
      "Hacker News\n",
      ", nodding my head sagely to things I only half understand.\n",
      "I’m the co-founder and CTO of\n",
      "Nebula.io\n",
      ". We’re applying AI to a field where it can make a massive, positive impact: helping people discover their potential and pursue their reason for being. Recruiters use our product today to source, understand, engage and manage talent. I’m previously the founder and CEO of AI startup untapt,\n",
      "acquired in 2021\n",
      ".\n",
      "We work with groundbreaking, proprietary LLMs verticalized for talent, we’ve\n",
      "patented\n",
      "our matching model, and our award-winning platform has happy customers and tons of press coverage.\n",
      "Connect\n",
      "with me for more!\n",
      "April 21, 2025\n",
      "The Complete Agentic AI Engineering Course\n",
      "January 23, 2025\n",
      "LLM Workshop – Hands-on with Agents – resources\n",
      "December 21, 2024\n",
      "Welcome, SuperDataScientists!\n",
      "November 13, 2024\n",
      "Mastering AI and LLM Engineering – Resources\n",
      "Navigation\n",
      "Home\n",
      "Connect Four\n",
      "Outsmart\n",
      "An arena that pits LLMs against each other in a battle of diplomacy and deviousness\n",
      "About\n",
      "Posts\n",
      "Get in touch\n",
      "ed [at] edwarddonner [dot] com\n",
      "www.edwarddonner.com\n",
      "Follow me\n",
      "LinkedIn\n",
      "Twitter\n",
      "Facebook\n",
      "Subscribe to newsletter\n",
      "Type your email…\n",
      "Subscribe\n"
     ]
    }
   ],
   "source": [
    "print(\"System Prompt:\")\n",
    "print(\"------------\")\n",
    "print(system_prompt)\n",
    "print()\n",
    "print(\"User Prompt:\")\n",
    "print(\"------------\")\n",
    "print(user_prompt_for(website))"
   ]
  },
  {
   "cell_type": "code",
   "execution_count": 70,
   "id": "0a17245a-c993-49d2-ab56-0867a8aff169",
   "metadata": {
    "execution": {
     "iopub.execute_input": "2025-04-26T15:41:30.867029Z",
     "iopub.status.busy": "2025-04-26T15:41:30.866347Z",
     "iopub.status.idle": "2025-04-26T15:41:30.871511Z",
     "shell.execute_reply": "2025-04-26T15:41:30.870695Z",
     "shell.execute_reply.started": "2025-04-26T15:41:30.867002Z"
    }
   },
   "outputs": [],
   "source": [
    "def summarize(url, model = MODEL_LLAMA):\n",
    "    website = Website(url)\n",
    "    messages = [\n",
    "        {\"role\": \"system\", \"content\": system_prompt},\n",
    "        {\"role\": \"user\", \"content\": user_prompt_for(website)}\n",
    "    ]\n",
    "    response = ollama.chat(model=model, messages=messages)\n",
    "    return response['message']['content'], website.text"
   ]
  },
  {
   "cell_type": "code",
   "execution_count": 71,
   "id": "ada813c2-6a50-4b33-be96-612e9f14ac16",
   "metadata": {
    "execution": {
     "iopub.execute_input": "2025-04-26T15:41:40.795956Z",
     "iopub.status.busy": "2025-04-26T15:41:40.795510Z",
     "iopub.status.idle": "2025-04-26T15:41:43.820806Z",
     "shell.execute_reply": "2025-04-26T15:41:43.820289Z",
     "shell.execute_reply.started": "2025-04-26T15:41:40.795936Z"
    }
   },
   "outputs": [
    {
     "name": "stdout",
     "output_type": "stream",
     "text": [
      "Home\n",
      "Connect Four\n",
      "Outsmart\n",
      "An arena that pits LLMs against each other in a battle of diplomacy and deviousness\n",
      "About\n",
      "Posts\n",
      "Well, hi there.\n",
      "I’m Ed. I like writing code and experimenting with LLMs, and hopefully you’re here because you do too. I also enjoy DJing (but I’m badly out of practice), amateur electronic music production (\n",
      "very\n",
      "amateur) and losing myself in\n",
      "Hacker News\n",
      ", nodding my head sagely to things I only half understand.\n",
      "I’m the co-founder and CTO of\n",
      "Nebula.io\n",
      ". We’re applying AI to a field where it can make a massive, positive impact: helping people discover their potential and pursue their reason for being. Recruiters use our product today to source, understand, engage and manage talent. I’m previously the founder and CEO of AI startup untapt,\n",
      "acquired in 2021\n",
      ".\n",
      "We work with groundbreaking, proprietary LLMs verticalized for talent, we’ve\n",
      "patented\n",
      "our matching model, and our award-winning platform has happy customers and tons of press coverage.\n",
      "Connect\n",
      "with me for more!\n",
      "April 21, 2025\n",
      "The Complete Agentic AI Engineering Course\n",
      "January 23, 2025\n",
      "LLM Workshop – Hands-on with Agents – resources\n",
      "December 21, 2024\n",
      "Welcome, SuperDataScientists!\n",
      "November 13, 2024\n",
      "Mastering AI and LLM Engineering – Resources\n",
      "Navigation\n",
      "Home\n",
      "Connect Four\n",
      "Outsmart\n",
      "An arena that pits LLMs against each other in a battle of diplomacy and deviousness\n",
      "About\n",
      "Posts\n",
      "Get in touch\n",
      "ed [at] edwarddonner [dot] com\n",
      "www.edwarddonner.com\n",
      "Follow me\n",
      "LinkedIn\n",
      "Twitter\n",
      "Facebook\n",
      "Subscribe to newsletter\n",
      "Type your email…\n",
      "Subscribe\n"
     ]
    },
    {
     "data": {
      "text/markdown": [
       "# Website Summary\n",
       "### Overview\n",
       "The website \"Home - Edward Donner\" is a personal blog and portfolio site for Ed Donner, the co-founder and CTO of Nebula.io. The site showcases his interests in AI, writing code, music production, and DJing.\n",
       "\n",
       "### News and Announcements\n",
       "#### Upcoming Courses\n",
       "\n",
       "* **Complete Agentic AI Engineering Course**: Scheduled for April 21, 2025.\n",
       "* **Mastering AI and LLM Engineering – Resources**: Released on November 13, 2024.\n",
       "* **LLM Workshop – Hands-on with Agents – resources**: Released on December 21, 2024.\n",
       "\n",
       "#### Recent Posts\n",
       "\n",
       "* **Welcome, SuperDataScientists!**: Announced on November 13, 2024.\n",
       "* **New Newsletter Subscription**: Available for users to subscribe their email address.\n",
       "\n",
       "### About the Creator\n",
       "Ed Donner is a co-founder and CTO of Nebula.io, an AI startup that applies machine learning to help people discover their potential. He also founded AI startup untapt, which was acquired in 2021."
      ],
      "text/plain": [
       "<IPython.core.display.Markdown object>"
      ]
     },
     "metadata": {},
     "output_type": "display_data"
    }
   ],
   "source": [
    "summary, website = summarize(url)\n",
    "display(Markdown(summary))"
   ]
  },
  {
   "cell_type": "code",
   "execution_count": 62,
   "id": "8bb9be8d-b2bd-42ce-a3e3-43c01b4982c5",
   "metadata": {
    "execution": {
     "iopub.execute_input": "2025-04-26T15:37:38.520996Z",
     "iopub.status.busy": "2025-04-26T15:37:38.520171Z",
     "iopub.status.idle": "2025-04-26T15:37:56.721092Z",
     "shell.execute_reply": "2025-04-26T15:37:56.719691Z",
     "shell.execute_reply.started": "2025-04-26T15:37:38.520974Z"
    }
   },
   "outputs": [
    {
     "data": {
      "text/markdown": [
       "<think>\n",
       "Alright, so I need to analyze this website content provided by the user and give a short summary ignoring navigation. Let's start by reading through each section.\n",
       "\n",
       "The main page is titled \"Home - Edward Donner.\" The About section introduces Edward as the founder of Nebula.io, an AI startup acquired in 2021. He mentions his other interests like writing code, experimenting with LLMs, DJing, and music production. That's a lot to take in, but I'll note his professional background.\n",
       "\n",
       "He talks about being co-founder and CTO at Nebula.io, focusing on applying AI to help people discover their potential. They use proprietary LLMs vertically integrated for talent matching and have some patents and press coverage. Looks like they're quite successful.\n",
       "\n",
       "Then there are posts from April 21st to November 13th about courses and workshops related to agentic AI engineering and LLMs. These seem promotional, so I should include them as news or announcements.\n",
       "\n",
       "The website also has navigation links but I need to ignore those. So the summary will focus on Edward's role, company details, his other interests, and the posted content.\n",
       "\n",
       "I'll structure this into sections: About, News & Announcements, and Contact Information for clarity.\n",
       "</think>\n",
       "\n",
       "```markdown\n",
       "# Edward Donner - Home\n",
       "\n",
       "## About\n",
       "Edward Donner is the co-founder and Chief Technology Officer (CTO) of Nebula.io, an AI startup acquired in 2021. The company specializes in applying AI to help people discover their potential and pursue their purpose. Nebula.io uses proprietary large language models (LLMs) that are vertically integrated for talent matching.\n",
       "\n",
       "Edward also serves as the founder and CEO of the previously acquired AI startup untapt. His professional interests include writing code, experimenting with LLMs, DJing (though he's out of practice), and music production (which is also quite amateur).\n",
       "\n",
       "## News & Announcements\n",
       "- **April 21, 2025**: The Complete Agentic AI Engineering Course\n",
       "- **January 23, 2025**: LLM Workshop – Hands-on with Agents – resources\n",
       "- **December 21, 2024**: Welcome, SuperDataScientists!\n",
       "- **November 13, 2024**: Mastering AI and LLM Engineering – Resources\n",
       "\n",
       "## Contact Information\n",
       "- Email: ed [at] edwarddonner [dot] com\n",
       "- Website: www.edwarddonner.com\n",
       "- Social Media:\n",
       "  - LinkedIn\n",
       "  - Twitter\n",
       "  - Facebook\n",
       "- Newsletter Subscription: Type your email and subscribe.\n",
       "```"
      ],
      "text/plain": [
       "<IPython.core.display.Markdown object>"
      ]
     },
     "metadata": {},
     "output_type": "display_data"
    }
   ],
   "source": [
    "summary = summarize(url, model=MODEL_DEEPSEEK)\n",
    "display(Markdown(summary))"
   ]
  },
  {
   "cell_type": "code",
   "execution_count": 73,
   "id": "53cf58b7-9126-454c-864b-0dac8a2c78ac",
   "metadata": {
    "execution": {
     "iopub.execute_input": "2025-04-26T15:42:10.348338Z",
     "iopub.status.busy": "2025-04-26T15:42:10.348088Z",
     "iopub.status.idle": "2025-04-26T15:42:19.470254Z",
     "shell.execute_reply": "2025-04-26T15:42:19.469599Z",
     "shell.execute_reply.started": "2025-04-26T15:42:10.348321Z"
    }
   },
   "outputs": [
    {
     "data": {
      "text/markdown": [
       "Here are the top news stories and trending topics from CNN:\n",
       "\n",
       "**Top Stories**\n",
       "\n",
       "1. **Pope Francis' Death**: The Catholic Church has announced the death of Pope Francis, who was 96 years old. He is the first pope to die in office since Pope John Paul II.\n",
       "2. **Gymnastics Rivalry**: Simone Biles says her rivalry with friend Rebeca Andrade has \"pushed the sport forward\".\n",
       "3. **Heart Transplant**: A 3-week-old baby received a heart transplant 14 years ago and gained a 'donor mom'.\n",
       "4. **Russian Artist Reveals Trump Portrait**: Russian artist Elena Golikova reveals mystery Trump portrait gifted by Putin to US President.\n",
       "5. **Drones on Mount Everest**: Drones can deliver supplies on Mount Everest this year, and it may change climbing forever.\n",
       "\n",
       "**Trending Topics**\n",
       "\n",
       "1. **Climate Change**: The climate crisis is getting more attention as the world struggles with extreme weather events and rising temperatures.\n",
       "2. **Space Exploration**: NASA is planning to send humans back to the moon by 2025 under a new Artemis program.\n",
       "3. **Gaming**: The gaming industry is growing rapidly, with new titles and platforms emerging every year.\n",
       "4. **Beauty Trends**: Beauty trends are shifting towards sustainability and inclusivity, with more people opting for eco-friendly and cruelty-free products.\n",
       "5. **Sports**: The sports world is filled with exciting events, including the Super Bowl, World Cup, and Olympics.\n",
       "\n",
       "**Business**\n",
       "\n",
       "1. **Markets**: Markets are experiencing volatility due to global economic uncertainty and rising inflation.\n",
       "2. **Tech**: Tech companies are innovating and disrupting traditional industries, but also facing regulatory challenges.\n",
       "3. **Finance**: The finance industry is evolving with new technologies and regulations, including the introduction of digital currencies.\n",
       "\n",
       "**Entertainment**\n",
       "\n",
       "1. **Movies**: New movies are being released every week, including blockbuster franchises and original films.\n",
       "2. **TV Shows**: TV shows are getting more popular, with streaming services offering a vast library of content.\n",
       "3. **Music**: Music is evolving with new genres and artists emerging, but also facing challenges from declining sales.\n",
       "\n",
       "**Health**\n",
       "\n",
       "1. **Fitness**: Fitness trends are shifting towards sustainable and inclusive practices, with more people prioritizing mental health.\n",
       "2. **Wellness**: Wellness is becoming a growing industry, with products and services focused on self-care and personal growth.\n",
       "3. **Diseases**: New diseases are emerging, including the ongoing COVID-19 pandemic.\n",
       "\n",
       "**Politics**\n",
       "\n",
       "1. **Elections**: Elections are being held in various countries, with significant implications for global politics.\n",
       "2. **SCOTUS**: The US Supreme Court is making headlines with high-profile cases and decisions.\n",
       "3. **Congress**: Congress is working on new legislation, including bills related to healthcare and climate change.\n",
       "\n",
       "**Sports**\n",
       "\n",
       "1. **Pro Football**: The NFL season is underway, with exciting matches and storylines emerging.\n",
       "2. **College Football**: College football is gaining popularity, with top-ranked teams competing for championships.\n",
       "3. **Baseball**: Baseball is experiencing a resurgence in popularity, with new players and teams making headlines.\n",
       "\n",
       "**Weather**\n",
       "\n",
       "1. **Climate Change**: Climate change is having significant impacts on global weather patterns, including rising temperatures and extreme events.\n",
       "2. **Natural Disasters**: Natural disasters are becoming more frequent and intense, affecting communities worldwide.\n",
       "3. **Weather Events**: Weather events are getting more attention, with scientists studying the causes and consequences of these events.\n",
       "\n",
       "These are just a few of the top news stories and trending topics from CNN."
      ],
      "text/plain": [
       "<IPython.core.display.Markdown object>"
      ]
     },
     "metadata": {},
     "output_type": "display_data"
    }
   ],
   "source": [
    "summary, website = summarize(\"https://www.cnn.com\")\n",
    "display(Markdown(summary))"
   ]
  },
  {
   "cell_type": "code",
   "execution_count": 74,
   "id": "515de25c-7b63-4561-b514-9169c8d7b911",
   "metadata": {
    "execution": {
     "iopub.execute_input": "2025-04-26T15:42:19.471574Z",
     "iopub.status.busy": "2025-04-26T15:42:19.471225Z",
     "iopub.status.idle": "2025-04-26T15:42:23.452349Z",
     "shell.execute_reply": "2025-04-26T15:42:23.451559Z",
     "shell.execute_reply.started": "2025-04-26T15:42:19.471559Z"
    }
   },
   "outputs": [
    {
     "data": {
      "text/markdown": [
       "Here are some articles and topics related to finance, career development, and personal growth that can be found on the website:\n",
       "\n",
       "1. **\"How to Get a Job in Finance: A Step-by-Step Guide\"**: An article providing advice and guidance for those looking to break into the financial industry.\n",
       "2. **\"25 of the Best Careers to Pursue Right Now\"**: A listicle featuring various high-paying and fulfilling career options, including finance, law, medicine, and technology.\n",
       "3. **\"How to Create a Budget That Works For You\"**: An article offering tips and strategies for managing finances effectively, including creating a budget, paying off debt, and saving money.\n",
       "4. **\"How to Invest Your Money: A Beginner's Guide\"**: An article explaining the basics of investing, including different types of investments, risk management, and long-term goals.\n",
       "5. **\"Why You Should Take a Break from Work to Travel (And How to Do It)\"**: An article highlighting the benefits of taking time off to explore new places and experiences, with practical advice on how to make it happen.\n",
       "\n",
       "Additionally, you can find articles on:\n",
       "\n",
       "* Entrepreneurship and business\n",
       "* Career development and education\n",
       "* Personal finance and wealth management\n",
       "* Health and wellness\n",
       "* Travel and adventure\n",
       "\n",
       "Note: The content is subject to change, and not all topics may be available at the time of reading."
      ],
      "text/plain": [
       "<IPython.core.display.Markdown object>"
      ]
     },
     "metadata": {},
     "output_type": "display_data"
    }
   ],
   "source": [
    "summary, website = summarize(\"https://www.bbc.co.uk\")\n",
    "display(Markdown(summary))"
   ]
  },
  {
   "cell_type": "code",
   "execution_count": 75,
   "id": "1abac3e8-58dd-4d0a-9b64-6d2f257c3b24",
   "metadata": {
    "execution": {
     "iopub.execute_input": "2025-04-26T15:42:23.453429Z",
     "iopub.status.busy": "2025-04-26T15:42:23.453025Z",
     "iopub.status.idle": "2025-04-26T15:42:23.457754Z",
     "shell.execute_reply": "2025-04-26T15:42:23.457028Z",
     "shell.execute_reply.started": "2025-04-26T15:42:23.453413Z"
    }
   },
   "outputs": [
    {
     "data": {
      "text/plain": [
       "'Here are some articles and topics related to finance, career development, and personal growth that can be found on the website:\\n\\n1. **\"How to Get a Job in Finance: A Step-by-Step Guide\"**: An article providing advice and guidance for those looking to break into the financial industry.\\n2. **\"25 of the Best Careers to Pursue Right Now\"**: A listicle featuring various high-paying and fulfilling career options, including finance, law, medicine, and technology.\\n3. **\"How to Create a Budget That Works For You\"**: An article offering tips and strategies for managing finances effectively, including creating a budget, paying off debt, and saving money.\\n4. **\"How to Invest Your Money: A Beginner\\'s Guide\"**: An article explaining the basics of investing, including different types of investments, risk management, and long-term goals.\\n5. **\"Why You Should Take a Break from Work to Travel (And How to Do It)\"**: An article highlighting the benefits of taking time off to explore new places and experiences, with practical advice on how to make it happen.\\n\\nAdditionally, you can find articles on:\\n\\n* Entrepreneurship and business\\n* Career development and education\\n* Personal finance and wealth management\\n* Health and wellness\\n* Travel and adventure\\n\\nNote: The content is subject to change, and not all topics may be available at the time of reading.'"
      ]
     },
     "execution_count": 75,
     "metadata": {},
     "output_type": "execute_result"
    }
   ],
   "source": [
    "summary"
   ]
  },
  {
   "cell_type": "code",
   "execution_count": null,
   "id": "0c9e406e-8f2f-4ddb-8362-caf78216ab00",
   "metadata": {},
   "outputs": [],
   "source": []
  },
  {
   "cell_type": "code",
   "execution_count": null,
   "id": "6ed4c381-9a36-497b-a4b4-41654a1fd30b",
   "metadata": {},
   "outputs": [],
   "source": []
  }
 ],
 "metadata": {
  "kernelspec": {
   "display_name": "Python [conda env:llms]",
   "language": "python",
   "name": "conda-env-llms-py"
  },
  "language_info": {
   "codemirror_mode": {
    "name": "ipython",
    "version": 3
   },
   "file_extension": ".py",
   "mimetype": "text/x-python",
   "name": "python",
   "nbconvert_exporter": "python",
   "pygments_lexer": "ipython3",
   "version": "3.11.12"
  }
 },
 "nbformat": 4,
 "nbformat_minor": 5
}
